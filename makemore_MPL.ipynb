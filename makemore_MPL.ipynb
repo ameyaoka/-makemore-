{
  "nbformat": 4,
  "nbformat_minor": 0,
  "metadata": {
    "colab": {
      "provenance": [],
      "authorship_tag": "ABX9TyN2YDs10SlVV5uirBziFOWE",
      "include_colab_link": true
    },
    "kernelspec": {
      "name": "python3",
      "display_name": "Python 3"
    },
    "language_info": {
      "name": "python"
    }
  },
  "cells": [
    {
      "cell_type": "markdown",
      "metadata": {
        "id": "view-in-github",
        "colab_type": "text"
      },
      "source": [
        "<a href=\"https://colab.research.google.com/github/ameyaoka/-makemore-/blob/main/makemore_MPL.ipynb\" target=\"_parent\"><img src=\"https://colab.research.google.com/assets/colab-badge.svg\" alt=\"Open In Colab\"/></a>"
      ]
    },
    {
      "cell_type": "markdown",
      "source": [
        "# A neural probabilistic language model\n",
        "\n"
      ],
      "metadata": {
        "id": "m6q_ERkYeDTo"
      }
    },
    {
      "cell_type": "markdown",
      "source": [
        "### mlp - multilayer perceptron"
      ],
      "metadata": {
        "id": "KbWCCtNkHD3U"
      }
    },
    {
      "cell_type": "code",
      "source": [
        "import torch\n",
        "import torch.nn.functional as F\n",
        "import matplotlib.pyplot\n",
        "%matplotlib inline"
      ],
      "metadata": {
        "id": "iCbgRqDyI2rI"
      },
      "execution_count": null,
      "outputs": []
    },
    {
      "cell_type": "markdown",
      "source": [
        "### Download data"
      ],
      "metadata": {
        "id": "jJe-CrFWqEr0"
      }
    },
    {
      "cell_type": "code",
      "source": [
        "! wget https://raw.githubusercontent.com/karpathy/makemore/master/names.txt"
      ],
      "metadata": {
        "colab": {
          "base_uri": "https://localhost:8080/"
        },
        "id": "xVzq1zRUKkUS",
        "outputId": "cb599abf-d913-4a2a-d70c-6f3f1b160d4e"
      },
      "execution_count": null,
      "outputs": [
        {
          "output_type": "stream",
          "name": "stdout",
          "text": [
            "--2023-06-20 09:22:49--  https://raw.githubusercontent.com/karpathy/makemore/master/names.txt\n",
            "Resolving raw.githubusercontent.com (raw.githubusercontent.com)... 185.199.108.133, 185.199.109.133, 185.199.110.133, ...\n",
            "Connecting to raw.githubusercontent.com (raw.githubusercontent.com)|185.199.108.133|:443... connected.\n",
            "HTTP request sent, awaiting response... 200 OK\n",
            "Length: 228145 (223K) [text/plain]\n",
            "Saving to: ‘names.txt.2’\n",
            "\n",
            "\rnames.txt.2           0%[                    ]       0  --.-KB/s               \rnames.txt.2         100%[===================>] 222.80K  --.-KB/s    in 0.02s   \n",
            "\n",
            "2023-06-20 09:22:49 (12.5 MB/s) - ‘names.txt.2’ saved [228145/228145]\n",
            "\n"
          ]
        }
      ]
    },
    {
      "cell_type": "code",
      "source": [
        "words =  open('names.txt','r').read().splitlines()"
      ],
      "metadata": {
        "id": "e16aXIMzKYqa"
      },
      "execution_count": null,
      "outputs": []
    },
    {
      "cell_type": "code",
      "source": [
        "words[:10]"
      ],
      "metadata": {
        "colab": {
          "base_uri": "https://localhost:8080/"
        },
        "id": "XJxlccMmKri1",
        "outputId": "200a37b5-8be5-4e4a-de92-f4dc91afc0fa"
      },
      "execution_count": null,
      "outputs": [
        {
          "output_type": "execute_result",
          "data": {
            "text/plain": [
              "['emma',\n",
              " 'olivia',\n",
              " 'ava',\n",
              " 'isabella',\n",
              " 'sophia',\n",
              " 'charlotte',\n",
              " 'mia',\n",
              " 'amelia',\n",
              " 'harper',\n",
              " 'evelyn']"
            ]
          },
          "metadata": {},
          "execution_count": 131
        }
      ]
    },
    {
      "cell_type": "code",
      "source": [
        "len(words) # total vocabulary"
      ],
      "metadata": {
        "colab": {
          "base_uri": "https://localhost:8080/"
        },
        "id": "IsNY6m1DKvL8",
        "outputId": "f10fbd66-3f61-4d6f-d6c5-84b7ed37f4e2"
      },
      "execution_count": null,
      "outputs": [
        {
          "output_type": "execute_result",
          "data": {
            "text/plain": [
              "32033"
            ]
          },
          "metadata": {},
          "execution_count": 132
        }
      ]
    },
    {
      "cell_type": "markdown",
      "source": [
        "1.  The set() function is used to remove duplicate characters, ensuring each character appears only once.\n",
        "  - list() is then used to convert the set back into a list.'\n",
        "  - sorted() is applied to sort the characters in alphabetical order.\n",
        "2.  stoi : we create a maping from chars in char list to integers.\n",
        "  - enumerate iterates over elements in char  and return (index , element) pair .\n",
        "  - i represents position of element in chars and s represents element itself.\n",
        "  - we create a dictionary of key ,val pair where char is key and mapped to index i+1 ( 0 is reserved for special char start and end )\n",
        "\n",
        "3. itos is dictionary similar to stoi but reversed number to pair .\n",
        "  - stoi.items() returns a view object that represents the key-value pairs from the stoi dictionary.\n"
      ],
      "metadata": {
        "id": "bCptAY5758XM"
      }
    },
    {
      "cell_type": "code",
      "source": [
        "chars = sorted(list(set(''.join(words))))\n",
        "stoi = {s:i+1 for i,s in enumerate(chars)}\n",
        "stoi['.']=0\n",
        "itos = {i:s for s,i in stoi.items()}\n",
        "print(itos)"
      ],
      "metadata": {
        "colab": {
          "base_uri": "https://localhost:8080/"
        },
        "id": "0HK9DqC7K1ps",
        "outputId": "d88bfaf8-aab7-412c-8a14-476d8fdafba3"
      },
      "execution_count": null,
      "outputs": [
        {
          "output_type": "stream",
          "name": "stdout",
          "text": [
            "{1: 'a', 2: 'b', 3: 'c', 4: 'd', 5: 'e', 6: 'f', 7: 'g', 8: 'h', 9: 'i', 10: 'j', 11: 'k', 12: 'l', 13: 'm', 14: 'n', 15: 'o', 16: 'p', 17: 'q', 18: 'r', 19: 's', 20: 't', 21: 'u', 22: 'v', 23: 'w', 24: 'x', 25: 'y', 26: 'z', 0: '.'}\n"
          ]
        }
      ]
    },
    {
      "cell_type": "markdown",
      "source": [
        "## Build the dataset"
      ],
      "metadata": {
        "id": "zRFQL3bvL7JG"
      }
    },
    {
      "cell_type": "markdown",
      "source": [
        "1. block_size is how many chars to serve as input for prediction .\n",
        "2. initialize empty list of input and output .\n",
        "3. loop for iterating over words\n",
        "4. print (w) prints whole word.\n",
        "5. create a new list with name context . initialize thi list with block_size no of zeros (3)\n",
        "6. use for loop to iterate over each character in word (w) and '.'  as end of word token.\n",
        "7.  using stoi defined earlier convert word to its corresponding index. store index in var ix.\n",
        "8. append the current context into X ( we use context bec we want input as 3 char .first context will always be 000 .\n",
        "9. append index ix into Y .( labels )\n",
        "10. print chars from index i in context which is 0 for first iteratin. then print ---> and print char with index ix which is label.\n",
        "11. Now we have to update context next input should be [ ..e] ie [0,0,ix] .\n",
        "12.convert list X into pytorch tensor.\n",
        "13. convert list of Y into pytorch tensor.\n"
      ],
      "metadata": {
        "id": "qMNnX_qvt14j"
      }
    },
    {
      "cell_type": "code",
      "source": [
        "\n",
        "block_size = 3  # how many chars serve as input for prediction of next word\n",
        "X ,Y =[],[]         # Initialize empty lists for input-output pairs.\n",
        "\n",
        "for w in words[:5]: # iterate over words (first 5)\n",
        "\n",
        "  print(w)              # print word\n",
        "  context = [0]*block_size      # initialize list with name context .\n",
        "                                # This means that initially, the context list\n",
        "                                # is filled with block_size number of zeros\n",
        "                                # block_size =3 , context = [0,0,0]\n",
        "  for ch in w + '.':        #Iterate over each character in the current word,\n",
        "    ix= stoi[ch]            # convert the character to its corresponding index\n",
        "    X.append(context)        # Append the current context to the input list \"X\n",
        "    Y.append(ix)              # append current index to output list Y\n",
        "    print(''.join(itos[i] for i in context), '--->', itos[ix])# Append the current context to the input list \"X\n",
        "    context = context[1:] + [ix]    # Update the context by removing the first element and adding the current index\n",
        "\n",
        "X = torch.tensor(X)  # Convert the input list \"X\" to a PyTorch tensor\n",
        "Y = torch.tensor(Y)  # Convert the output list \"Y\" to a PyTorch tensor"
      ],
      "metadata": {
        "colab": {
          "base_uri": "https://localhost:8080/"
        },
        "id": "zviIYiOxMGD7",
        "outputId": "b8f58ba0-a2d3-48b2-a689-490005037874"
      },
      "execution_count": null,
      "outputs": [
        {
          "output_type": "stream",
          "name": "stdout",
          "text": [
            "emma\n",
            "... ---> e\n",
            "..e ---> m\n",
            ".em ---> m\n",
            "emm ---> a\n",
            "mma ---> .\n",
            "olivia\n",
            "... ---> o\n",
            "..o ---> l\n",
            ".ol ---> i\n",
            "oli ---> v\n",
            "liv ---> i\n",
            "ivi ---> a\n",
            "via ---> .\n",
            "ava\n",
            "... ---> a\n",
            "..a ---> v\n",
            ".av ---> a\n",
            "ava ---> .\n",
            "isabella\n",
            "... ---> i\n",
            "..i ---> s\n",
            ".is ---> a\n",
            "isa ---> b\n",
            "sab ---> e\n",
            "abe ---> l\n",
            "bel ---> l\n",
            "ell ---> a\n",
            "lla ---> .\n",
            "sophia\n",
            "... ---> s\n",
            "..s ---> o\n",
            ".so ---> p\n",
            "sop ---> h\n",
            "oph ---> i\n",
            "phi ---> a\n",
            "hia ---> .\n"
          ]
        }
      ]
    },
    {
      "cell_type": "code",
      "source": [
        "X.shape , X.dtype , Y.shape , Y.dtype"
      ],
      "metadata": {
        "colab": {
          "base_uri": "https://localhost:8080/"
        },
        "id": "Oe3OHFQmRj3M",
        "outputId": "af9330cd-0a27-4bf1-a83d-83b041a49227"
      },
      "execution_count": null,
      "outputs": [
        {
          "output_type": "execute_result",
          "data": {
            "text/plain": [
              "(torch.Size([32, 3]), torch.int64, torch.Size([32]), torch.int64)"
            ]
          },
          "metadata": {},
          "execution_count": 135
        }
      ]
    },
    {
      "cell_type": "code",
      "source": [
        "X # training examples"
      ],
      "metadata": {
        "colab": {
          "base_uri": "https://localhost:8080/"
        },
        "id": "TXUozNfWRvmb",
        "outputId": "330a68fc-cfd9-493a-a57a-ad77f7a956a8"
      },
      "execution_count": null,
      "outputs": [
        {
          "output_type": "execute_result",
          "data": {
            "text/plain": [
              "tensor([[ 0,  0,  0],\n",
              "        [ 0,  0,  5],\n",
              "        [ 0,  5, 13],\n",
              "        [ 5, 13, 13],\n",
              "        [13, 13,  1],\n",
              "        [ 0,  0,  0],\n",
              "        [ 0,  0, 15],\n",
              "        [ 0, 15, 12],\n",
              "        [15, 12,  9],\n",
              "        [12,  9, 22],\n",
              "        [ 9, 22,  9],\n",
              "        [22,  9,  1],\n",
              "        [ 0,  0,  0],\n",
              "        [ 0,  0,  1],\n",
              "        [ 0,  1, 22],\n",
              "        [ 1, 22,  1],\n",
              "        [ 0,  0,  0],\n",
              "        [ 0,  0,  9],\n",
              "        [ 0,  9, 19],\n",
              "        [ 9, 19,  1],\n",
              "        [19,  1,  2],\n",
              "        [ 1,  2,  5],\n",
              "        [ 2,  5, 12],\n",
              "        [ 5, 12, 12],\n",
              "        [12, 12,  1],\n",
              "        [ 0,  0,  0],\n",
              "        [ 0,  0, 19],\n",
              "        [ 0, 19, 15],\n",
              "        [19, 15, 16],\n",
              "        [15, 16,  8],\n",
              "        [16,  8,  9],\n",
              "        [ 8,  9,  1]])"
            ]
          },
          "metadata": {},
          "execution_count": 136
        }
      ]
    },
    {
      "cell_type": "code",
      "source": [
        "Y # labels"
      ],
      "metadata": {
        "colab": {
          "base_uri": "https://localhost:8080/"
        },
        "id": "hvm050NhR20Q",
        "outputId": "d348b4b8-2955-4ef0-d530-88a785d5a77f"
      },
      "execution_count": null,
      "outputs": [
        {
          "output_type": "execute_result",
          "data": {
            "text/plain": [
              "tensor([ 5, 13, 13,  1,  0, 15, 12,  9, 22,  9,  1,  0,  1, 22,  1,  0,  9, 19,\n",
              "         1,  2,  5, 12, 12,  1,  0, 19, 15, 16,  8,  9,  1,  0])"
            ]
          },
          "metadata": {},
          "execution_count": 137
        }
      ]
    },
    {
      "cell_type": "markdown",
      "source": [
        "- creates a tensor with dimensions (27, 2) and fills it with random numbers sampled from a standard normal distribution (mean 0, standard deviation 1)."
      ],
      "metadata": {
        "id": "aBNV_xTqxVRq"
      }
    },
    {
      "cell_type": "code",
      "source": [
        "C = torch.randn((27,2))"
      ],
      "metadata": {
        "id": "xlTduvOmR7En"
      },
      "execution_count": null,
      "outputs": []
    },
    {
      "cell_type": "code",
      "source": [
        "C"
      ],
      "metadata": {
        "colab": {
          "base_uri": "https://localhost:8080/"
        },
        "id": "OfWXzm7nRzrx",
        "outputId": "5dcaa27c-fca3-4e9a-eccd-d8a0d5f28a03"
      },
      "execution_count": null,
      "outputs": [
        {
          "output_type": "execute_result",
          "data": {
            "text/plain": [
              "tensor([[ 0.3271, -0.9916],\n",
              "        [ 1.0744, -1.1503],\n",
              "        [ 0.3921,  0.2283],\n",
              "        [ 0.6858, -0.3142],\n",
              "        [ 1.4125, -0.3097],\n",
              "        [-1.1823, -0.3410],\n",
              "        [ 0.6412,  1.5076],\n",
              "        [ 0.4311,  1.3742],\n",
              "        [ 0.8138, -0.6596],\n",
              "        [ 0.5548,  0.2469],\n",
              "        [ 1.4573,  0.4891],\n",
              "        [-1.1628, -0.9466],\n",
              "        [-0.6217, -1.4301],\n",
              "        [ 1.2427,  0.3054],\n",
              "        [ 1.9931,  0.9166],\n",
              "        [ 0.8096, -1.0640],\n",
              "        [-1.6237, -1.0160],\n",
              "        [ 0.1370, -0.1296],\n",
              "        [-2.5142, -0.1476],\n",
              "        [-1.7355,  0.7509],\n",
              "        [ 1.1026, -0.0191],\n",
              "        [-0.4487, -0.3901],\n",
              "        [ 0.9988,  2.0525],\n",
              "        [ 0.2169, -1.0905],\n",
              "        [ 0.7527, -0.6383],\n",
              "        [ 0.5118, -0.5042],\n",
              "        [-0.5604, -0.0134]])"
            ]
          },
          "metadata": {},
          "execution_count": 139
        }
      ]
    },
    {
      "cell_type": "code",
      "source": [
        "F.one_hot(torch.tensor(5),num_classes=27)"
      ],
      "metadata": {
        "colab": {
          "base_uri": "https://localhost:8080/"
        },
        "id": "bmrma_ZbSpvQ",
        "outputId": "4c286e90-269d-401a-ee00-dd22d4272eb6"
      },
      "execution_count": null,
      "outputs": [
        {
          "output_type": "execute_result",
          "data": {
            "text/plain": [
              "tensor([0, 0, 0, 0, 0, 1, 0, 0, 0, 0, 0, 0, 0, 0, 0, 0, 0, 0, 0, 0, 0, 0, 0, 0,\n",
              "        0, 0, 0])"
            ]
          },
          "metadata": {},
          "execution_count": 140
        }
      ]
    },
    {
      "cell_type": "code",
      "source": [
        "# Take one hot vect and mulitply by C\n",
        "# one_hot encoding by default is int . so need to convert to float.\n",
        "F.one_hot(torch.tensor(5),num_classes=27).float() @ C\n"
      ],
      "metadata": {
        "colab": {
          "base_uri": "https://localhost:8080/"
        },
        "id": "dRRwuPhrS_oM",
        "outputId": "66bafd07-4d2e-4a10-d28b-09bf860035ad"
      },
      "execution_count": null,
      "outputs": [
        {
          "output_type": "execute_result",
          "data": {
            "text/plain": [
              "tensor([-1.1823, -0.3410])"
            ]
          },
          "metadata": {},
          "execution_count": 141
        }
      ]
    },
    {
      "cell_type": "code",
      "source": [
        "C[5]"
      ],
      "metadata": {
        "colab": {
          "base_uri": "https://localhost:8080/"
        },
        "id": "bpLGsg0OTcnX",
        "outputId": "08a074bb-5d8f-4122-a5a3-895c7df0e4c5"
      },
      "execution_count": null,
      "outputs": [
        {
          "output_type": "execute_result",
          "data": {
            "text/plain": [
              "tensor([-1.1823, -0.3410])"
            ]
          },
          "metadata": {},
          "execution_count": 142
        }
      ]
    },
    {
      "cell_type": "markdown",
      "source": [
        "- both output of above lines are same  ."
      ],
      "metadata": {
        "id": "y1nZkeFST5or"
      }
    },
    {
      "cell_type": "markdown",
      "source": [
        "- Pytorch indexing -- learn"
      ],
      "metadata": {
        "id": "zWxepH1NWYRe"
      }
    },
    {
      "cell_type": "code",
      "source": [
        "emb = C[X]\n",
        "emb.shape"
      ],
      "metadata": {
        "id": "1Rp7ORhRaHAp",
        "colab": {
          "base_uri": "https://localhost:8080/"
        },
        "outputId": "0d8c9b2e-9d0b-435d-b449-c262509e90f0"
      },
      "execution_count": null,
      "outputs": [
        {
          "output_type": "execute_result",
          "data": {
            "text/plain": [
              "torch.Size([32, 3, 2])"
            ]
          },
          "metadata": {},
          "execution_count": 143
        }
      ]
    },
    {
      "cell_type": "code",
      "source": [
        "emb"
      ],
      "metadata": {
        "colab": {
          "base_uri": "https://localhost:8080/"
        },
        "id": "8netPyTEl4zK",
        "outputId": "0d0ef616-9ca1-4381-91f8-cf035a4d86b5"
      },
      "execution_count": null,
      "outputs": [
        {
          "output_type": "execute_result",
          "data": {
            "text/plain": [
              "tensor([[[ 0.3271, -0.9916],\n",
              "         [ 0.3271, -0.9916],\n",
              "         [ 0.3271, -0.9916]],\n",
              "\n",
              "        [[ 0.3271, -0.9916],\n",
              "         [ 0.3271, -0.9916],\n",
              "         [-1.1823, -0.3410]],\n",
              "\n",
              "        [[ 0.3271, -0.9916],\n",
              "         [-1.1823, -0.3410],\n",
              "         [ 1.2427,  0.3054]],\n",
              "\n",
              "        [[-1.1823, -0.3410],\n",
              "         [ 1.2427,  0.3054],\n",
              "         [ 1.2427,  0.3054]],\n",
              "\n",
              "        [[ 1.2427,  0.3054],\n",
              "         [ 1.2427,  0.3054],\n",
              "         [ 1.0744, -1.1503]],\n",
              "\n",
              "        [[ 0.3271, -0.9916],\n",
              "         [ 0.3271, -0.9916],\n",
              "         [ 0.3271, -0.9916]],\n",
              "\n",
              "        [[ 0.3271, -0.9916],\n",
              "         [ 0.3271, -0.9916],\n",
              "         [ 0.8096, -1.0640]],\n",
              "\n",
              "        [[ 0.3271, -0.9916],\n",
              "         [ 0.8096, -1.0640],\n",
              "         [-0.6217, -1.4301]],\n",
              "\n",
              "        [[ 0.8096, -1.0640],\n",
              "         [-0.6217, -1.4301],\n",
              "         [ 0.5548,  0.2469]],\n",
              "\n",
              "        [[-0.6217, -1.4301],\n",
              "         [ 0.5548,  0.2469],\n",
              "         [ 0.9988,  2.0525]],\n",
              "\n",
              "        [[ 0.5548,  0.2469],\n",
              "         [ 0.9988,  2.0525],\n",
              "         [ 0.5548,  0.2469]],\n",
              "\n",
              "        [[ 0.9988,  2.0525],\n",
              "         [ 0.5548,  0.2469],\n",
              "         [ 1.0744, -1.1503]],\n",
              "\n",
              "        [[ 0.3271, -0.9916],\n",
              "         [ 0.3271, -0.9916],\n",
              "         [ 0.3271, -0.9916]],\n",
              "\n",
              "        [[ 0.3271, -0.9916],\n",
              "         [ 0.3271, -0.9916],\n",
              "         [ 1.0744, -1.1503]],\n",
              "\n",
              "        [[ 0.3271, -0.9916],\n",
              "         [ 1.0744, -1.1503],\n",
              "         [ 0.9988,  2.0525]],\n",
              "\n",
              "        [[ 1.0744, -1.1503],\n",
              "         [ 0.9988,  2.0525],\n",
              "         [ 1.0744, -1.1503]],\n",
              "\n",
              "        [[ 0.3271, -0.9916],\n",
              "         [ 0.3271, -0.9916],\n",
              "         [ 0.3271, -0.9916]],\n",
              "\n",
              "        [[ 0.3271, -0.9916],\n",
              "         [ 0.3271, -0.9916],\n",
              "         [ 0.5548,  0.2469]],\n",
              "\n",
              "        [[ 0.3271, -0.9916],\n",
              "         [ 0.5548,  0.2469],\n",
              "         [-1.7355,  0.7509]],\n",
              "\n",
              "        [[ 0.5548,  0.2469],\n",
              "         [-1.7355,  0.7509],\n",
              "         [ 1.0744, -1.1503]],\n",
              "\n",
              "        [[-1.7355,  0.7509],\n",
              "         [ 1.0744, -1.1503],\n",
              "         [ 0.3921,  0.2283]],\n",
              "\n",
              "        [[ 1.0744, -1.1503],\n",
              "         [ 0.3921,  0.2283],\n",
              "         [-1.1823, -0.3410]],\n",
              "\n",
              "        [[ 0.3921,  0.2283],\n",
              "         [-1.1823, -0.3410],\n",
              "         [-0.6217, -1.4301]],\n",
              "\n",
              "        [[-1.1823, -0.3410],\n",
              "         [-0.6217, -1.4301],\n",
              "         [-0.6217, -1.4301]],\n",
              "\n",
              "        [[-0.6217, -1.4301],\n",
              "         [-0.6217, -1.4301],\n",
              "         [ 1.0744, -1.1503]],\n",
              "\n",
              "        [[ 0.3271, -0.9916],\n",
              "         [ 0.3271, -0.9916],\n",
              "         [ 0.3271, -0.9916]],\n",
              "\n",
              "        [[ 0.3271, -0.9916],\n",
              "         [ 0.3271, -0.9916],\n",
              "         [-1.7355,  0.7509]],\n",
              "\n",
              "        [[ 0.3271, -0.9916],\n",
              "         [-1.7355,  0.7509],\n",
              "         [ 0.8096, -1.0640]],\n",
              "\n",
              "        [[-1.7355,  0.7509],\n",
              "         [ 0.8096, -1.0640],\n",
              "         [-1.6237, -1.0160]],\n",
              "\n",
              "        [[ 0.8096, -1.0640],\n",
              "         [-1.6237, -1.0160],\n",
              "         [ 0.8138, -0.6596]],\n",
              "\n",
              "        [[-1.6237, -1.0160],\n",
              "         [ 0.8138, -0.6596],\n",
              "         [ 0.5548,  0.2469]],\n",
              "\n",
              "        [[ 0.8138, -0.6596],\n",
              "         [ 0.5548,  0.2469],\n",
              "         [ 1.0744, -1.1503]]])"
            ]
          },
          "metadata": {},
          "execution_count": 144
        }
      ]
    },
    {
      "cell_type": "code",
      "source": [
        "# weights\n",
        "W1 = torch.randn((6,100))\n",
        "# bias\n",
        "b1 = torch.randn(100)"
      ],
      "metadata": {
        "id": "xPTJTU9qZ7Mv"
      },
      "execution_count": null,
      "outputs": []
    },
    {
      "cell_type": "markdown",
      "source": [
        "- Normally emb @ w1 + b1\n",
        "- but cant multiply (32,3,2) and (6,100)\n",
        "- emb[:,0,:]\n",
        "\n",
        "- but below code is not generalized\n",
        "so cant pass dim which we want.\n"
      ],
      "metadata": {
        "id": "0zrKsiJnw_wa"
      }
    },
    {
      "cell_type": "code",
      "source": [
        "torch.cat([emb[:,0,:],emb[:,1,:],emb[:,2,:]],1)"
      ],
      "metadata": {
        "colab": {
          "base_uri": "https://localhost:8080/"
        },
        "id": "kWigcn47csaA",
        "outputId": "c6918192-3efc-42a0-b8d1-ae9822e43d3f"
      },
      "execution_count": null,
      "outputs": [
        {
          "output_type": "execute_result",
          "data": {
            "text/plain": [
              "tensor([[ 0.3271, -0.9916,  0.3271, -0.9916,  0.3271, -0.9916],\n",
              "        [ 0.3271, -0.9916,  0.3271, -0.9916, -1.1823, -0.3410],\n",
              "        [ 0.3271, -0.9916, -1.1823, -0.3410,  1.2427,  0.3054],\n",
              "        [-1.1823, -0.3410,  1.2427,  0.3054,  1.2427,  0.3054],\n",
              "        [ 1.2427,  0.3054,  1.2427,  0.3054,  1.0744, -1.1503],\n",
              "        [ 0.3271, -0.9916,  0.3271, -0.9916,  0.3271, -0.9916],\n",
              "        [ 0.3271, -0.9916,  0.3271, -0.9916,  0.8096, -1.0640],\n",
              "        [ 0.3271, -0.9916,  0.8096, -1.0640, -0.6217, -1.4301],\n",
              "        [ 0.8096, -1.0640, -0.6217, -1.4301,  0.5548,  0.2469],\n",
              "        [-0.6217, -1.4301,  0.5548,  0.2469,  0.9988,  2.0525],\n",
              "        [ 0.5548,  0.2469,  0.9988,  2.0525,  0.5548,  0.2469],\n",
              "        [ 0.9988,  2.0525,  0.5548,  0.2469,  1.0744, -1.1503],\n",
              "        [ 0.3271, -0.9916,  0.3271, -0.9916,  0.3271, -0.9916],\n",
              "        [ 0.3271, -0.9916,  0.3271, -0.9916,  1.0744, -1.1503],\n",
              "        [ 0.3271, -0.9916,  1.0744, -1.1503,  0.9988,  2.0525],\n",
              "        [ 1.0744, -1.1503,  0.9988,  2.0525,  1.0744, -1.1503],\n",
              "        [ 0.3271, -0.9916,  0.3271, -0.9916,  0.3271, -0.9916],\n",
              "        [ 0.3271, -0.9916,  0.3271, -0.9916,  0.5548,  0.2469],\n",
              "        [ 0.3271, -0.9916,  0.5548,  0.2469, -1.7355,  0.7509],\n",
              "        [ 0.5548,  0.2469, -1.7355,  0.7509,  1.0744, -1.1503],\n",
              "        [-1.7355,  0.7509,  1.0744, -1.1503,  0.3921,  0.2283],\n",
              "        [ 1.0744, -1.1503,  0.3921,  0.2283, -1.1823, -0.3410],\n",
              "        [ 0.3921,  0.2283, -1.1823, -0.3410, -0.6217, -1.4301],\n",
              "        [-1.1823, -0.3410, -0.6217, -1.4301, -0.6217, -1.4301],\n",
              "        [-0.6217, -1.4301, -0.6217, -1.4301,  1.0744, -1.1503],\n",
              "        [ 0.3271, -0.9916,  0.3271, -0.9916,  0.3271, -0.9916],\n",
              "        [ 0.3271, -0.9916,  0.3271, -0.9916, -1.7355,  0.7509],\n",
              "        [ 0.3271, -0.9916, -1.7355,  0.7509,  0.8096, -1.0640],\n",
              "        [-1.7355,  0.7509,  0.8096, -1.0640, -1.6237, -1.0160],\n",
              "        [ 0.8096, -1.0640, -1.6237, -1.0160,  0.8138, -0.6596],\n",
              "        [-1.6237, -1.0160,  0.8138, -0.6596,  0.5548,  0.2469],\n",
              "        [ 0.8138, -0.6596,  0.5548,  0.2469,  1.0744, -1.1503]])"
            ]
          },
          "metadata": {},
          "execution_count": 146
        }
      ]
    },
    {
      "cell_type": "markdown",
      "source": [
        "- **generalization of above code**"
      ],
      "metadata": {
        "id": "UhK_TWbvgQ5l"
      }
    },
    {
      "cell_type": "code",
      "source": [
        "torch.cat(torch.unbind(emb,1),1)"
      ],
      "metadata": {
        "colab": {
          "base_uri": "https://localhost:8080/"
        },
        "id": "9ZwnvByHfzXH",
        "outputId": "15e4d07d-898c-4a91-81e1-ae089f9fa7bb"
      },
      "execution_count": null,
      "outputs": [
        {
          "output_type": "execute_result",
          "data": {
            "text/plain": [
              "tensor([[ 0.3271, -0.9916,  0.3271, -0.9916,  0.3271, -0.9916],\n",
              "        [ 0.3271, -0.9916,  0.3271, -0.9916, -1.1823, -0.3410],\n",
              "        [ 0.3271, -0.9916, -1.1823, -0.3410,  1.2427,  0.3054],\n",
              "        [-1.1823, -0.3410,  1.2427,  0.3054,  1.2427,  0.3054],\n",
              "        [ 1.2427,  0.3054,  1.2427,  0.3054,  1.0744, -1.1503],\n",
              "        [ 0.3271, -0.9916,  0.3271, -0.9916,  0.3271, -0.9916],\n",
              "        [ 0.3271, -0.9916,  0.3271, -0.9916,  0.8096, -1.0640],\n",
              "        [ 0.3271, -0.9916,  0.8096, -1.0640, -0.6217, -1.4301],\n",
              "        [ 0.8096, -1.0640, -0.6217, -1.4301,  0.5548,  0.2469],\n",
              "        [-0.6217, -1.4301,  0.5548,  0.2469,  0.9988,  2.0525],\n",
              "        [ 0.5548,  0.2469,  0.9988,  2.0525,  0.5548,  0.2469],\n",
              "        [ 0.9988,  2.0525,  0.5548,  0.2469,  1.0744, -1.1503],\n",
              "        [ 0.3271, -0.9916,  0.3271, -0.9916,  0.3271, -0.9916],\n",
              "        [ 0.3271, -0.9916,  0.3271, -0.9916,  1.0744, -1.1503],\n",
              "        [ 0.3271, -0.9916,  1.0744, -1.1503,  0.9988,  2.0525],\n",
              "        [ 1.0744, -1.1503,  0.9988,  2.0525,  1.0744, -1.1503],\n",
              "        [ 0.3271, -0.9916,  0.3271, -0.9916,  0.3271, -0.9916],\n",
              "        [ 0.3271, -0.9916,  0.3271, -0.9916,  0.5548,  0.2469],\n",
              "        [ 0.3271, -0.9916,  0.5548,  0.2469, -1.7355,  0.7509],\n",
              "        [ 0.5548,  0.2469, -1.7355,  0.7509,  1.0744, -1.1503],\n",
              "        [-1.7355,  0.7509,  1.0744, -1.1503,  0.3921,  0.2283],\n",
              "        [ 1.0744, -1.1503,  0.3921,  0.2283, -1.1823, -0.3410],\n",
              "        [ 0.3921,  0.2283, -1.1823, -0.3410, -0.6217, -1.4301],\n",
              "        [-1.1823, -0.3410, -0.6217, -1.4301, -0.6217, -1.4301],\n",
              "        [-0.6217, -1.4301, -0.6217, -1.4301,  1.0744, -1.1503],\n",
              "        [ 0.3271, -0.9916,  0.3271, -0.9916,  0.3271, -0.9916],\n",
              "        [ 0.3271, -0.9916,  0.3271, -0.9916, -1.7355,  0.7509],\n",
              "        [ 0.3271, -0.9916, -1.7355,  0.7509,  0.8096, -1.0640],\n",
              "        [-1.7355,  0.7509,  0.8096, -1.0640, -1.6237, -1.0160],\n",
              "        [ 0.8096, -1.0640, -1.6237, -1.0160,  0.8138, -0.6596],\n",
              "        [-1.6237, -1.0160,  0.8138, -0.6596,  0.5548,  0.2469],\n",
              "        [ 0.8138, -0.6596,  0.5548,  0.2469,  1.0744, -1.1503]])"
            ]
          },
          "metadata": {},
          "execution_count": 147
        }
      ]
    },
    {
      "cell_type": "code",
      "source": [
        "a = torch.arange(18)"
      ],
      "metadata": {
        "id": "Lj-XRHYyhFFz"
      },
      "execution_count": null,
      "outputs": []
    },
    {
      "cell_type": "code",
      "source": [
        "a.shape"
      ],
      "metadata": {
        "colab": {
          "base_uri": "https://localhost:8080/"
        },
        "id": "WMxyHgA6hK0H",
        "outputId": "3ea07592-74ff-46c6-feef-e0d2d75ce5da"
      },
      "execution_count": null,
      "outputs": [
        {
          "output_type": "execute_result",
          "data": {
            "text/plain": [
              "torch.Size([18])"
            ]
          },
          "metadata": {},
          "execution_count": 149
        }
      ]
    },
    {
      "cell_type": "code",
      "source": [
        "a.view(3,3,2)"
      ],
      "metadata": {
        "colab": {
          "base_uri": "https://localhost:8080/"
        },
        "id": "9OVYBrKSgP__",
        "outputId": "519a6746-3883-4218-bfc9-6f490e0172be"
      },
      "execution_count": null,
      "outputs": [
        {
          "output_type": "execute_result",
          "data": {
            "text/plain": [
              "tensor([[[ 0,  1],\n",
              "         [ 2,  3],\n",
              "         [ 4,  5]],\n",
              "\n",
              "        [[ 6,  7],\n",
              "         [ 8,  9],\n",
              "         [10, 11]],\n",
              "\n",
              "        [[12, 13],\n",
              "         [14, 15],\n",
              "         [16, 17]]])"
            ]
          },
          "metadata": {},
          "execution_count": 150
        }
      ]
    },
    {
      "cell_type": "code",
      "source": [
        "a.view(9,2)"
      ],
      "metadata": {
        "colab": {
          "base_uri": "https://localhost:8080/"
        },
        "id": "kvbduP3RhmAS",
        "outputId": "cf183e31-75c7-46b5-c146-8a607a325943"
      },
      "execution_count": null,
      "outputs": [
        {
          "output_type": "execute_result",
          "data": {
            "text/plain": [
              "tensor([[ 0,  1],\n",
              "        [ 2,  3],\n",
              "        [ 4,  5],\n",
              "        [ 6,  7],\n",
              "        [ 8,  9],\n",
              "        [10, 11],\n",
              "        [12, 13],\n",
              "        [14, 15],\n",
              "        [16, 17]])"
            ]
          },
          "metadata": {},
          "execution_count": 151
        }
      ]
    },
    {
      "cell_type": "markdown",
      "source": [
        "- storage remains same but seen as different\n",
        "-Blog below goes in depth\n",
        "- http://blog.ezyang.com/2019/05/pytorch-internals/"
      ],
      "metadata": {
        "id": "CBl3lK7Chps6"
      }
    },
    {
      "cell_type": "markdown",
      "source": [
        "**Imp**\n",
        "- **In storage A tensor is always representated as one dim vector.**\n",
        "- **when we call view some internal attributes of view of tensor changes .**\n",
        "-**NO new memory is created or copied The storage is identical internal view is changed ( storge offset ,strid ,shapes).**\n",
        "- **Torch.cat creates now memory etc so not effecient as .view**"
      ],
      "metadata": {
        "id": "WzDBBJEGJUvD"
      }
    },
    {
      "cell_type": "code",
      "source": [
        "a.storage()"
      ],
      "metadata": {
        "colab": {
          "base_uri": "https://localhost:8080/"
        },
        "id": "ozFsA8DjgNmc",
        "outputId": "bdf9b584-0926-414f-db54-a93280265357"
      },
      "execution_count": null,
      "outputs": [
        {
          "output_type": "execute_result",
          "data": {
            "text/plain": [
              " 0\n",
              " 1\n",
              " 2\n",
              " 3\n",
              " 4\n",
              " 5\n",
              " 6\n",
              " 7\n",
              " 8\n",
              " 9\n",
              " 10\n",
              " 11\n",
              " 12\n",
              " 13\n",
              " 14\n",
              " 15\n",
              " 16\n",
              " 17\n",
              "[torch.storage.TypedStorage(dtype=torch.int64, device=cpu) of size 18]"
            ]
          },
          "metadata": {},
          "execution_count": 152
        }
      ]
    },
    {
      "cell_type": "markdown",
      "source": [
        "- more effecient way ."
      ],
      "metadata": {
        "id": "u-aldns4ihtZ"
      }
    },
    {
      "cell_type": "code",
      "source": [
        "emb.shape"
      ],
      "metadata": {
        "colab": {
          "base_uri": "https://localhost:8080/"
        },
        "id": "kuA-q7HRG5WJ",
        "outputId": "1c52c985-eedf-4c4d-f327-aac55d4ea309"
      },
      "execution_count": null,
      "outputs": [
        {
          "output_type": "execute_result",
          "data": {
            "text/plain": [
              "torch.Size([32, 3, 2])"
            ]
          },
          "metadata": {},
          "execution_count": 153
        }
      ]
    },
    {
      "cell_type": "code",
      "source": [
        "emb.view(32,6)"
      ],
      "metadata": {
        "colab": {
          "base_uri": "https://localhost:8080/"
        },
        "id": "92laibWoE_9h",
        "outputId": "5c7bf0e0-47e0-471c-e329-e084df592110"
      },
      "execution_count": null,
      "outputs": [
        {
          "output_type": "execute_result",
          "data": {
            "text/plain": [
              "tensor([[ 0.3271, -0.9916,  0.3271, -0.9916,  0.3271, -0.9916],\n",
              "        [ 0.3271, -0.9916,  0.3271, -0.9916, -1.1823, -0.3410],\n",
              "        [ 0.3271, -0.9916, -1.1823, -0.3410,  1.2427,  0.3054],\n",
              "        [-1.1823, -0.3410,  1.2427,  0.3054,  1.2427,  0.3054],\n",
              "        [ 1.2427,  0.3054,  1.2427,  0.3054,  1.0744, -1.1503],\n",
              "        [ 0.3271, -0.9916,  0.3271, -0.9916,  0.3271, -0.9916],\n",
              "        [ 0.3271, -0.9916,  0.3271, -0.9916,  0.8096, -1.0640],\n",
              "        [ 0.3271, -0.9916,  0.8096, -1.0640, -0.6217, -1.4301],\n",
              "        [ 0.8096, -1.0640, -0.6217, -1.4301,  0.5548,  0.2469],\n",
              "        [-0.6217, -1.4301,  0.5548,  0.2469,  0.9988,  2.0525],\n",
              "        [ 0.5548,  0.2469,  0.9988,  2.0525,  0.5548,  0.2469],\n",
              "        [ 0.9988,  2.0525,  0.5548,  0.2469,  1.0744, -1.1503],\n",
              "        [ 0.3271, -0.9916,  0.3271, -0.9916,  0.3271, -0.9916],\n",
              "        [ 0.3271, -0.9916,  0.3271, -0.9916,  1.0744, -1.1503],\n",
              "        [ 0.3271, -0.9916,  1.0744, -1.1503,  0.9988,  2.0525],\n",
              "        [ 1.0744, -1.1503,  0.9988,  2.0525,  1.0744, -1.1503],\n",
              "        [ 0.3271, -0.9916,  0.3271, -0.9916,  0.3271, -0.9916],\n",
              "        [ 0.3271, -0.9916,  0.3271, -0.9916,  0.5548,  0.2469],\n",
              "        [ 0.3271, -0.9916,  0.5548,  0.2469, -1.7355,  0.7509],\n",
              "        [ 0.5548,  0.2469, -1.7355,  0.7509,  1.0744, -1.1503],\n",
              "        [-1.7355,  0.7509,  1.0744, -1.1503,  0.3921,  0.2283],\n",
              "        [ 1.0744, -1.1503,  0.3921,  0.2283, -1.1823, -0.3410],\n",
              "        [ 0.3921,  0.2283, -1.1823, -0.3410, -0.6217, -1.4301],\n",
              "        [-1.1823, -0.3410, -0.6217, -1.4301, -0.6217, -1.4301],\n",
              "        [-0.6217, -1.4301, -0.6217, -1.4301,  1.0744, -1.1503],\n",
              "        [ 0.3271, -0.9916,  0.3271, -0.9916,  0.3271, -0.9916],\n",
              "        [ 0.3271, -0.9916,  0.3271, -0.9916, -1.7355,  0.7509],\n",
              "        [ 0.3271, -0.9916, -1.7355,  0.7509,  0.8096, -1.0640],\n",
              "        [-1.7355,  0.7509,  0.8096, -1.0640, -1.6237, -1.0160],\n",
              "        [ 0.8096, -1.0640, -1.6237, -1.0160,  0.8138, -0.6596],\n",
              "        [-1.6237, -1.0160,  0.8138, -0.6596,  0.5548,  0.2469],\n",
              "        [ 0.8138, -0.6596,  0.5548,  0.2469,  1.0744, -1.1503]])"
            ]
          },
          "metadata": {},
          "execution_count": 154
        }
      ]
    },
    {
      "cell_type": "code",
      "source": [
        "emb.view(32,6) == torch.cat(torch.unbind(emb,1),1)"
      ],
      "metadata": {
        "colab": {
          "base_uri": "https://localhost:8080/"
        },
        "id": "_j7A7rY8hQvx",
        "outputId": "84ad3adc-d604-41e5-9899-c81ae7a256fb"
      },
      "execution_count": null,
      "outputs": [
        {
          "output_type": "execute_result",
          "data": {
            "text/plain": [
              "tensor([[True, True, True, True, True, True],\n",
              "        [True, True, True, True, True, True],\n",
              "        [True, True, True, True, True, True],\n",
              "        [True, True, True, True, True, True],\n",
              "        [True, True, True, True, True, True],\n",
              "        [True, True, True, True, True, True],\n",
              "        [True, True, True, True, True, True],\n",
              "        [True, True, True, True, True, True],\n",
              "        [True, True, True, True, True, True],\n",
              "        [True, True, True, True, True, True],\n",
              "        [True, True, True, True, True, True],\n",
              "        [True, True, True, True, True, True],\n",
              "        [True, True, True, True, True, True],\n",
              "        [True, True, True, True, True, True],\n",
              "        [True, True, True, True, True, True],\n",
              "        [True, True, True, True, True, True],\n",
              "        [True, True, True, True, True, True],\n",
              "        [True, True, True, True, True, True],\n",
              "        [True, True, True, True, True, True],\n",
              "        [True, True, True, True, True, True],\n",
              "        [True, True, True, True, True, True],\n",
              "        [True, True, True, True, True, True],\n",
              "        [True, True, True, True, True, True],\n",
              "        [True, True, True, True, True, True],\n",
              "        [True, True, True, True, True, True],\n",
              "        [True, True, True, True, True, True],\n",
              "        [True, True, True, True, True, True],\n",
              "        [True, True, True, True, True, True],\n",
              "        [True, True, True, True, True, True],\n",
              "        [True, True, True, True, True, True],\n",
              "        [True, True, True, True, True, True],\n",
              "        [True, True, True, True, True, True]])"
            ]
          },
          "metadata": {},
          "execution_count": 155
        }
      ]
    },
    {
      "cell_type": "markdown",
      "source": [
        "- **Applying tanh function**"
      ],
      "metadata": {
        "id": "mpLGA8Va1elQ"
      }
    },
    {
      "cell_type": "code",
      "source": [
        "h= torch.tan(emb.view(-1,6) @ W1 + b1)"
      ],
      "metadata": {
        "id": "iaUy57qjj1Of"
      },
      "execution_count": null,
      "outputs": []
    },
    {
      "cell_type": "code",
      "source": [
        "h"
      ],
      "metadata": {
        "colab": {
          "base_uri": "https://localhost:8080/"
        },
        "id": "olZE7XLdlNDK",
        "outputId": "a16ea00b-cb68-45b4-ce2e-c57ea5aa8992"
      },
      "execution_count": null,
      "outputs": [
        {
          "output_type": "execute_result",
          "data": {
            "text/plain": [
              "tensor([[ 1.6521e-01, -4.5960e-01, -1.2026e-01,  ...,  7.9815e-01,\n",
              "         -2.2590e+01,  2.4996e-01],\n",
              "        [ 6.2076e-01,  9.0159e-02, -2.0575e+00,  ...,  4.6937e+00,\n",
              "          8.0310e-01, -7.5009e-01],\n",
              "        [ 1.5933e+01, -3.5086e-01,  3.5367e-01,  ...,  2.5166e-03,\n",
              "         -9.1238e+00,  4.0107e+00],\n",
              "        ...,\n",
              "        [-1.0689e+00,  2.4668e+01, -1.3546e+00,  ..., -1.7340e+00,\n",
              "         -6.0055e+00,  4.9350e-01],\n",
              "        [-1.2288e+00,  1.0143e-01,  2.2789e-02,  ...,  9.4735e-02,\n",
              "          7.5776e-01, -1.3756e-01],\n",
              "        [-7.7518e-01,  1.6761e-01,  4.1552e+01,  ...,  4.6851e+00,\n",
              "         -3.3452e+00, -6.0611e-01]])"
            ]
          },
          "metadata": {},
          "execution_count": 157
        }
      ]
    },
    {
      "cell_type": "markdown",
      "source": [
        "- inputs are 100\n",
        "- outputs are 27 ( possible category)\n",
        "- bias are 27"
      ],
      "metadata": {
        "id": "2ys9x1GQEoZn"
      }
    },
    {
      "cell_type": "code",
      "source": [
        "W2 = torch.randn((100,27))\n",
        "\n",
        "b2 = torch.randn(27)"
      ],
      "metadata": {
        "id": "-bs3Be6IlVlA"
      },
      "execution_count": null,
      "outputs": []
    },
    {
      "cell_type": "markdown",
      "source": [
        "- logits = output of the neural net."
      ],
      "metadata": {
        "id": "3sa9yQ6-EzF_"
      }
    },
    {
      "cell_type": "code",
      "source": [
        "logits = h @ W2 +b2"
      ],
      "metadata": {
        "id": "YnqArQgwlOEI"
      },
      "execution_count": null,
      "outputs": []
    },
    {
      "cell_type": "code",
      "source": [
        "logits.shape"
      ],
      "metadata": {
        "colab": {
          "base_uri": "https://localhost:8080/"
        },
        "id": "qVy8BCrXlpmp",
        "outputId": "87d1be9e-01d4-4677-dbb3-48d15adc76c2"
      },
      "execution_count": null,
      "outputs": [
        {
          "output_type": "execute_result",
          "data": {
            "text/plain": [
              "torch.Size([32, 27])"
            ]
          },
          "metadata": {},
          "execution_count": 160
        }
      ]
    },
    {
      "cell_type": "code",
      "source": [
        "counts = logits.exp()"
      ],
      "metadata": {
        "id": "2A87VcLvlqsP"
      },
      "execution_count": null,
      "outputs": []
    },
    {
      "cell_type": "code",
      "source": [
        "# normalised\n",
        "prob = counts / counts.sum(1,keepdims=True)"
      ],
      "metadata": {
        "id": "RY5TmfK8lwv0"
      },
      "execution_count": null,
      "outputs": []
    },
    {
      "cell_type": "markdown",
      "source": [
        "**Negative log loss**"
      ],
      "metadata": {
        "id": "urctM0u_3D9x"
      }
    },
    {
      "cell_type": "code",
      "source": [
        "loss = -prob[torch.arange(32),Y].log().mean()"
      ],
      "metadata": {
        "id": "H29njsbzl6zC"
      },
      "execution_count": null,
      "outputs": []
    },
    {
      "cell_type": "code",
      "source": [
        "F.cross_entropy(logits,Y)"
      ],
      "metadata": {
        "colab": {
          "base_uri": "https://localhost:8080/"
        },
        "id": "ZTiID0Zaozoe",
        "outputId": "d169ec4d-9882-47da-94fe-144c7092a98a"
      },
      "execution_count": null,
      "outputs": [
        {
          "output_type": "execute_result",
          "data": {
            "text/plain": [
              "tensor(931.2540)"
            ]
          },
          "metadata": {},
          "execution_count": 164
        }
      ]
    },
    {
      "cell_type": "markdown",
      "source": [
        "- we use F.cross entrophy because we we use formula we need to create new tensor in memory and backward pass is more effectien .\n",
        "- f.cross is numerically well behaved .\n",
        "- It internally normalize logits."
      ],
      "metadata": {
        "id": "OBxF-9773iUj"
      }
    },
    {
      "cell_type": "markdown",
      "source": [
        "### Full neural network  neural net"
      ],
      "metadata": {
        "id": "mO37afRoo-OX"
      }
    },
    {
      "cell_type": "markdown",
      "source": [
        "- Dataset\n",
        "- X - input is (32,3)(3 words )\n",
        "- Y -  labels (32)(expected word)\n",
        "\n"
      ],
      "metadata": {
        "id": "XNUWLGR7FJKZ"
      }
    },
    {
      "cell_type": "code",
      "source": [
        "X.shape , Y.shape"
      ],
      "metadata": {
        "colab": {
          "base_uri": "https://localhost:8080/"
        },
        "id": "LQszzUJxFEqK",
        "outputId": "1ec53965-1cff-440d-c09b-e9ca246b1ca5"
      },
      "execution_count": null,
      "outputs": [
        {
          "output_type": "execute_result",
          "data": {
            "text/plain": [
              "(torch.Size([32, 3]), torch.Size([32]))"
            ]
          },
          "metadata": {},
          "execution_count": 165
        }
      ]
    },
    {
      "cell_type": "markdown",
      "source": [
        "1. g - This will ensure that the random numbers generated by the torch.randn functions are reproducible.\n",
        "2. This line creates a tensor C of shape (27, 10) and fills it with random numbers from a normal distribution with mean 0 and variance 1.\n",
        "\n",
        "3. w1,w2,b1,b2, weights and biases.\n",
        "\n",
        "4. parameters : This line creates a list parameters containing the tensors C, W1, b1, W2, and b2. This list will be used to train the neural network."
      ],
      "metadata": {
        "id": "Q8bAy4pPGGDW"
      }
    },
    {
      "cell_type": "code",
      "source": [
        "\n",
        "\n",
        "g = torch.Generator().manual_seed(2147483647) # for reproducibility\n",
        "C = torch.randn((27, 2), generator=g)\n",
        "W1 = torch.randn((6, 100), generator=g)\n",
        "b1 = torch.randn(100, generator=g)\n",
        "W2 = torch.randn((100, 27), generator=g)\n",
        "b2 = torch.randn(27, generator=g)\n",
        "parameters = [C, W1, b1, W2, b2]\n",
        "\n"
      ],
      "metadata": {
        "id": "HDqMG4_9FkZ6"
      },
      "execution_count": null,
      "outputs": []
    },
    {
      "cell_type": "code",
      "source": [
        "for p in parameters:\n",
        "  p.requires_grad = True\n"
      ],
      "metadata": {
        "id": "VgSE6WWRZzCe"
      },
      "execution_count": null,
      "outputs": []
    },
    {
      "cell_type": "markdown",
      "source": [
        "-  the sum function to calculate the total number of parameters in the list parameters\n",
        "\n",
        "- nelement() function is used to count the number of elements in a tensor."
      ],
      "metadata": {
        "id": "dfEwOMOl7Sww"
      }
    },
    {
      "cell_type": "code",
      "source": [
        "sum(p.nelement() for p in parameters) # number of parameters in total\n"
      ],
      "metadata": {
        "colab": {
          "base_uri": "https://localhost:8080/"
        },
        "id": "MbBxVMTs69po",
        "outputId": "2de8c691-5c3c-482c-b0a6-2b02abbf7f71"
      },
      "execution_count": null,
      "outputs": [
        {
          "output_type": "execute_result",
          "data": {
            "text/plain": [
              "3481"
            ]
          },
          "metadata": {},
          "execution_count": 168
        }
      ]
    },
    {
      "cell_type": "markdown",
      "source": [
        "- loof itertates over 1000 times.\n",
        "- emb is input data X passed  through embedding layer C .\n",
        "-\n",
        "\n",
        "- h is the hidden laeyer . we apply hyperbolic tangent activtion to matrix multiplication of input emb with w1 and bias\n",
        "\n",
        "-![Untitled Diagram.drawio.png](data:image/png;base64,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)\n"
      ],
      "metadata": {
        "id": "1Hm-Vfbq4CqG"
      }
    },
    {
      "cell_type": "code",
      "source": [
        "# fordward pass\n",
        "for _ in range(1000):\n",
        "  emb = C[X]\n",
        "  h = torch.tanh(emb.view(-1,6) @ W1 + b1 )\n",
        "  logits = h @ W2 +b2\n",
        "  loss = F.cross_entropy(logits ,Y)\n",
        "# backward pass\n",
        "  for  p in parameters:\n",
        "    p.grad = None\n",
        "  loss.backward()\n",
        "\n",
        "# update\n",
        "  for p in parameters:\n",
        "    p.data += -0.1 * p.grad\n",
        "\n",
        "print(loss.item())"
      ],
      "metadata": {
        "colab": {
          "base_uri": "https://localhost:8080/"
        },
        "id": "EICujWpl-DgV",
        "outputId": "9b2ee710-0264-490c-f04b-1eb486283741"
      },
      "execution_count": null,
      "outputs": [
        {
          "output_type": "stream",
          "name": "stdout",
          "text": [
            "0.2561509907245636\n"
          ]
        }
      ]
    },
    {
      "cell_type": "markdown",
      "source": [
        "- we are using lots of neurons but less examples so we are overfitting.\n",
        "\n"
      ],
      "metadata": {
        "id": "tmh6ez3T59ns"
      }
    },
    {
      "cell_type": "markdown",
      "source": [
        "- now lets take all examples."
      ],
      "metadata": {
        "id": "RzsnXohs6p0S"
      }
    },
    {
      "cell_type": "code",
      "source": [
        "# build the dataset\n",
        "block_size = 3 # context length: how many characters do we take to predict the next one?\n",
        "\n",
        "def build_dataset(words):\n",
        "  X, Y = [], []\n",
        "  for w in words:\n",
        "\n",
        "    #print(w)\n",
        "    context = [0] * block_size\n",
        "    for ch in w + '.':\n",
        "      ix = stoi[ch]\n",
        "      X.append(context)\n",
        "      Y.append(ix)\n",
        "      #print(''.join(itos[i] for i in context), '--->', itos[ix])\n",
        "      context = context[1:] + [ix] # crop and append\n",
        "\n",
        "  X = torch.tensor(X)\n",
        "  Y = torch.tensor(Y)"
      ],
      "metadata": {
        "id": "ODwEGwmB_kNX"
      },
      "execution_count": null,
      "outputs": []
    },
    {
      "cell_type": "code",
      "source": [
        "for p in parameters:\n",
        "  p.require_grad = True"
      ],
      "metadata": {
        "id": "XsiEX0MO8aDm"
      },
      "execution_count": null,
      "outputs": []
    },
    {
      "cell_type": "code",
      "source": [
        "for _ in range(10):\n",
        "\n",
        "\n",
        "  emb = C[X] # (32, 3, 2)\n",
        "  h = torch.tanh(emb.view(-1,6) @ W1 + b1) # (32, 100)\n",
        "  logits = h @ W2 + b2 # (32, 27)\n",
        "  loss = F.cross_entropy(logits, Y)\n",
        "  print(loss.item())\n",
        "  # backward pass\n",
        "  for p in parameters:\n",
        "    p.grad = None\n",
        "  loss.backward()\n",
        "  # update\n",
        "  for p in parameters:\n",
        "    p.data += -0.1 * p.grad\n",
        "\n"
      ],
      "metadata": {
        "colab": {
          "base_uri": "https://localhost:8080/"
        },
        "id": "UaU5zmtq6pSa",
        "outputId": "44117696-e28f-435b-e64f-e0b164d701bd"
      },
      "execution_count": null,
      "outputs": [
        {
          "output_type": "stream",
          "name": "stdout",
          "text": [
            "0.2561323344707489\n",
            "0.25613996386528015\n",
            "0.2561213970184326\n",
            "0.2561289668083191\n",
            "0.2561105191707611\n",
            "0.2561180293560028\n",
            "0.2560997009277344\n",
            "0.2561071515083313\n",
            "0.25608891248703003\n",
            "0.25609633326530457\n"
          ]
        }
      ]
    },
    {
      "cell_type": "code",
      "source": [],
      "metadata": {
        "id": "bf-b5OaKsvI8"
      },
      "execution_count": null,
      "outputs": []
    },
    {
      "cell_type": "markdown",
      "source": [
        "### training split , dev/validation split , test split\n",
        "### 80% ,  10% , 10%\n",
        "\n",
        "- training split is used for training your neuralnet .\n",
        "- dev / val split is for hyperparameter try different hyperparameter and check which works best .\n",
        "- eval performance of your model .\n",
        "(use test split less no of times to avoid overfitting testsplit.\n"
      ],
      "metadata": {
        "id": "bdn9yU9meQIz"
      }
    },
    {
      "cell_type": "markdown",
      "source": [
        "- code for dataet generation is similar to above code .\n",
        "- we want to split the dataset into 3 splits .(training , test , split.)\n",
        "- we import random which provides us function to generate random numbers  and shuffling sequences.\n",
        "- random.seed sets is used for reproducibility by generating same random numbers each time .\n",
        "- n1 = int( 0.8 * len(words)) - we calculate index upto which training dataset extends 80% of length of data. same with n2 .\n",
        "-  Using build dataset we build dataset and pass word[:n1] for selecting words from index 0 to n1 .\n",
        "-  Using build dataset we build dataset and pass word[:n1] for selecting words from index 0 to n1 . xtr represents input-training , ytr represents label for training examples from xtr.\n"
      ],
      "metadata": {
        "id": "LCP3-pmETzxf"
      }
    },
    {
      "cell_type": "code",
      "source": [
        "# build the dataset\n",
        "block_size = 3 # context length: how many characters do we take to predict the next one?\n",
        "\n",
        "def build_dataset(words):\n",
        "  X, Y = [], []\n",
        "  for w in words:\n",
        "\n",
        "    #print(w)\n",
        "    context = [0] * block_size\n",
        "    for ch in w + '.':\n",
        "      ix = stoi[ch]\n",
        "      X.append(context)\n",
        "      Y.append(ix)\n",
        "      #print(''.join(itos[i] for i in context), '--->', itos[ix])\n",
        "      context = context[1:] + [ix] # crop and append\n",
        "\n",
        "  X = torch.tensor(X)\n",
        "  Y = torch.tensor(Y)\n",
        "  print(X.shape, Y.shape)\n",
        "  return X, Y\n",
        "\n",
        "import random\n",
        "random.seed(42)\n",
        "random.shuffle(words)\n",
        "n1 = int(0.8*len(words))\n",
        "n2 = int(0.9*len(words))\n",
        "\n",
        "Xtr, Ytr = build_dataset(words[:n1])\n",
        "Xdev, Ydev = build_dataset(words[n1:n2])\n",
        "Xte, Yte = build_dataset(words[n2:])\n"
      ],
      "metadata": {
        "id": "SKvevl4zebn5",
        "colab": {
          "base_uri": "https://localhost:8080/"
        },
        "outputId": "bc0146d7-21fa-4cf0-de70-e6fdbdc1850e"
      },
      "execution_count": null,
      "outputs": [
        {
          "output_type": "stream",
          "name": "stdout",
          "text": [
            "torch.Size([182625, 3]) torch.Size([182625])\n",
            "torch.Size([22655, 3]) torch.Size([22655])\n",
            "torch.Size([22866, 3]) torch.Size([22866])\n"
          ]
        }
      ]
    },
    {
      "cell_type": "markdown",
      "source": [
        "- Creates a one-dimensional tensor of size steps whose values are evenly spaced from start to end, inclusive.\n",
        "- This is a list of learning rate .\n",
        "- we change learning rate over iteration.\n"
      ],
      "metadata": {
        "id": "IvDKBdFSwjMT"
      }
    },
    {
      "cell_type": "code",
      "source": [
        "lre = torch.linspace(-3,0,1000)\n",
        "lrs = 10**lre\n",
        "lrs"
      ],
      "metadata": {
        "colab": {
          "base_uri": "https://localhost:8080/"
        },
        "id": "p5GsyS4HvHtT",
        "outputId": "592efdd4-bf98-4649-b5b4-f640dd07fab6"
      },
      "execution_count": null,
      "outputs": [
        {
          "output_type": "execute_result",
          "data": {
            "text/plain": [
              "tensor([0.0010, 0.0010, 0.0010, 0.0010, 0.0010, 0.0010, 0.0010, 0.0010, 0.0011,\n",
              "        0.0011, 0.0011, 0.0011, 0.0011, 0.0011, 0.0011, 0.0011, 0.0011, 0.0011,\n",
              "        0.0011, 0.0011, 0.0011, 0.0012, 0.0012, 0.0012, 0.0012, 0.0012, 0.0012,\n",
              "        0.0012, 0.0012, 0.0012, 0.0012, 0.0012, 0.0012, 0.0013, 0.0013, 0.0013,\n",
              "        0.0013, 0.0013, 0.0013, 0.0013, 0.0013, 0.0013, 0.0013, 0.0013, 0.0014,\n",
              "        0.0014, 0.0014, 0.0014, 0.0014, 0.0014, 0.0014, 0.0014, 0.0014, 0.0014,\n",
              "        0.0015, 0.0015, 0.0015, 0.0015, 0.0015, 0.0015, 0.0015, 0.0015, 0.0015,\n",
              "        0.0015, 0.0016, 0.0016, 0.0016, 0.0016, 0.0016, 0.0016, 0.0016, 0.0016,\n",
              "        0.0016, 0.0017, 0.0017, 0.0017, 0.0017, 0.0017, 0.0017, 0.0017, 0.0017,\n",
              "        0.0018, 0.0018, 0.0018, 0.0018, 0.0018, 0.0018, 0.0018, 0.0018, 0.0019,\n",
              "        0.0019, 0.0019, 0.0019, 0.0019, 0.0019, 0.0019, 0.0019, 0.0020, 0.0020,\n",
              "        0.0020, 0.0020, 0.0020, 0.0020, 0.0020, 0.0021, 0.0021, 0.0021, 0.0021,\n",
              "        0.0021, 0.0021, 0.0021, 0.0022, 0.0022, 0.0022, 0.0022, 0.0022, 0.0022,\n",
              "        0.0022, 0.0023, 0.0023, 0.0023, 0.0023, 0.0023, 0.0023, 0.0024, 0.0024,\n",
              "        0.0024, 0.0024, 0.0024, 0.0024, 0.0025, 0.0025, 0.0025, 0.0025, 0.0025,\n",
              "        0.0025, 0.0026, 0.0026, 0.0026, 0.0026, 0.0026, 0.0027, 0.0027, 0.0027,\n",
              "        0.0027, 0.0027, 0.0027, 0.0028, 0.0028, 0.0028, 0.0028, 0.0028, 0.0029,\n",
              "        0.0029, 0.0029, 0.0029, 0.0029, 0.0030, 0.0030, 0.0030, 0.0030, 0.0030,\n",
              "        0.0031, 0.0031, 0.0031, 0.0031, 0.0032, 0.0032, 0.0032, 0.0032, 0.0032,\n",
              "        0.0033, 0.0033, 0.0033, 0.0033, 0.0034, 0.0034, 0.0034, 0.0034, 0.0034,\n",
              "        0.0035, 0.0035, 0.0035, 0.0035, 0.0036, 0.0036, 0.0036, 0.0036, 0.0037,\n",
              "        0.0037, 0.0037, 0.0037, 0.0038, 0.0038, 0.0038, 0.0039, 0.0039, 0.0039,\n",
              "        0.0039, 0.0040, 0.0040, 0.0040, 0.0040, 0.0041, 0.0041, 0.0041, 0.0042,\n",
              "        0.0042, 0.0042, 0.0042, 0.0043, 0.0043, 0.0043, 0.0044, 0.0044, 0.0044,\n",
              "        0.0045, 0.0045, 0.0045, 0.0045, 0.0046, 0.0046, 0.0046, 0.0047, 0.0047,\n",
              "        0.0047, 0.0048, 0.0048, 0.0048, 0.0049, 0.0049, 0.0049, 0.0050, 0.0050,\n",
              "        0.0050, 0.0051, 0.0051, 0.0051, 0.0052, 0.0052, 0.0053, 0.0053, 0.0053,\n",
              "        0.0054, 0.0054, 0.0054, 0.0055, 0.0055, 0.0056, 0.0056, 0.0056, 0.0057,\n",
              "        0.0057, 0.0058, 0.0058, 0.0058, 0.0059, 0.0059, 0.0060, 0.0060, 0.0060,\n",
              "        0.0061, 0.0061, 0.0062, 0.0062, 0.0062, 0.0063, 0.0063, 0.0064, 0.0064,\n",
              "        0.0065, 0.0065, 0.0066, 0.0066, 0.0067, 0.0067, 0.0067, 0.0068, 0.0068,\n",
              "        0.0069, 0.0069, 0.0070, 0.0070, 0.0071, 0.0071, 0.0072, 0.0072, 0.0073,\n",
              "        0.0073, 0.0074, 0.0074, 0.0075, 0.0075, 0.0076, 0.0076, 0.0077, 0.0077,\n",
              "        0.0078, 0.0079, 0.0079, 0.0080, 0.0080, 0.0081, 0.0081, 0.0082, 0.0082,\n",
              "        0.0083, 0.0084, 0.0084, 0.0085, 0.0085, 0.0086, 0.0086, 0.0087, 0.0088,\n",
              "        0.0088, 0.0089, 0.0090, 0.0090, 0.0091, 0.0091, 0.0092, 0.0093, 0.0093,\n",
              "        0.0094, 0.0095, 0.0095, 0.0096, 0.0097, 0.0097, 0.0098, 0.0099, 0.0099,\n",
              "        0.0100, 0.0101, 0.0101, 0.0102, 0.0103, 0.0104, 0.0104, 0.0105, 0.0106,\n",
              "        0.0106, 0.0107, 0.0108, 0.0109, 0.0109, 0.0110, 0.0111, 0.0112, 0.0112,\n",
              "        0.0113, 0.0114, 0.0115, 0.0116, 0.0116, 0.0117, 0.0118, 0.0119, 0.0120,\n",
              "        0.0121, 0.0121, 0.0122, 0.0123, 0.0124, 0.0125, 0.0126, 0.0127, 0.0127,\n",
              "        0.0128, 0.0129, 0.0130, 0.0131, 0.0132, 0.0133, 0.0134, 0.0135, 0.0136,\n",
              "        0.0137, 0.0137, 0.0138, 0.0139, 0.0140, 0.0141, 0.0142, 0.0143, 0.0144,\n",
              "        0.0145, 0.0146, 0.0147, 0.0148, 0.0149, 0.0150, 0.0151, 0.0152, 0.0154,\n",
              "        0.0155, 0.0156, 0.0157, 0.0158, 0.0159, 0.0160, 0.0161, 0.0162, 0.0163,\n",
              "        0.0165, 0.0166, 0.0167, 0.0168, 0.0169, 0.0170, 0.0171, 0.0173, 0.0174,\n",
              "        0.0175, 0.0176, 0.0178, 0.0179, 0.0180, 0.0181, 0.0182, 0.0184, 0.0185,\n",
              "        0.0186, 0.0188, 0.0189, 0.0190, 0.0192, 0.0193, 0.0194, 0.0196, 0.0197,\n",
              "        0.0198, 0.0200, 0.0201, 0.0202, 0.0204, 0.0205, 0.0207, 0.0208, 0.0210,\n",
              "        0.0211, 0.0212, 0.0214, 0.0215, 0.0217, 0.0218, 0.0220, 0.0221, 0.0223,\n",
              "        0.0225, 0.0226, 0.0228, 0.0229, 0.0231, 0.0232, 0.0234, 0.0236, 0.0237,\n",
              "        0.0239, 0.0241, 0.0242, 0.0244, 0.0246, 0.0247, 0.0249, 0.0251, 0.0253,\n",
              "        0.0254, 0.0256, 0.0258, 0.0260, 0.0261, 0.0263, 0.0265, 0.0267, 0.0269,\n",
              "        0.0271, 0.0273, 0.0274, 0.0276, 0.0278, 0.0280, 0.0282, 0.0284, 0.0286,\n",
              "        0.0288, 0.0290, 0.0292, 0.0294, 0.0296, 0.0298, 0.0300, 0.0302, 0.0304,\n",
              "        0.0307, 0.0309, 0.0311, 0.0313, 0.0315, 0.0317, 0.0320, 0.0322, 0.0324,\n",
              "        0.0326, 0.0328, 0.0331, 0.0333, 0.0335, 0.0338, 0.0340, 0.0342, 0.0345,\n",
              "        0.0347, 0.0350, 0.0352, 0.0354, 0.0357, 0.0359, 0.0362, 0.0364, 0.0367,\n",
              "        0.0369, 0.0372, 0.0375, 0.0377, 0.0380, 0.0382, 0.0385, 0.0388, 0.0390,\n",
              "        0.0393, 0.0396, 0.0399, 0.0401, 0.0404, 0.0407, 0.0410, 0.0413, 0.0416,\n",
              "        0.0418, 0.0421, 0.0424, 0.0427, 0.0430, 0.0433, 0.0436, 0.0439, 0.0442,\n",
              "        0.0445, 0.0448, 0.0451, 0.0455, 0.0458, 0.0461, 0.0464, 0.0467, 0.0471,\n",
              "        0.0474, 0.0477, 0.0480, 0.0484, 0.0487, 0.0491, 0.0494, 0.0497, 0.0501,\n",
              "        0.0504, 0.0508, 0.0511, 0.0515, 0.0518, 0.0522, 0.0526, 0.0529, 0.0533,\n",
              "        0.0537, 0.0540, 0.0544, 0.0548, 0.0552, 0.0556, 0.0559, 0.0563, 0.0567,\n",
              "        0.0571, 0.0575, 0.0579, 0.0583, 0.0587, 0.0591, 0.0595, 0.0599, 0.0604,\n",
              "        0.0608, 0.0612, 0.0616, 0.0621, 0.0625, 0.0629, 0.0634, 0.0638, 0.0642,\n",
              "        0.0647, 0.0651, 0.0656, 0.0660, 0.0665, 0.0670, 0.0674, 0.0679, 0.0684,\n",
              "        0.0688, 0.0693, 0.0698, 0.0703, 0.0708, 0.0713, 0.0718, 0.0723, 0.0728,\n",
              "        0.0733, 0.0738, 0.0743, 0.0748, 0.0753, 0.0758, 0.0764, 0.0769, 0.0774,\n",
              "        0.0780, 0.0785, 0.0790, 0.0796, 0.0802, 0.0807, 0.0813, 0.0818, 0.0824,\n",
              "        0.0830, 0.0835, 0.0841, 0.0847, 0.0853, 0.0859, 0.0865, 0.0871, 0.0877,\n",
              "        0.0883, 0.0889, 0.0895, 0.0901, 0.0908, 0.0914, 0.0920, 0.0927, 0.0933,\n",
              "        0.0940, 0.0946, 0.0953, 0.0959, 0.0966, 0.0973, 0.0979, 0.0986, 0.0993,\n",
              "        0.1000, 0.1007, 0.1014, 0.1021, 0.1028, 0.1035, 0.1042, 0.1050, 0.1057,\n",
              "        0.1064, 0.1072, 0.1079, 0.1087, 0.1094, 0.1102, 0.1109, 0.1117, 0.1125,\n",
              "        0.1133, 0.1140, 0.1148, 0.1156, 0.1164, 0.1172, 0.1181, 0.1189, 0.1197,\n",
              "        0.1205, 0.1214, 0.1222, 0.1231, 0.1239, 0.1248, 0.1256, 0.1265, 0.1274,\n",
              "        0.1283, 0.1292, 0.1301, 0.1310, 0.1319, 0.1328, 0.1337, 0.1346, 0.1356,\n",
              "        0.1365, 0.1374, 0.1384, 0.1394, 0.1403, 0.1413, 0.1423, 0.1433, 0.1443,\n",
              "        0.1453, 0.1463, 0.1473, 0.1483, 0.1493, 0.1504, 0.1514, 0.1525, 0.1535,\n",
              "        0.1546, 0.1557, 0.1567, 0.1578, 0.1589, 0.1600, 0.1611, 0.1623, 0.1634,\n",
              "        0.1645, 0.1657, 0.1668, 0.1680, 0.1691, 0.1703, 0.1715, 0.1727, 0.1739,\n",
              "        0.1751, 0.1763, 0.1775, 0.1788, 0.1800, 0.1812, 0.1825, 0.1838, 0.1850,\n",
              "        0.1863, 0.1876, 0.1889, 0.1902, 0.1916, 0.1929, 0.1942, 0.1956, 0.1969,\n",
              "        0.1983, 0.1997, 0.2010, 0.2024, 0.2038, 0.2053, 0.2067, 0.2081, 0.2096,\n",
              "        0.2110, 0.2125, 0.2140, 0.2154, 0.2169, 0.2184, 0.2200, 0.2215, 0.2230,\n",
              "        0.2246, 0.2261, 0.2277, 0.2293, 0.2309, 0.2325, 0.2341, 0.2357, 0.2373,\n",
              "        0.2390, 0.2406, 0.2423, 0.2440, 0.2457, 0.2474, 0.2491, 0.2508, 0.2526,\n",
              "        0.2543, 0.2561, 0.2579, 0.2597, 0.2615, 0.2633, 0.2651, 0.2669, 0.2688,\n",
              "        0.2707, 0.2725, 0.2744, 0.2763, 0.2783, 0.2802, 0.2821, 0.2841, 0.2861,\n",
              "        0.2880, 0.2900, 0.2921, 0.2941, 0.2961, 0.2982, 0.3002, 0.3023, 0.3044,\n",
              "        0.3065, 0.3087, 0.3108, 0.3130, 0.3151, 0.3173, 0.3195, 0.3217, 0.3240,\n",
              "        0.3262, 0.3285, 0.3308, 0.3331, 0.3354, 0.3377, 0.3400, 0.3424, 0.3448,\n",
              "        0.3472, 0.3496, 0.3520, 0.3544, 0.3569, 0.3594, 0.3619, 0.3644, 0.3669,\n",
              "        0.3695, 0.3720, 0.3746, 0.3772, 0.3798, 0.3825, 0.3851, 0.3878, 0.3905,\n",
              "        0.3932, 0.3959, 0.3987, 0.4014, 0.4042, 0.4070, 0.4098, 0.4127, 0.4155,\n",
              "        0.4184, 0.4213, 0.4243, 0.4272, 0.4302, 0.4331, 0.4362, 0.4392, 0.4422,\n",
              "        0.4453, 0.4484, 0.4515, 0.4546, 0.4578, 0.4610, 0.4642, 0.4674, 0.4706,\n",
              "        0.4739, 0.4772, 0.4805, 0.4838, 0.4872, 0.4906, 0.4940, 0.4974, 0.5008,\n",
              "        0.5043, 0.5078, 0.5113, 0.5149, 0.5185, 0.5221, 0.5257, 0.5293, 0.5330,\n",
              "        0.5367, 0.5404, 0.5442, 0.5479, 0.5517, 0.5556, 0.5594, 0.5633, 0.5672,\n",
              "        0.5712, 0.5751, 0.5791, 0.5831, 0.5872, 0.5913, 0.5954, 0.5995, 0.6036,\n",
              "        0.6078, 0.6120, 0.6163, 0.6206, 0.6249, 0.6292, 0.6336, 0.6380, 0.6424,\n",
              "        0.6469, 0.6513, 0.6559, 0.6604, 0.6650, 0.6696, 0.6743, 0.6789, 0.6837,\n",
              "        0.6884, 0.6932, 0.6980, 0.7028, 0.7077, 0.7126, 0.7176, 0.7225, 0.7275,\n",
              "        0.7326, 0.7377, 0.7428, 0.7480, 0.7531, 0.7584, 0.7636, 0.7689, 0.7743,\n",
              "        0.7796, 0.7850, 0.7905, 0.7960, 0.8015, 0.8071, 0.8127, 0.8183, 0.8240,\n",
              "        0.8297, 0.8355, 0.8412, 0.8471, 0.8530, 0.8589, 0.8648, 0.8708, 0.8769,\n",
              "        0.8830, 0.8891, 0.8953, 0.9015, 0.9077, 0.9140, 0.9204, 0.9268, 0.9332,\n",
              "        0.9397, 0.9462, 0.9528, 0.9594, 0.9660, 0.9727, 0.9795, 0.9863, 0.9931,\n",
              "        1.0000])"
            ]
          },
          "metadata": {},
          "execution_count": 174
        }
      ]
    },
    {
      "cell_type": "code",
      "source": [
        "lri = []\n",
        "lossi = []\n",
        "\n",
        "for i in range(1000):\n",
        "\n",
        "# mini batch .\n",
        "  ix = torch.randint(0,X.shape[0], (32,))\n",
        "# fordward pass\n",
        "  emb = C[Xtr[ix]]\n",
        "  h = torch.tanh(emb.view(-1,6) @ W1 + b1 )\n",
        "  logits = h @ W2 +b2\n",
        "  loss = F.cross_entropy(logits ,Ytr[ix])\n",
        "  print(loss.item())\n",
        "# backward pass\n",
        "  for  p in parameters:\n",
        "    p.grad = None\n",
        "  loss.backward()\n",
        "\n",
        "# update\n",
        "  lr = lrs[i]\n",
        "  for p in parameters:\n",
        "    p.data += -lr * p.grad\n",
        "\n",
        "  lri.append(lre[i])\n",
        "  lossi.append(loss.item())\n",
        "\n",
        "print(loss.item())"
      ],
      "metadata": {
        "colab": {
          "base_uri": "https://localhost:8080/"
        },
        "id": "ybaOwOGZs7un",
        "outputId": "8fbdfb6f-818c-4a55-dcad-93a9bf2c9380"
      },
      "execution_count": null,
      "outputs": [
        {
          "output_type": "stream",
          "name": "stdout",
          "text": [
            "0.12242484837770462\n",
            "0.2527119219303131\n",
            "0.5448377132415771\n",
            "0.30449095368385315\n",
            "0.5790571570396423\n",
            "0.45712465047836304\n",
            "1.4765233993530273\n",
            "0.3407812714576721\n",
            "1.5555239915847778\n",
            "0.30031898617744446\n",
            "0.5413504838943481\n",
            "1.17099130153656\n",
            "1.046568512916565\n",
            "0.34027495980262756\n",
            "0.4596944749355316\n",
            "0.8407021164894104\n",
            "0.6333822011947632\n",
            "0.5230492353439331\n",
            "0.5716224908828735\n",
            "0.23283542692661285\n",
            "0.3531462848186493\n",
            "0.8915700912475586\n",
            "0.36031797528266907\n",
            "1.8693199157714844\n",
            "0.96737140417099\n",
            "0.3453548848628998\n",
            "0.2942221164703369\n",
            "0.5150509476661682\n",
            "0.6849212050437927\n",
            "1.0124551057815552\n",
            "0.44978469610214233\n",
            "0.6212278008460999\n",
            "0.8314352631568909\n",
            "1.2251986265182495\n",
            "0.33569851517677307\n",
            "0.3336867690086365\n",
            "0.5651962757110596\n",
            "0.5015552639961243\n",
            "0.11435532569885254\n",
            "0.5046864151954651\n",
            "0.3310239911079407\n",
            "0.6074559688568115\n",
            "0.8211824297904968\n",
            "0.5558416843414307\n",
            "0.6056955456733704\n",
            "0.38704466819763184\n",
            "1.133857250213623\n",
            "1.0874618291854858\n",
            "0.337185263633728\n",
            "0.5454114675521851\n",
            "0.3807756304740906\n",
            "0.8546421527862549\n",
            "0.8546395897865295\n",
            "0.5407521724700928\n",
            "0.47761866450309753\n",
            "1.55457603931427\n",
            "0.3216124176979065\n",
            "0.9984806180000305\n",
            "0.10788487643003464\n",
            "0.3221099376678467\n",
            "0.6917481422424316\n",
            "0.5295555591583252\n",
            "0.7974150776863098\n",
            "0.9368371367454529\n",
            "0.16667161881923676\n",
            "0.6189770102500916\n",
            "0.36141419410705566\n",
            "0.581113874912262\n",
            "1.2408363819122314\n",
            "0.5604121088981628\n",
            "1.2108877897262573\n",
            "0.3971247375011444\n",
            "0.19883324205875397\n",
            "0.30294984579086304\n",
            "1.0102463960647583\n",
            "1.2761940956115723\n",
            "0.25452521443367004\n",
            "0.09875131398439407\n",
            "1.8816416263580322\n",
            "0.19617927074432373\n",
            "0.5603192448616028\n",
            "0.2822398543357849\n",
            "0.9428106546401978\n",
            "0.30657628178596497\n",
            "0.756585419178009\n",
            "0.7923372983932495\n",
            "0.9342514276504517\n",
            "0.3944699168205261\n",
            "0.19433657824993134\n",
            "1.1668862104415894\n",
            "0.3372674882411957\n",
            "0.7909339070320129\n",
            "0.19667258858680725\n",
            "0.9046069383621216\n",
            "0.39889195561408997\n",
            "0.5242037773132324\n",
            "0.38687220215797424\n",
            "0.8919057846069336\n",
            "0.25744152069091797\n",
            "0.7427665591239929\n",
            "0.7335292100906372\n",
            "0.7426233291625977\n",
            "0.39276769757270813\n",
            "0.4485839009284973\n",
            "0.9902946352958679\n",
            "0.36685359477996826\n",
            "0.44919753074645996\n",
            "0.6356245875358582\n",
            "1.0063101053237915\n",
            "0.6883018016815186\n",
            "1.0662002563476562\n",
            "0.8181219100952148\n",
            "0.7622794508934021\n",
            "0.2940433919429779\n",
            "0.7277324795722961\n",
            "0.2372056245803833\n",
            "0.2533489763736725\n",
            "0.5916079878807068\n",
            "0.8971100449562073\n",
            "0.3673155605792999\n",
            "0.8265981674194336\n",
            "1.1764215230941772\n",
            "0.947884738445282\n",
            "0.3584667146205902\n",
            "0.45246198773384094\n",
            "0.7853682637214661\n",
            "0.8526192903518677\n",
            "0.45148664712905884\n",
            "0.4730161428451538\n",
            "0.7048351764678955\n",
            "0.27641233801841736\n",
            "0.7767820358276367\n",
            "0.8755509853363037\n",
            "0.6915594339370728\n",
            "0.5964221954345703\n",
            "0.4941856861114502\n",
            "0.3277308940887451\n",
            "0.08705071359872818\n",
            "1.0434350967407227\n",
            "0.543556272983551\n",
            "0.5452804565429688\n",
            "0.4690541625022888\n",
            "0.08188939839601517\n",
            "0.6338445544242859\n",
            "1.0927259922027588\n",
            "0.0203385092318058\n",
            "0.3003387451171875\n",
            "0.5786500573158264\n",
            "0.47976309061050415\n",
            "0.4128950238227844\n",
            "0.13310015201568604\n",
            "0.760563850402832\n",
            "0.6491172313690186\n",
            "0.34639060497283936\n",
            "0.5516262054443359\n",
            "0.9162915349006653\n",
            "0.9433354735374451\n",
            "0.40226009488105774\n",
            "0.2775934040546417\n",
            "0.24038127064704895\n",
            "0.20325055718421936\n",
            "0.20864875614643097\n",
            "0.27700352668762207\n",
            "0.6633277535438538\n",
            "0.9270682334899902\n",
            "0.6761338710784912\n",
            "0.8776772022247314\n",
            "0.5150812268257141\n",
            "0.5138228535652161\n",
            "0.4778884947299957\n",
            "0.4939256012439728\n",
            "0.611632764339447\n",
            "0.45564740896224976\n",
            "0.3242098391056061\n",
            "0.32957005500793457\n",
            "0.5405595302581787\n",
            "0.17980128526687622\n",
            "0.21805541217327118\n",
            "0.27407559752464294\n",
            "0.1368447095155716\n",
            "0.5513197779655457\n",
            "0.4841058850288391\n",
            "0.3510611951351166\n",
            "0.38116690516471863\n",
            "0.397260844707489\n",
            "0.3614700436592102\n",
            "0.31326228380203247\n",
            "0.5892793536186218\n",
            "0.33198487758636475\n",
            "0.31419068574905396\n",
            "0.18071387708187103\n",
            "0.2273685783147812\n",
            "0.45338883996009827\n",
            "0.2153908610343933\n",
            "0.28388887643814087\n",
            "0.21171392500400543\n",
            "0.087663434445858\n",
            "0.3778207004070282\n",
            "0.5380762815475464\n",
            "0.5163930654525757\n",
            "0.48545706272125244\n",
            "0.6900703310966492\n",
            "0.5737764835357666\n",
            "0.4543246328830719\n",
            "0.33116644620895386\n",
            "1.0359904766082764\n",
            "0.06394385546445847\n",
            "0.45426979660987854\n",
            "0.3915710151195526\n",
            "0.4210573434829712\n",
            "0.7515620589256287\n",
            "0.40403738617897034\n",
            "0.8491058945655823\n",
            "0.8145427703857422\n",
            "0.06515033543109894\n",
            "0.4662844240665436\n",
            "0.5455456972122192\n",
            "0.38963377475738525\n",
            "0.18380093574523926\n",
            "0.011709528043866158\n",
            "0.34826749563217163\n",
            "0.904262363910675\n",
            "0.23104766011238098\n",
            "0.167266845703125\n",
            "0.17927685379981995\n",
            "0.21897593140602112\n",
            "0.6395739316940308\n",
            "0.5508999228477478\n",
            "0.1706615686416626\n",
            "1.2126026153564453\n",
            "0.20462575554847717\n",
            "0.3405095040798187\n",
            "0.1616545468568802\n",
            "0.34383881092071533\n",
            "0.6746824383735657\n",
            "0.40096932649612427\n",
            "0.3128421902656555\n",
            "0.11655338853597641\n",
            "0.13213960826396942\n",
            "0.5938316583633423\n",
            "0.450753778219223\n",
            "0.694593608379364\n",
            "0.39077264070510864\n",
            "0.3441216051578522\n",
            "0.15948383510112762\n",
            "0.32316917181015015\n",
            "0.10103427618741989\n",
            "0.4649239480495453\n",
            "0.11761368811130524\n",
            "0.11240477114915848\n",
            "0.0891372486948967\n",
            "0.7022830843925476\n",
            "0.6087709665298462\n",
            "0.32931652665138245\n",
            "0.17363223433494568\n",
            "0.3894428014755249\n",
            "0.16279231011867523\n",
            "0.25687482953071594\n",
            "0.5229369401931763\n",
            "0.33490654826164246\n",
            "0.24096037447452545\n",
            "0.3590203821659088\n",
            "0.15756948292255402\n",
            "0.4467014968395233\n",
            "0.6805273294448853\n",
            "0.0893716812133789\n",
            "0.33777889609336853\n",
            "0.042734064161777496\n",
            "0.18619222939014435\n",
            "0.21247604489326477\n",
            "0.6392480134963989\n",
            "0.18311014771461487\n",
            "0.15776531398296356\n",
            "0.599828839302063\n",
            "0.2615671455860138\n",
            "0.2531399726867676\n",
            "0.1872793287038803\n",
            "0.45774614810943604\n",
            "0.4781758487224579\n",
            "0.5163353085517883\n",
            "0.2581360340118408\n",
            "0.47295114398002625\n",
            "0.6557134985923767\n",
            "0.13912883400917053\n",
            "0.16535384953022003\n",
            "0.5834868550300598\n",
            "0.38631632924079895\n",
            "0.5176842212677002\n",
            "0.5394442677497864\n",
            "0.6870266199111938\n",
            "0.2588637173175812\n",
            "0.29715633392333984\n",
            "0.145821213722229\n",
            "0.25513380765914917\n",
            "0.1546255499124527\n",
            "0.5172653198242188\n",
            "0.4557652175426483\n",
            "0.30728572607040405\n",
            "0.35931551456451416\n",
            "0.18149225413799286\n",
            "0.5387320518493652\n",
            "0.40645456314086914\n",
            "0.36030158400535583\n",
            "0.26468533277511597\n",
            "0.5995291471481323\n",
            "0.3058752417564392\n",
            "0.20664094388484955\n",
            "0.2435397207736969\n",
            "0.616256594657898\n",
            "0.2569555640220642\n",
            "0.6977236270904541\n",
            "0.2736610472202301\n",
            "0.28048068284988403\n",
            "0.5645723938941956\n",
            "0.25261038541793823\n",
            "0.31610798835754395\n",
            "0.3313516676425934\n",
            "0.24634869396686554\n",
            "0.08436612784862518\n",
            "0.2809516191482544\n",
            "0.18214988708496094\n",
            "0.41042181849479675\n",
            "0.21858477592468262\n",
            "0.5886209607124329\n",
            "0.27385851740837097\n",
            "0.31489792466163635\n",
            "0.32659226655960083\n",
            "0.11487308144569397\n",
            "0.6749231815338135\n",
            "0.31738901138305664\n",
            "0.22971683740615845\n",
            "0.2828892171382904\n",
            "0.2338838428258896\n",
            "0.25905945897102356\n",
            "0.07631367444992065\n",
            "0.24122348427772522\n",
            "0.15904925763607025\n",
            "0.2449338585138321\n",
            "0.31441712379455566\n",
            "0.19281063973903656\n",
            "0.18949252367019653\n",
            "0.32399967312812805\n",
            "0.14103658497333527\n",
            "0.31535038352012634\n",
            "0.26638877391815186\n",
            "0.13575269281864166\n",
            "0.41270774602890015\n",
            "0.36274126172065735\n",
            "0.2329760044813156\n",
            "0.2889600098133087\n",
            "0.23176009953022003\n",
            "0.22262802720069885\n",
            "0.2616105377674103\n",
            "0.16167251765727997\n",
            "0.4751547574996948\n",
            "0.24598905444145203\n",
            "0.21188005805015564\n",
            "0.18542951345443726\n",
            "0.2643296718597412\n",
            "0.32812929153442383\n",
            "0.4013764560222626\n",
            "0.23104670643806458\n",
            "0.09644223749637604\n",
            "0.17482835054397583\n",
            "0.23385204374790192\n",
            "0.5198926329612732\n",
            "0.19400952756404877\n",
            "0.2635033130645752\n",
            "0.25156497955322266\n",
            "0.15053455531597137\n",
            "0.14843864738941193\n",
            "0.19507278501987457\n",
            "0.38901591300964355\n",
            "0.27826622128486633\n",
            "0.07972703129053116\n",
            "0.24425837397575378\n",
            "0.1521192193031311\n",
            "0.3000721037387848\n",
            "0.1539558470249176\n",
            "0.20652851462364197\n",
            "0.19453608989715576\n",
            "0.18235765397548676\n",
            "0.5373410582542419\n",
            "0.09560774266719818\n",
            "0.3238878846168518\n",
            "0.17991355061531067\n",
            "0.10139063745737076\n",
            "0.31430473923683167\n",
            "0.3354937434196472\n",
            "0.44547033309936523\n",
            "0.23117364943027496\n",
            "0.12230365723371506\n",
            "0.21034803986549377\n",
            "0.2656746208667755\n",
            "0.23024111986160278\n",
            "0.37404748797416687\n",
            "0.19784684479236603\n",
            "0.2317076027393341\n",
            "0.23712772130966187\n",
            "0.24708694219589233\n",
            "0.20971748232841492\n",
            "0.22843439877033234\n",
            "0.24934041500091553\n",
            "0.2126474380493164\n",
            "0.2800222337245941\n",
            "0.21063466370105743\n",
            "0.3233858346939087\n",
            "0.2899100184440613\n",
            "0.3949867784976959\n",
            "0.23191283643245697\n",
            "0.14923177659511566\n",
            "0.526290237903595\n",
            "0.2546505928039551\n",
            "0.3068048655986786\n",
            "0.28024691343307495\n",
            "0.19333940744400024\n",
            "0.16773998737335205\n",
            "0.24848896265029907\n",
            "0.14012938737869263\n",
            "0.40095892548561096\n",
            "0.30563268065452576\n",
            "0.2955491840839386\n",
            "0.3100457787513733\n",
            "0.14267423748970032\n",
            "0.13232918083667755\n",
            "0.07388678938150406\n",
            "0.338611900806427\n",
            "0.25323230028152466\n",
            "0.15174929797649384\n",
            "0.21573306620121002\n",
            "0.219577357172966\n",
            "0.07097997516393661\n",
            "0.292987585067749\n",
            "0.3088507652282715\n",
            "0.24722588062286377\n",
            "0.1815977543592453\n",
            "0.31891053915023804\n",
            "0.21230703592300415\n",
            "0.2840202748775482\n",
            "0.20818117260932922\n",
            "0.15793286263942719\n",
            "0.2932882010936737\n",
            "0.2671966850757599\n",
            "0.09651423990726471\n",
            "0.31554901599884033\n",
            "0.4936085343360901\n",
            "0.25317344069480896\n",
            "0.2763194143772125\n",
            "0.2601722180843353\n",
            "0.19491586089134216\n",
            "0.26004356145858765\n",
            "0.224247008562088\n",
            "0.3744262456893921\n",
            "0.22982394695281982\n",
            "0.23625129461288452\n",
            "0.2567930519580841\n",
            "0.28117701411247253\n",
            "0.3452802896499634\n",
            "0.419279009103775\n",
            "0.2917073965072632\n",
            "0.3420143127441406\n",
            "0.22008347511291504\n",
            "0.16538207232952118\n",
            "0.34560152888298035\n",
            "0.4389033913612366\n",
            "0.23822376132011414\n",
            "0.28580838441848755\n",
            "0.1623290330171585\n",
            "0.22142282128334045\n",
            "0.2676490545272827\n",
            "0.2330651879310608\n",
            "0.33914268016815186\n",
            "0.07260653376579285\n",
            "0.24744784832000732\n",
            "0.30724814534187317\n",
            "0.3468294143676758\n",
            "0.4077555239200592\n",
            "0.17860907316207886\n",
            "0.2646452784538269\n",
            "0.4190957248210907\n",
            "0.2884528934955597\n",
            "0.26249033212661743\n",
            "0.36769899725914\n",
            "0.10415683686733246\n",
            "0.24933892488479614\n",
            "0.17798401415348053\n",
            "0.1455617994070053\n",
            "0.30459246039390564\n",
            "0.0878770723938942\n",
            "0.38547807931900024\n",
            "0.23372501134872437\n",
            "0.2604391872882843\n",
            "0.10292624682188034\n",
            "0.12368623167276382\n",
            "0.05536002293229103\n",
            "0.2354324907064438\n",
            "0.3124084770679474\n",
            "0.09165878593921661\n",
            "0.21819226443767548\n",
            "0.18040692806243896\n",
            "0.310770720243454\n",
            "0.2813546061515808\n",
            "0.24784865975379944\n",
            "0.3097490668296814\n",
            "0.3823786973953247\n",
            "0.3577723205089569\n",
            "0.23399122059345245\n",
            "0.40035051107406616\n",
            "0.36111000180244446\n",
            "0.2805686295032501\n",
            "0.3819163143634796\n",
            "0.14520913362503052\n",
            "0.08448144793510437\n",
            "0.18026073276996613\n",
            "0.3584511876106262\n",
            "0.1606210321187973\n",
            "0.23869842290878296\n",
            "0.1857966035604477\n",
            "0.2056664079427719\n",
            "0.4605441987514496\n",
            "0.15146222710609436\n",
            "0.4026428163051605\n",
            "0.16005361080169678\n",
            "0.2516304850578308\n",
            "0.22974373400211334\n",
            "0.09366090595722198\n",
            "0.16127511858940125\n",
            "0.10078790783882141\n",
            "0.37940818071365356\n",
            "0.2818589508533478\n",
            "0.3793816566467285\n",
            "0.2904411852359772\n",
            "0.42684659361839294\n",
            "0.27587950229644775\n",
            "0.3157154321670532\n",
            "0.17910143733024597\n",
            "0.39035263657569885\n",
            "0.4517219364643097\n",
            "0.3223784863948822\n",
            "0.37688350677490234\n",
            "0.24067682027816772\n",
            "0.1838175356388092\n",
            "0.32259848713874817\n",
            "0.16945235431194305\n",
            "0.2474355846643448\n",
            "0.17294271290302277\n",
            "0.06668408215045929\n",
            "0.4241567552089691\n",
            "0.2618088126182556\n",
            "0.10990678519010544\n",
            "0.19144637882709503\n",
            "0.28799399733543396\n",
            "0.26780346035957336\n",
            "0.18156328797340393\n",
            "0.1363295316696167\n",
            "0.24033145606517792\n",
            "0.10253126174211502\n",
            "0.10478086024522781\n",
            "0.2832569479942322\n",
            "0.22665272653102875\n",
            "0.45526358485221863\n",
            "0.27682581543922424\n",
            "0.26144659519195557\n",
            "0.33971554040908813\n",
            "0.30355891585350037\n",
            "0.2777097523212433\n",
            "0.36664462089538574\n",
            "0.316985160112381\n",
            "0.38105788826942444\n",
            "0.13610169291496277\n",
            "0.3355063498020172\n",
            "0.3020671606063843\n",
            "0.43433400988578796\n",
            "0.3577709197998047\n",
            "0.4775797128677368\n",
            "0.19898147881031036\n",
            "0.3172980844974518\n",
            "0.06017828360199928\n",
            "0.4620676636695862\n",
            "0.28625044226646423\n",
            "0.18030042946338654\n",
            "0.15806441009044647\n",
            "0.29748502373695374\n",
            "0.20082449913024902\n",
            "0.1990641951560974\n",
            "0.3543601930141449\n",
            "0.314740389585495\n",
            "0.11297960579395294\n",
            "0.26735013723373413\n",
            "0.18979834020137787\n",
            "0.3189907968044281\n",
            "0.3808722198009491\n",
            "0.1503235399723053\n",
            "0.1097564771771431\n",
            "0.28220832347869873\n",
            "0.3597899079322815\n",
            "0.3058321475982666\n",
            "0.12650614976882935\n",
            "0.10234977304935455\n",
            "0.09293215721845627\n",
            "0.23601964116096497\n",
            "0.37286612391471863\n",
            "0.32484427094459534\n",
            "0.33888742327690125\n",
            "0.34758204221725464\n",
            "0.3752179741859436\n",
            "0.23849529027938843\n",
            "0.2706373333930969\n",
            "0.18899662792682648\n",
            "0.22351031005382538\n",
            "0.2723836600780487\n",
            "0.18120473623275757\n",
            "0.18889988958835602\n",
            "0.252839595079422\n",
            "0.1227799579501152\n",
            "0.29784756898880005\n",
            "0.3739202320575714\n",
            "0.30599653720855713\n",
            "0.018805457279086113\n",
            "0.3621455430984497\n",
            "0.17405898869037628\n",
            "0.16244274377822876\n",
            "0.1703892946243286\n",
            "0.3195042610168457\n",
            "0.22418786585330963\n",
            "0.24712808430194855\n",
            "0.3138086199760437\n",
            "0.21167078614234924\n",
            "0.20904749631881714\n",
            "0.25262340903282166\n",
            "0.27877894043922424\n",
            "0.35706204175949097\n",
            "0.33997994661331177\n",
            "0.24551977217197418\n",
            "0.3566620647907257\n",
            "0.2220359593629837\n",
            "0.30564194917678833\n",
            "0.28942930698394775\n",
            "0.36319971084594727\n",
            "0.20643477141857147\n",
            "0.3256392776966095\n",
            "0.2742510735988617\n",
            "0.2574763000011444\n",
            "0.220936119556427\n",
            "0.18302132189273834\n",
            "0.1981469839811325\n",
            "0.36568689346313477\n",
            "0.06982210278511047\n",
            "0.3155653476715088\n",
            "0.14398829638957977\n",
            "0.19122625887393951\n",
            "0.3178189992904663\n",
            "0.35841965675354004\n",
            "0.3022085428237915\n",
            "0.2411264181137085\n",
            "0.2928835451602936\n",
            "0.3307446837425232\n",
            "0.24635186791419983\n",
            "0.22082436084747314\n",
            "0.31393757462501526\n",
            "0.20854397118091583\n",
            "0.3700816333293915\n",
            "0.3804500997066498\n",
            "0.19559432566165924\n",
            "0.2898511588573456\n",
            "0.26944443583488464\n",
            "0.32868143916130066\n",
            "0.31285813450813293\n",
            "0.5207709670066833\n",
            "0.3690924644470215\n",
            "0.35022473335266113\n",
            "0.3268960416316986\n",
            "0.2937861979007721\n",
            "0.2879084646701813\n",
            "0.3844456076622009\n",
            "0.3311467468738556\n",
            "0.2754579186439514\n",
            "0.10439407080411911\n",
            "0.3944177031517029\n",
            "0.4172135889530182\n",
            "0.5021654367446899\n",
            "0.23373650014400482\n",
            "0.14478446543216705\n",
            "0.31593573093414307\n",
            "0.16087892651557922\n",
            "0.26036494970321655\n",
            "0.14585398137569427\n",
            "0.3190023899078369\n",
            "0.21916304528713226\n",
            "0.10588216036558151\n",
            "0.5441739559173584\n",
            "0.2619549036026001\n",
            "0.233490452170372\n",
            "0.23004339635372162\n",
            "0.19711492955684662\n",
            "0.2760900855064392\n",
            "0.5226617455482483\n",
            "0.4018470048904419\n",
            "0.28749650716781616\n",
            "0.30682888627052307\n",
            "0.32691776752471924\n",
            "0.1817633956670761\n",
            "0.051288530230522156\n",
            "0.15300253033638\n",
            "0.17039555311203003\n",
            "0.4390581250190735\n",
            "0.335116982460022\n",
            "0.33309850096702576\n",
            "0.27252426743507385\n",
            "0.26015880703926086\n",
            "0.12266762554645538\n",
            "0.3358458876609802\n",
            "0.294286847114563\n",
            "0.3188174366950989\n",
            "0.17884798347949982\n",
            "0.4374953806400299\n",
            "0.1963222622871399\n",
            "0.20642206072807312\n",
            "0.27163466811180115\n",
            "0.2332860827445984\n",
            "0.5097687840461731\n",
            "0.3575246334075928\n",
            "0.28473371267318726\n",
            "0.18731456995010376\n",
            "0.39783769845962524\n",
            "0.2356393188238144\n",
            "0.13701346516609192\n",
            "0.38647961616516113\n",
            "0.30375877022743225\n",
            "0.15842801332473755\n",
            "0.40589335560798645\n",
            "0.5004315972328186\n",
            "0.14643864333629608\n",
            "0.25108158588409424\n",
            "0.5051446557044983\n",
            "0.32060837745666504\n",
            "0.33493274450302124\n",
            "0.4444054961204529\n",
            "0.3970346450805664\n",
            "0.2519803047180176\n",
            "0.10107114166021347\n",
            "0.16434921324253082\n",
            "0.2138671576976776\n",
            "0.20217512547969818\n",
            "0.2410278618335724\n",
            "0.28675422072410583\n",
            "0.4291604459285736\n",
            "0.19873109459877014\n",
            "0.33288443088531494\n",
            "0.32968416810035706\n",
            "0.2587474584579468\n",
            "0.38607075810432434\n",
            "0.08427891135215759\n",
            "0.24287177622318268\n",
            "0.2852317988872528\n",
            "0.3332245349884033\n",
            "0.3120250999927521\n",
            "0.3583035171031952\n",
            "0.18912608921527863\n",
            "0.36798611283302307\n",
            "0.1415981948375702\n",
            "0.2169138342142105\n",
            "0.27482205629348755\n",
            "0.19545897841453552\n",
            "0.36377158761024475\n",
            "0.18566757440567017\n",
            "0.49577564001083374\n",
            "0.16042862832546234\n",
            "0.3690395951271057\n",
            "0.2867693305015564\n",
            "0.1589672863483429\n",
            "0.2262861281633377\n",
            "0.29346030950546265\n",
            "0.4289107620716095\n",
            "0.6972532272338867\n",
            "0.68333899974823\n",
            "0.26347336173057556\n",
            "0.16365647315979004\n",
            "0.30430111289024353\n",
            "0.19934538006782532\n",
            "0.40329673886299133\n",
            "0.22999505698680878\n",
            "0.59161376953125\n",
            "0.2832580804824829\n",
            "0.6295740008354187\n",
            "0.4614998698234558\n",
            "0.24043020606040955\n",
            "0.24047264456748962\n",
            "0.31030043959617615\n",
            "0.24212370812892914\n",
            "0.3148813247680664\n",
            "0.1841890811920166\n",
            "0.2586311101913452\n",
            "0.5173961520195007\n",
            "0.6278253197669983\n",
            "0.33335572481155396\n",
            "0.24961158633232117\n",
            "0.48478490114212036\n",
            "0.22432279586791992\n",
            "0.21961523592472076\n",
            "0.22138771414756775\n",
            "0.19375281035900116\n",
            "0.19206225872039795\n",
            "0.4850080609321594\n",
            "0.3786054849624634\n",
            "0.46745535731315613\n",
            "0.2111302614212036\n",
            "0.1812349408864975\n",
            "0.1576346755027771\n",
            "0.3542434871196747\n",
            "0.233964741230011\n",
            "0.2857365310192108\n",
            "0.35016924142837524\n",
            "0.7499864101409912\n",
            "0.745037317276001\n",
            "0.19334810972213745\n",
            "0.2013641595840454\n",
            "0.06331067532300949\n",
            "0.19174961745738983\n",
            "0.393667072057724\n",
            "0.3409016728401184\n",
            "0.18977659940719604\n",
            "0.4409416615962982\n",
            "0.32584166526794434\n",
            "0.35082581639289856\n",
            "0.11657864600419998\n",
            "0.3558754026889801\n",
            "0.46697574853897095\n",
            "0.26767638325691223\n",
            "0.22186577320098877\n",
            "0.23999257385730743\n",
            "0.390799880027771\n",
            "0.3613937497138977\n",
            "0.40707603096961975\n",
            "0.5364478826522827\n",
            "0.5626674294471741\n",
            "0.4204352796077728\n",
            "0.2788778841495514\n",
            "0.18195562064647675\n",
            "0.34193262457847595\n",
            "0.5727132558822632\n",
            "0.5471513867378235\n",
            "0.3005891740322113\n",
            "0.2988402247428894\n",
            "0.4779816269874573\n",
            "0.3739166259765625\n",
            "0.5626087188720703\n",
            "0.29235783219337463\n",
            "0.31437191367149353\n",
            "0.27753421664237976\n",
            "0.44836461544036865\n",
            "0.20577740669250488\n",
            "0.15437594056129456\n",
            "0.34844860434532166\n",
            "0.2065739631652832\n",
            "0.6502365469932556\n",
            "0.549331545829773\n",
            "0.363049179315567\n",
            "0.38720130920410156\n",
            "0.10932223498821259\n",
            "0.37586721777915955\n",
            "0.2715114951133728\n",
            "0.39231207966804504\n",
            "0.2703056037425995\n",
            "0.5528500080108643\n",
            "0.20766907930374146\n",
            "0.8910550475120544\n",
            "0.4406655430793762\n",
            "0.9055919051170349\n",
            "0.42946159839630127\n",
            "0.34616535902023315\n",
            "0.1361425668001175\n",
            "0.2192172408103943\n",
            "0.2055872231721878\n",
            "0.4410262107849121\n",
            "0.36519572138786316\n",
            "0.40254124999046326\n",
            "0.447367399930954\n",
            "0.3677547574043274\n",
            "0.32323214411735535\n",
            "0.9344644546508789\n",
            "0.3260629177093506\n",
            "0.5226415991783142\n",
            "0.23818494379520416\n",
            "0.6399532556533813\n",
            "0.42929717898368835\n",
            "0.6083652377128601\n",
            "0.5815464854240417\n",
            "0.23138947784900665\n",
            "0.5887585878372192\n",
            "0.8187903761863708\n",
            "0.46843940019607544\n",
            "0.7395569086074829\n",
            "0.6224024891853333\n",
            "0.1192110925912857\n",
            "0.31457045674324036\n",
            "0.38504427671432495\n",
            "0.23627690970897675\n",
            "0.945417046546936\n",
            "0.5550069808959961\n",
            "0.5352045893669128\n",
            "0.4335651993751526\n",
            "0.3024868667125702\n",
            "0.3616812527179718\n",
            "0.8455805778503418\n",
            "0.4483514428138733\n",
            "0.5105838775634766\n",
            "0.7021863460540771\n",
            "0.7405518293380737\n",
            "0.3360534608364105\n",
            "0.21310216188430786\n",
            "0.2306750863790512\n",
            "0.15509921312332153\n",
            "0.441518098115921\n",
            "0.5632032752037048\n",
            "1.4197819232940674\n",
            "0.338016152381897\n",
            "0.6156571507453918\n",
            "1.8187247514724731\n",
            "0.6906304955482483\n",
            "0.8035116791725159\n",
            "0.47609779238700867\n",
            "0.6791478991508484\n",
            "0.9803194999694824\n",
            "0.7294512987136841\n",
            "0.16181519627571106\n",
            "0.6334031224250793\n",
            "0.5526717305183411\n",
            "0.8987973928451538\n",
            "0.31575968861579895\n",
            "1.1385027170181274\n",
            "0.6779100894927979\n",
            "0.5094432234764099\n",
            "0.4517146348953247\n",
            "0.9630960822105408\n",
            "1.624274730682373\n",
            "0.28447338938713074\n",
            "0.3249247968196869\n",
            "0.5451607704162598\n",
            "0.8381431102752686\n",
            "1.431845784187317\n",
            "0.7031769156455994\n",
            "0.30659720301628113\n",
            "0.45600762963294983\n",
            "0.7953471541404724\n",
            "0.2196180671453476\n",
            "0.45960697531700134\n",
            "0.6911476850509644\n",
            "0.695309579372406\n",
            "1.0195118188858032\n",
            "0.22658485174179077\n",
            "0.42719823122024536\n",
            "0.5164236426353455\n",
            "0.8013511896133423\n",
            "1.0606756210327148\n",
            "1.66795015335083\n",
            "1.1045140027999878\n",
            "0.7715214490890503\n",
            "0.4583301842212677\n",
            "0.4797077775001526\n",
            "0.32681161165237427\n",
            "0.7283637523651123\n",
            "0.5179570913314819\n",
            "0.4314895272254944\n",
            "0.9015873670578003\n",
            "1.5866317749023438\n",
            "1.142026424407959\n",
            "1.1793076992034912\n",
            "1.0485363006591797\n",
            "1.020958662033081\n",
            "0.5454904437065125\n",
            "0.5026172399520874\n",
            "0.48029986023902893\n",
            "0.6435714960098267\n",
            "1.3308672904968262\n",
            "0.40830546617507935\n",
            "0.8599344491958618\n",
            "0.70746248960495\n",
            "1.4648125171661377\n",
            "0.17836685478687286\n",
            "0.7096040844917297\n",
            "0.4192635416984558\n",
            "0.6661782264709473\n",
            "1.3366141319274902\n",
            "1.7584969997406006\n",
            "1.2800581455230713\n",
            "0.8252330422401428\n",
            "0.2520805895328522\n",
            "0.6374067664146423\n",
            "1.2982898950576782\n",
            "1.0627708435058594\n",
            "4.335941791534424\n",
            "0.6545113325119019\n",
            "0.8474571108818054\n",
            "1.4349095821380615\n",
            "1.1521360874176025\n",
            "0.3306176960468292\n",
            "0.6824859976768494\n",
            "1.4452475309371948\n",
            "1.2858710289001465\n",
            "1.2858710289001465\n"
          ]
        }
      ]
    },
    {
      "cell_type": "code",
      "source": [
        "from matplotlib import pyplot as plt"
      ],
      "metadata": {
        "id": "KR5TTmUGx6zY"
      },
      "execution_count": null,
      "outputs": []
    },
    {
      "cell_type": "code",
      "source": [
        "plt.plot(lri,lossi)"
      ],
      "metadata": {
        "colab": {
          "base_uri": "https://localhost:8080/",
          "height": 447
        },
        "id": "8cllGhWPx2-n",
        "outputId": "56fa1ac6-6b6c-44e4-acc7-a6eed681ead4"
      },
      "execution_count": null,
      "outputs": [
        {
          "output_type": "execute_result",
          "data": {
            "text/plain": [
              "[<matplotlib.lines.Line2D at 0x7f1e71777c70>]"
            ]
          },
          "metadata": {},
          "execution_count": 177
        },
        {
          "output_type": "display_data",
          "data": {
            "text/plain": [
              "<Figure size 640x480 with 1 Axes>"
            ],
            "image/png": "[encoded data removed]"
          },
          "metadata": {}
        }
      ]
    },
    {
      "cell_type": "code",
      "source": [
        "# training loss\n",
        "emb = C[Xtr] # (32, 3, 2)\n",
        "h = torch.tanh(emb.view(-1, 6) @ W1 + b1) # (32, 100)\n",
        "logits = h @ W2 + b2 # (32, 27)\n",
        "loss = F.cross_entropy(logits, Ytr)\n",
        "loss"
      ],
      "metadata": {
        "colab": {
          "base_uri": "https://localhost:8080/"
        },
        "id": "fCDDAnuUSp_R",
        "outputId": "09e1a373-6d30-4cd0-e354-42a974b246c1"
      },
      "execution_count": null,
      "outputs": [
        {
          "output_type": "execute_result",
          "data": {
            "text/plain": [
              "tensor(12.6472, grad_fn=<NllLossBackward0>)"
            ]
          },
          "metadata": {},
          "execution_count": 184
        }
      ]
    },
    {
      "cell_type": "code",
      "source": [],
      "metadata": {
        "id": "j4w0dIU7Qlef"
      },
      "execution_count": null,
      "outputs": []
    }
  ]
}