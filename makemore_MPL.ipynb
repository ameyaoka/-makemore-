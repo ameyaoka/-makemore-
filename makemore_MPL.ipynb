{
  "nbformat": 4,
  "nbformat_minor": 0,
  "metadata": {
    "colab": {
      "provenance": [],
      "authorship_tag": "ABX9TyOsWd1uaUyW+NSRMKbkWQ0M",
      "include_colab_link": true
    },
    "kernelspec": {
      "name": "python3",
      "display_name": "Python 3"
    },
    "language_info": {
      "name": "python"
    }
  },
  "cells": [
    {
      "cell_type": "markdown",
      "metadata": {
        "id": "view-in-github",
        "colab_type": "text"
      },
      "source": [
        "<a href=\"https://colab.research.google.com/github/ameyaoka/-makemore-/blob/main/makemore_MPL.ipynb\" target=\"_parent\"><img src=\"https://colab.research.google.com/assets/colab-badge.svg\" alt=\"Open In Colab\"/></a>"
      ]
    },
    {
      "cell_type": "markdown",
      "source": [
        "# A neural probabilistic language model\n",
        "\n"
      ],
      "metadata": {
        "id": "m6q_ERkYeDTo"
      }
    },
    {
      "cell_type": "code",
      "source": [
        "import torch \n",
        "import torch.nn.functional as F\n",
        "import matplotlib.pyplot\n",
        "%matplotlib inline"
      ],
      "metadata": {
        "id": "iCbgRqDyI2rI"
      },
      "execution_count": 134,
      "outputs": []
    },
    {
      "cell_type": "code",
      "source": [
        "! wget https://raw.githubusercontent.com/karpathy/makemore/master/names.txt"
      ],
      "metadata": {
        "colab": {
          "base_uri": "https://localhost:8080/"
        },
        "id": "xVzq1zRUKkUS",
        "outputId": "d25975c9-d84c-403d-faee-d0db04369e6b"
      },
      "execution_count": 109,
      "outputs": [
        {
          "output_type": "stream",
          "name": "stdout",
          "text": [
            "--2023-06-07 13:42:29--  https://raw.githubusercontent.com/karpathy/makemore/master/names.txt\n",
            "Resolving raw.githubusercontent.com (raw.githubusercontent.com)... 185.199.108.133, 185.199.109.133, 185.199.110.133, ...\n",
            "Connecting to raw.githubusercontent.com (raw.githubusercontent.com)|185.199.108.133|:443... connected.\n",
            "HTTP request sent, awaiting response... 200 OK\n",
            "Length: 228145 (223K) [text/plain]\n",
            "Saving to: ‘names.txt.2’\n",
            "\n",
            "\rnames.txt.2           0%[                    ]       0  --.-KB/s               \rnames.txt.2         100%[===================>] 222.80K  --.-KB/s    in 0.006s  \n",
            "\n",
            "2023-06-07 13:42:29 (36.6 MB/s) - ‘names.txt.2’ saved [228145/228145]\n",
            "\n"
          ]
        }
      ]
    },
    {
      "cell_type": "code",
      "source": [
        "words =  open('names.txt','r').read().splitlines()"
      ],
      "metadata": {
        "id": "e16aXIMzKYqa"
      },
      "execution_count": 110,
      "outputs": []
    },
    {
      "cell_type": "code",
      "source": [
        "words[:10]"
      ],
      "metadata": {
        "colab": {
          "base_uri": "https://localhost:8080/"
        },
        "id": "XJxlccMmKri1",
        "outputId": "022bfbb2-d960-4528-fbe5-12edb0790f8f"
      },
      "execution_count": 111,
      "outputs": [
        {
          "output_type": "execute_result",
          "data": {
            "text/plain": [
              "['emma',\n",
              " 'olivia',\n",
              " 'ava',\n",
              " 'isabella',\n",
              " 'sophia',\n",
              " 'charlotte',\n",
              " 'mia',\n",
              " 'amelia',\n",
              " 'harper',\n",
              " 'evelyn']"
            ]
          },
          "metadata": {},
          "execution_count": 111
        }
      ]
    },
    {
      "cell_type": "code",
      "source": [
        "len(words) # total vocabulary "
      ],
      "metadata": {
        "colab": {
          "base_uri": "https://localhost:8080/"
        },
        "id": "IsNY6m1DKvL8",
        "outputId": "67df05db-834c-49bf-8962-9fbd1bbff2ef"
      },
      "execution_count": 112,
      "outputs": [
        {
          "output_type": "execute_result",
          "data": {
            "text/plain": [
              "32033"
            ]
          },
          "metadata": {},
          "execution_count": 112
        }
      ]
    },
    {
      "cell_type": "markdown",
      "source": [
        "- The set() function is used to remove duplicate characters, ensuring each character appears only once.\n",
        "- list() is then used to convert the set back into a list.'        \n",
        "sorted() is applied to sort the characters in alphabetical order."
      ],
      "metadata": {
        "id": "bCptAY5758XM"
      }
    },
    {
      "cell_type": "code",
      "source": [
        "chars = sorted(list(set(''.join(words))))\n",
        "stoi = {s:i+1 for i,s in enumerate(chars)}\n",
        "stoi['.']=0\n",
        "itos = {i:s for s,i in stoi.items()}\n",
        "print(itos)"
      ],
      "metadata": {
        "colab": {
          "base_uri": "https://localhost:8080/"
        },
        "id": "0HK9DqC7K1ps",
        "outputId": "7f199436-43a3-41bb-b013-6432e8837d32"
      },
      "execution_count": 113,
      "outputs": [
        {
          "output_type": "stream",
          "name": "stdout",
          "text": [
            "{1: 'a', 2: 'b', 3: 'c', 4: 'd', 5: 'e', 6: 'f', 7: 'g', 8: 'h', 9: 'i', 10: 'j', 11: 'k', 12: 'l', 13: 'm', 14: 'n', 15: 'o', 16: 'p', 17: 'q', 18: 'r', 19: 's', 20: 't', 21: 'u', 22: 'v', 23: 'w', 24: 'x', 25: 'y', 26: 'z', 0: '.'}\n"
          ]
        }
      ]
    },
    {
      "cell_type": "markdown",
      "source": [
        "## Build the dataset "
      ],
      "metadata": {
        "id": "zRFQL3bvL7JG"
      }
    },
    {
      "cell_type": "code",
      "source": [
        "\n",
        "block_size = 3  # how many chars serve as input for prediction of next word \n",
        "X ,Y =[],[]         # Initialize empty lists for input-output pairs.\n",
        "\n",
        "for w in words[:5]: # iterate over words (first 5)\n",
        "\n",
        "  print(w)              # print word \n",
        "  context = [0]*block_size      # initialize list with name context .\n",
        "                                # This means that initially, the context list\n",
        "                                # is filled with block_size number of zeros\n",
        "                                # block_size =3 , context = [0,0,0]\n",
        "  for ch in w + '.':        #Iterate over each character in the current word,\n",
        "    ix= stoi[ch]            # convert the character to its corresponding index \n",
        "    X.append(context)        # Append the current context to the input list \"X\n",
        "    Y.append(ix)              # append current index to output list Y  \n",
        "    print(''.join(itos[i] for i in context), '--->', itos[ix])# Append the current context to the input list \"X\n",
        "    context = context[1:] + [ix]    # Update the context by removing the first element and adding the current index\n",
        "  \n",
        "X = torch.tensor(X)  # Convert the input list \"X\" to a PyTorch tensor\n",
        "Y = torch.tensor(Y)  # Convert the output list \"Y\" to a PyTorch tensor"
      ],
      "metadata": {
        "colab": {
          "base_uri": "https://localhost:8080/"
        },
        "id": "zviIYiOxMGD7",
        "outputId": "890017cd-ad5a-4021-856b-879519901c8c"
      },
      "execution_count": 143,
      "outputs": [
        {
          "output_type": "stream",
          "name": "stdout",
          "text": [
            "emma\n",
            "... ---> e\n",
            "..e ---> m\n",
            ".em ---> m\n",
            "emm ---> a\n",
            "mma ---> .\n",
            "olivia\n",
            "... ---> o\n",
            "..o ---> l\n",
            ".ol ---> i\n",
            "oli ---> v\n",
            "liv ---> i\n",
            "ivi ---> a\n",
            "via ---> .\n",
            "ava\n",
            "... ---> a\n",
            "..a ---> v\n",
            ".av ---> a\n",
            "ava ---> .\n",
            "isabella\n",
            "... ---> i\n",
            "..i ---> s\n",
            ".is ---> a\n",
            "isa ---> b\n",
            "sab ---> e\n",
            "abe ---> l\n",
            "bel ---> l\n",
            "ell ---> a\n",
            "lla ---> .\n",
            "sophia\n",
            "... ---> s\n",
            "..s ---> o\n",
            ".so ---> p\n",
            "sop ---> h\n",
            "oph ---> i\n",
            "phi ---> a\n",
            "hia ---> .\n"
          ]
        }
      ]
    },
    {
      "cell_type": "code",
      "source": [
        "X.shape , X.dtype , Y.shape , Y.dtype"
      ],
      "metadata": {
        "colab": {
          "base_uri": "https://localhost:8080/"
        },
        "id": "Oe3OHFQmRj3M",
        "outputId": "7077900d-0670-45f3-ff27-25bba37e5d57"
      },
      "execution_count": 144,
      "outputs": [
        {
          "output_type": "execute_result",
          "data": {
            "text/plain": [
              "(torch.Size([32, 3]), torch.int64, torch.Size([32]), torch.int64)"
            ]
          },
          "metadata": {},
          "execution_count": 144
        }
      ]
    },
    {
      "cell_type": "code",
      "source": [
        "X # training examples"
      ],
      "metadata": {
        "colab": {
          "base_uri": "https://localhost:8080/"
        },
        "id": "TXUozNfWRvmb",
        "outputId": "68607f48-b113-41b5-db8a-88637d0ce6f7"
      },
      "execution_count": 145,
      "outputs": [
        {
          "output_type": "execute_result",
          "data": {
            "text/plain": [
              "tensor([[ 0,  0,  0],\n",
              "        [ 0,  0,  5],\n",
              "        [ 0,  5, 13],\n",
              "        [ 5, 13, 13],\n",
              "        [13, 13,  1],\n",
              "        [ 0,  0,  0],\n",
              "        [ 0,  0, 15],\n",
              "        [ 0, 15, 12],\n",
              "        [15, 12,  9],\n",
              "        [12,  9, 22],\n",
              "        [ 9, 22,  9],\n",
              "        [22,  9,  1],\n",
              "        [ 0,  0,  0],\n",
              "        [ 0,  0,  1],\n",
              "        [ 0,  1, 22],\n",
              "        [ 1, 22,  1],\n",
              "        [ 0,  0,  0],\n",
              "        [ 0,  0,  9],\n",
              "        [ 0,  9, 19],\n",
              "        [ 9, 19,  1],\n",
              "        [19,  1,  2],\n",
              "        [ 1,  2,  5],\n",
              "        [ 2,  5, 12],\n",
              "        [ 5, 12, 12],\n",
              "        [12, 12,  1],\n",
              "        [ 0,  0,  0],\n",
              "        [ 0,  0, 19],\n",
              "        [ 0, 19, 15],\n",
              "        [19, 15, 16],\n",
              "        [15, 16,  8],\n",
              "        [16,  8,  9],\n",
              "        [ 8,  9,  1]])"
            ]
          },
          "metadata": {},
          "execution_count": 145
        }
      ]
    },
    {
      "cell_type": "code",
      "source": [
        "Y # labels  "
      ],
      "metadata": {
        "colab": {
          "base_uri": "https://localhost:8080/"
        },
        "id": "hvm050NhR20Q",
        "outputId": "1a46d633-26de-41a4-9628-28d2dc1a0d2a"
      },
      "execution_count": 146,
      "outputs": [
        {
          "output_type": "execute_result",
          "data": {
            "text/plain": [
              "tensor([ 5, 13, 13,  1,  0, 15, 12,  9, 22,  9,  1,  0,  1, 22,  1,  0,  9, 19,\n",
              "         1,  2,  5, 12, 12,  1,  0, 19, 15, 16,  8,  9,  1,  0])"
            ]
          },
          "metadata": {},
          "execution_count": 146
        }
      ]
    },
    {
      "cell_type": "code",
      "source": [
        "C = torch.randn((27,2))"
      ],
      "metadata": {
        "id": "xlTduvOmR7En"
      },
      "execution_count": 147,
      "outputs": []
    },
    {
      "cell_type": "code",
      "source": [
        "C"
      ],
      "metadata": {
        "colab": {
          "base_uri": "https://localhost:8080/"
        },
        "id": "OfWXzm7nRzrx",
        "outputId": "c3152772-ab9b-46f9-b0d7-95cff7806a25"
      },
      "execution_count": 148,
      "outputs": [
        {
          "output_type": "execute_result",
          "data": {
            "text/plain": [
              "tensor([[ 2.0904e-03,  9.0645e-01],\n",
              "        [ 1.1368e+00,  1.6517e+00],\n",
              "        [ 6.7847e-01, -9.8973e-02],\n",
              "        [ 2.2176e-01,  7.9648e-01],\n",
              "        [-1.8063e+00,  6.9835e-01],\n",
              "        [-1.0929e+00,  8.5351e-01],\n",
              "        [-1.3887e+00,  1.2002e-01],\n",
              "        [-1.3192e+00,  1.3315e+00],\n",
              "        [ 1.5518e+00,  9.5298e-01],\n",
              "        [-1.1259e+00, -9.3239e-01],\n",
              "        [ 9.4702e-01, -2.0137e-01],\n",
              "        [ 1.0914e+00,  1.3549e+00],\n",
              "        [-1.9764e+00,  3.0578e-01],\n",
              "        [-5.6006e-02,  6.4116e-01],\n",
              "        [-9.8936e-01,  2.8582e-01],\n",
              "        [ 1.4573e+00,  4.2988e-01],\n",
              "        [ 8.1093e-02,  5.6186e-01],\n",
              "        [ 2.5375e-01, -2.9978e+00],\n",
              "        [-7.7257e-02,  1.2575e-01],\n",
              "        [-7.8492e-01,  9.3908e-01],\n",
              "        [ 7.9190e-01, -1.1250e-01],\n",
              "        [-5.0543e-01,  5.6309e-01],\n",
              "        [-1.7296e-02, -1.1071e+00],\n",
              "        [ 1.8864e-01, -9.7440e-01],\n",
              "        [ 5.8567e-01,  1.2346e-01],\n",
              "        [ 1.9585e+00,  1.8582e+00],\n",
              "        [-1.2695e+00, -1.6762e-01]])"
            ]
          },
          "metadata": {},
          "execution_count": 148
        }
      ]
    },
    {
      "cell_type": "code",
      "source": [
        "F.one_hot(torch.tensor(5),num_classes=27)"
      ],
      "metadata": {
        "colab": {
          "base_uri": "https://localhost:8080/"
        },
        "id": "bmrma_ZbSpvQ",
        "outputId": "aee33acb-3da3-46e3-af5e-7681d46a3f22"
      },
      "execution_count": 149,
      "outputs": [
        {
          "output_type": "execute_result",
          "data": {
            "text/plain": [
              "tensor([0, 0, 0, 0, 0, 1, 0, 0, 0, 0, 0, 0, 0, 0, 0, 0, 0, 0, 0, 0, 0, 0, 0, 0,\n",
              "        0, 0, 0])"
            ]
          },
          "metadata": {},
          "execution_count": 149
        }
      ]
    },
    {
      "cell_type": "code",
      "source": [
        "# Take one hot vect and mulitply by C\n",
        "# one_hot encoding by default is int . so need to convert to float.\n",
        "F.one_hot(torch.tensor(5),num_classes=27).float() @ C\n"
      ],
      "metadata": {
        "colab": {
          "base_uri": "https://localhost:8080/"
        },
        "id": "dRRwuPhrS_oM",
        "outputId": "ad12d57b-96bc-4aa0-9d34-31a890a8f2f3"
      },
      "execution_count": 150,
      "outputs": [
        {
          "output_type": "execute_result",
          "data": {
            "text/plain": [
              "tensor([-1.0929,  0.8535])"
            ]
          },
          "metadata": {},
          "execution_count": 150
        }
      ]
    },
    {
      "cell_type": "code",
      "source": [
        "C[5]"
      ],
      "metadata": {
        "colab": {
          "base_uri": "https://localhost:8080/"
        },
        "id": "bpLGsg0OTcnX",
        "outputId": "d89463c9-4397-4f20-9461-21f8059709de"
      },
      "execution_count": 151,
      "outputs": [
        {
          "output_type": "execute_result",
          "data": {
            "text/plain": [
              "tensor([-1.0929,  0.8535])"
            ]
          },
          "metadata": {},
          "execution_count": 151
        }
      ]
    },
    {
      "cell_type": "markdown",
      "source": [
        "- both output of above lines are same  ."
      ],
      "metadata": {
        "id": "y1nZkeFST5or"
      }
    },
    {
      "cell_type": "markdown",
      "source": [
        "- Pytorch indexing -- learn"
      ],
      "metadata": {
        "id": "zWxepH1NWYRe"
      }
    },
    {
      "cell_type": "code",
      "source": [
        "emb = C[X]\n",
        "emb.shape"
      ],
      "metadata": {
        "id": "1Rp7ORhRaHAp",
        "colab": {
          "base_uri": "https://localhost:8080/"
        },
        "outputId": "f51bdd9d-ee14-4233-e8ae-e6db72812cad"
      },
      "execution_count": 152,
      "outputs": [
        {
          "output_type": "execute_result",
          "data": {
            "text/plain": [
              "torch.Size([32, 3, 2])"
            ]
          },
          "metadata": {},
          "execution_count": 152
        }
      ]
    },
    {
      "cell_type": "code",
      "source": [
        "# weights\n",
        "W1 = torch.randn((6,100))\n",
        "# bias\n",
        "b1 = torch.randn(100)   "
      ],
      "metadata": {
        "id": "xPTJTU9qZ7Mv"
      },
      "execution_count": 153,
      "outputs": []
    },
    {
      "cell_type": "code",
      "source": [
        "torch.cat([emb[:,0,:],emb[:,1,:],emb[:,2,:]],1)"
      ],
      "metadata": {
        "colab": {
          "base_uri": "https://localhost:8080/"
        },
        "id": "kWigcn47csaA",
        "outputId": "1ff9fc04-4d0e-4e26-f1c2-07e98f741e9a"
      },
      "execution_count": 154,
      "outputs": [
        {
          "output_type": "execute_result",
          "data": {
            "text/plain": [
              "tensor([[ 0.0021,  0.9065,  0.0021,  0.9065,  0.0021,  0.9065],\n",
              "        [ 0.0021,  0.9065,  0.0021,  0.9065, -1.0929,  0.8535],\n",
              "        [ 0.0021,  0.9065, -1.0929,  0.8535, -0.0560,  0.6412],\n",
              "        [-1.0929,  0.8535, -0.0560,  0.6412, -0.0560,  0.6412],\n",
              "        [-0.0560,  0.6412, -0.0560,  0.6412,  1.1368,  1.6517],\n",
              "        [ 0.0021,  0.9065,  0.0021,  0.9065,  0.0021,  0.9065],\n",
              "        [ 0.0021,  0.9065,  0.0021,  0.9065,  1.4573,  0.4299],\n",
              "        [ 0.0021,  0.9065,  1.4573,  0.4299, -1.9764,  0.3058],\n",
              "        [ 1.4573,  0.4299, -1.9764,  0.3058, -1.1259, -0.9324],\n",
              "        [-1.9764,  0.3058, -1.1259, -0.9324, -0.0173, -1.1071],\n",
              "        [-1.1259, -0.9324, -0.0173, -1.1071, -1.1259, -0.9324],\n",
              "        [-0.0173, -1.1071, -1.1259, -0.9324,  1.1368,  1.6517],\n",
              "        [ 0.0021,  0.9065,  0.0021,  0.9065,  0.0021,  0.9065],\n",
              "        [ 0.0021,  0.9065,  0.0021,  0.9065,  1.1368,  1.6517],\n",
              "        [ 0.0021,  0.9065,  1.1368,  1.6517, -0.0173, -1.1071],\n",
              "        [ 1.1368,  1.6517, -0.0173, -1.1071,  1.1368,  1.6517],\n",
              "        [ 0.0021,  0.9065,  0.0021,  0.9065,  0.0021,  0.9065],\n",
              "        [ 0.0021,  0.9065,  0.0021,  0.9065, -1.1259, -0.9324],\n",
              "        [ 0.0021,  0.9065, -1.1259, -0.9324, -0.7849,  0.9391],\n",
              "        [-1.1259, -0.9324, -0.7849,  0.9391,  1.1368,  1.6517],\n",
              "        [-0.7849,  0.9391,  1.1368,  1.6517,  0.6785, -0.0990],\n",
              "        [ 1.1368,  1.6517,  0.6785, -0.0990, -1.0929,  0.8535],\n",
              "        [ 0.6785, -0.0990, -1.0929,  0.8535, -1.9764,  0.3058],\n",
              "        [-1.0929,  0.8535, -1.9764,  0.3058, -1.9764,  0.3058],\n",
              "        [-1.9764,  0.3058, -1.9764,  0.3058,  1.1368,  1.6517],\n",
              "        [ 0.0021,  0.9065,  0.0021,  0.9065,  0.0021,  0.9065],\n",
              "        [ 0.0021,  0.9065,  0.0021,  0.9065, -0.7849,  0.9391],\n",
              "        [ 0.0021,  0.9065, -0.7849,  0.9391,  1.4573,  0.4299],\n",
              "        [-0.7849,  0.9391,  1.4573,  0.4299,  0.0811,  0.5619],\n",
              "        [ 1.4573,  0.4299,  0.0811,  0.5619,  1.5518,  0.9530],\n",
              "        [ 0.0811,  0.5619,  1.5518,  0.9530, -1.1259, -0.9324],\n",
              "        [ 1.5518,  0.9530, -1.1259, -0.9324,  1.1368,  1.6517]])"
            ]
          },
          "metadata": {},
          "execution_count": 154
        }
      ]
    },
    {
      "cell_type": "markdown",
      "source": [
        "- **generalization of above code**"
      ],
      "metadata": {
        "id": "UhK_TWbvgQ5l"
      }
    },
    {
      "cell_type": "code",
      "source": [
        "torch.cat(torch.unbind(emb,1),1)"
      ],
      "metadata": {
        "colab": {
          "base_uri": "https://localhost:8080/"
        },
        "id": "9ZwnvByHfzXH",
        "outputId": "c2cd4484-4223-423a-95d7-fd45a8c3e35d"
      },
      "execution_count": 155,
      "outputs": [
        {
          "output_type": "execute_result",
          "data": {
            "text/plain": [
              "tensor([[ 0.0021,  0.9065,  0.0021,  0.9065,  0.0021,  0.9065],\n",
              "        [ 0.0021,  0.9065,  0.0021,  0.9065, -1.0929,  0.8535],\n",
              "        [ 0.0021,  0.9065, -1.0929,  0.8535, -0.0560,  0.6412],\n",
              "        [-1.0929,  0.8535, -0.0560,  0.6412, -0.0560,  0.6412],\n",
              "        [-0.0560,  0.6412, -0.0560,  0.6412,  1.1368,  1.6517],\n",
              "        [ 0.0021,  0.9065,  0.0021,  0.9065,  0.0021,  0.9065],\n",
              "        [ 0.0021,  0.9065,  0.0021,  0.9065,  1.4573,  0.4299],\n",
              "        [ 0.0021,  0.9065,  1.4573,  0.4299, -1.9764,  0.3058],\n",
              "        [ 1.4573,  0.4299, -1.9764,  0.3058, -1.1259, -0.9324],\n",
              "        [-1.9764,  0.3058, -1.1259, -0.9324, -0.0173, -1.1071],\n",
              "        [-1.1259, -0.9324, -0.0173, -1.1071, -1.1259, -0.9324],\n",
              "        [-0.0173, -1.1071, -1.1259, -0.9324,  1.1368,  1.6517],\n",
              "        [ 0.0021,  0.9065,  0.0021,  0.9065,  0.0021,  0.9065],\n",
              "        [ 0.0021,  0.9065,  0.0021,  0.9065,  1.1368,  1.6517],\n",
              "        [ 0.0021,  0.9065,  1.1368,  1.6517, -0.0173, -1.1071],\n",
              "        [ 1.1368,  1.6517, -0.0173, -1.1071,  1.1368,  1.6517],\n",
              "        [ 0.0021,  0.9065,  0.0021,  0.9065,  0.0021,  0.9065],\n",
              "        [ 0.0021,  0.9065,  0.0021,  0.9065, -1.1259, -0.9324],\n",
              "        [ 0.0021,  0.9065, -1.1259, -0.9324, -0.7849,  0.9391],\n",
              "        [-1.1259, -0.9324, -0.7849,  0.9391,  1.1368,  1.6517],\n",
              "        [-0.7849,  0.9391,  1.1368,  1.6517,  0.6785, -0.0990],\n",
              "        [ 1.1368,  1.6517,  0.6785, -0.0990, -1.0929,  0.8535],\n",
              "        [ 0.6785, -0.0990, -1.0929,  0.8535, -1.9764,  0.3058],\n",
              "        [-1.0929,  0.8535, -1.9764,  0.3058, -1.9764,  0.3058],\n",
              "        [-1.9764,  0.3058, -1.9764,  0.3058,  1.1368,  1.6517],\n",
              "        [ 0.0021,  0.9065,  0.0021,  0.9065,  0.0021,  0.9065],\n",
              "        [ 0.0021,  0.9065,  0.0021,  0.9065, -0.7849,  0.9391],\n",
              "        [ 0.0021,  0.9065, -0.7849,  0.9391,  1.4573,  0.4299],\n",
              "        [-0.7849,  0.9391,  1.4573,  0.4299,  0.0811,  0.5619],\n",
              "        [ 1.4573,  0.4299,  0.0811,  0.5619,  1.5518,  0.9530],\n",
              "        [ 0.0811,  0.5619,  1.5518,  0.9530, -1.1259, -0.9324],\n",
              "        [ 1.5518,  0.9530, -1.1259, -0.9324,  1.1368,  1.6517]])"
            ]
          },
          "metadata": {},
          "execution_count": 155
        }
      ]
    },
    {
      "cell_type": "code",
      "source": [
        "a = torch.arange(18)"
      ],
      "metadata": {
        "id": "Lj-XRHYyhFFz"
      },
      "execution_count": 156,
      "outputs": []
    },
    {
      "cell_type": "code",
      "source": [
        "a.shape"
      ],
      "metadata": {
        "colab": {
          "base_uri": "https://localhost:8080/"
        },
        "id": "WMxyHgA6hK0H",
        "outputId": "d5f8ad43-4d65-40b3-fb59-f8273c6d78f5"
      },
      "execution_count": 157,
      "outputs": [
        {
          "output_type": "execute_result",
          "data": {
            "text/plain": [
              "torch.Size([18])"
            ]
          },
          "metadata": {},
          "execution_count": 157
        }
      ]
    },
    {
      "cell_type": "code",
      "source": [
        "a.view(3,3,2)"
      ],
      "metadata": {
        "colab": {
          "base_uri": "https://localhost:8080/"
        },
        "id": "9OVYBrKSgP__",
        "outputId": "70e22d25-7e8a-4dcd-f78b-ca219ad20c47"
      },
      "execution_count": 158,
      "outputs": [
        {
          "output_type": "execute_result",
          "data": {
            "text/plain": [
              "tensor([[[ 0,  1],\n",
              "         [ 2,  3],\n",
              "         [ 4,  5]],\n",
              "\n",
              "        [[ 6,  7],\n",
              "         [ 8,  9],\n",
              "         [10, 11]],\n",
              "\n",
              "        [[12, 13],\n",
              "         [14, 15],\n",
              "         [16, 17]]])"
            ]
          },
          "metadata": {},
          "execution_count": 158
        }
      ]
    },
    {
      "cell_type": "code",
      "source": [
        "a.view(9,2)"
      ],
      "metadata": {
        "colab": {
          "base_uri": "https://localhost:8080/"
        },
        "id": "kvbduP3RhmAS",
        "outputId": "11d3a082-172b-4990-f641-fc636c1eb146"
      },
      "execution_count": 159,
      "outputs": [
        {
          "output_type": "execute_result",
          "data": {
            "text/plain": [
              "tensor([[ 0,  1],\n",
              "        [ 2,  3],\n",
              "        [ 4,  5],\n",
              "        [ 6,  7],\n",
              "        [ 8,  9],\n",
              "        [10, 11],\n",
              "        [12, 13],\n",
              "        [14, 15],\n",
              "        [16, 17]])"
            ]
          },
          "metadata": {},
          "execution_count": 159
        }
      ]
    },
    {
      "cell_type": "markdown",
      "source": [
        "- storage remains same but seen as different \n",
        "-Blog below goes in depth \n",
        "- http://blog.ezyang.com/2019/05/pytorch-internals/"
      ],
      "metadata": {
        "id": "CBl3lK7Chps6"
      }
    },
    {
      "cell_type": "markdown",
      "source": [
        "**Imp**\n",
        "- **A tensor is always representated as one dim vector.**\n",
        "- **when we call view some internal attributes of view of tensor changes .**\n"
      ],
      "metadata": {
        "id": "WzDBBJEGJUvD"
      }
    },
    {
      "cell_type": "code",
      "source": [
        "a.storage()"
      ],
      "metadata": {
        "colab": {
          "base_uri": "https://localhost:8080/"
        },
        "id": "ozFsA8DjgNmc",
        "outputId": "3dc93544-c822-4d75-daa9-24a927a086b3"
      },
      "execution_count": 160,
      "outputs": [
        {
          "output_type": "execute_result",
          "data": {
            "text/plain": [
              " 0\n",
              " 1\n",
              " 2\n",
              " 3\n",
              " 4\n",
              " 5\n",
              " 6\n",
              " 7\n",
              " 8\n",
              " 9\n",
              " 10\n",
              " 11\n",
              " 12\n",
              " 13\n",
              " 14\n",
              " 15\n",
              " 16\n",
              " 17\n",
              "[torch.storage.TypedStorage(dtype=torch.int64, device=cpu) of size 18]"
            ]
          },
          "metadata": {},
          "execution_count": 160
        }
      ]
    },
    {
      "cell_type": "markdown",
      "source": [
        "- more effecient way . "
      ],
      "metadata": {
        "id": "u-aldns4ihtZ"
      }
    },
    {
      "cell_type": "code",
      "source": [
        "emb.shape"
      ],
      "metadata": {
        "colab": {
          "base_uri": "https://localhost:8080/"
        },
        "id": "kuA-q7HRG5WJ",
        "outputId": "83c53401-1d0d-43ef-9cbc-989c8bbb9d33"
      },
      "execution_count": 161,
      "outputs": [
        {
          "output_type": "execute_result",
          "data": {
            "text/plain": [
              "torch.Size([32, 3, 2])"
            ]
          },
          "metadata": {},
          "execution_count": 161
        }
      ]
    },
    {
      "cell_type": "code",
      "source": [
        "emb.view(32,6)"
      ],
      "metadata": {
        "colab": {
          "base_uri": "https://localhost:8080/"
        },
        "id": "92laibWoE_9h",
        "outputId": "f4221ec4-a94f-4967-fc37-0cdf3c446ac1"
      },
      "execution_count": 162,
      "outputs": [
        {
          "output_type": "execute_result",
          "data": {
            "text/plain": [
              "tensor([[ 0.0021,  0.9065,  0.0021,  0.9065,  0.0021,  0.9065],\n",
              "        [ 0.0021,  0.9065,  0.0021,  0.9065, -1.0929,  0.8535],\n",
              "        [ 0.0021,  0.9065, -1.0929,  0.8535, -0.0560,  0.6412],\n",
              "        [-1.0929,  0.8535, -0.0560,  0.6412, -0.0560,  0.6412],\n",
              "        [-0.0560,  0.6412, -0.0560,  0.6412,  1.1368,  1.6517],\n",
              "        [ 0.0021,  0.9065,  0.0021,  0.9065,  0.0021,  0.9065],\n",
              "        [ 0.0021,  0.9065,  0.0021,  0.9065,  1.4573,  0.4299],\n",
              "        [ 0.0021,  0.9065,  1.4573,  0.4299, -1.9764,  0.3058],\n",
              "        [ 1.4573,  0.4299, -1.9764,  0.3058, -1.1259, -0.9324],\n",
              "        [-1.9764,  0.3058, -1.1259, -0.9324, -0.0173, -1.1071],\n",
              "        [-1.1259, -0.9324, -0.0173, -1.1071, -1.1259, -0.9324],\n",
              "        [-0.0173, -1.1071, -1.1259, -0.9324,  1.1368,  1.6517],\n",
              "        [ 0.0021,  0.9065,  0.0021,  0.9065,  0.0021,  0.9065],\n",
              "        [ 0.0021,  0.9065,  0.0021,  0.9065,  1.1368,  1.6517],\n",
              "        [ 0.0021,  0.9065,  1.1368,  1.6517, -0.0173, -1.1071],\n",
              "        [ 1.1368,  1.6517, -0.0173, -1.1071,  1.1368,  1.6517],\n",
              "        [ 0.0021,  0.9065,  0.0021,  0.9065,  0.0021,  0.9065],\n",
              "        [ 0.0021,  0.9065,  0.0021,  0.9065, -1.1259, -0.9324],\n",
              "        [ 0.0021,  0.9065, -1.1259, -0.9324, -0.7849,  0.9391],\n",
              "        [-1.1259, -0.9324, -0.7849,  0.9391,  1.1368,  1.6517],\n",
              "        [-0.7849,  0.9391,  1.1368,  1.6517,  0.6785, -0.0990],\n",
              "        [ 1.1368,  1.6517,  0.6785, -0.0990, -1.0929,  0.8535],\n",
              "        [ 0.6785, -0.0990, -1.0929,  0.8535, -1.9764,  0.3058],\n",
              "        [-1.0929,  0.8535, -1.9764,  0.3058, -1.9764,  0.3058],\n",
              "        [-1.9764,  0.3058, -1.9764,  0.3058,  1.1368,  1.6517],\n",
              "        [ 0.0021,  0.9065,  0.0021,  0.9065,  0.0021,  0.9065],\n",
              "        [ 0.0021,  0.9065,  0.0021,  0.9065, -0.7849,  0.9391],\n",
              "        [ 0.0021,  0.9065, -0.7849,  0.9391,  1.4573,  0.4299],\n",
              "        [-0.7849,  0.9391,  1.4573,  0.4299,  0.0811,  0.5619],\n",
              "        [ 1.4573,  0.4299,  0.0811,  0.5619,  1.5518,  0.9530],\n",
              "        [ 0.0811,  0.5619,  1.5518,  0.9530, -1.1259, -0.9324],\n",
              "        [ 1.5518,  0.9530, -1.1259, -0.9324,  1.1368,  1.6517]])"
            ]
          },
          "metadata": {},
          "execution_count": 162
        }
      ]
    },
    {
      "cell_type": "code",
      "source": [
        "emb.view(32,6) == torch.cat(torch.unbind(emb,1),1)"
      ],
      "metadata": {
        "colab": {
          "base_uri": "https://localhost:8080/"
        },
        "id": "_j7A7rY8hQvx",
        "outputId": "a92b6455-8a34-4c3b-8479-a9f682bed385"
      },
      "execution_count": 163,
      "outputs": [
        {
          "output_type": "execute_result",
          "data": {
            "text/plain": [
              "tensor([[True, True, True, True, True, True],\n",
              "        [True, True, True, True, True, True],\n",
              "        [True, True, True, True, True, True],\n",
              "        [True, True, True, True, True, True],\n",
              "        [True, True, True, True, True, True],\n",
              "        [True, True, True, True, True, True],\n",
              "        [True, True, True, True, True, True],\n",
              "        [True, True, True, True, True, True],\n",
              "        [True, True, True, True, True, True],\n",
              "        [True, True, True, True, True, True],\n",
              "        [True, True, True, True, True, True],\n",
              "        [True, True, True, True, True, True],\n",
              "        [True, True, True, True, True, True],\n",
              "        [True, True, True, True, True, True],\n",
              "        [True, True, True, True, True, True],\n",
              "        [True, True, True, True, True, True],\n",
              "        [True, True, True, True, True, True],\n",
              "        [True, True, True, True, True, True],\n",
              "        [True, True, True, True, True, True],\n",
              "        [True, True, True, True, True, True],\n",
              "        [True, True, True, True, True, True],\n",
              "        [True, True, True, True, True, True],\n",
              "        [True, True, True, True, True, True],\n",
              "        [True, True, True, True, True, True],\n",
              "        [True, True, True, True, True, True],\n",
              "        [True, True, True, True, True, True],\n",
              "        [True, True, True, True, True, True],\n",
              "        [True, True, True, True, True, True],\n",
              "        [True, True, True, True, True, True],\n",
              "        [True, True, True, True, True, True],\n",
              "        [True, True, True, True, True, True],\n",
              "        [True, True, True, True, True, True]])"
            ]
          },
          "metadata": {},
          "execution_count": 163
        }
      ]
    },
    {
      "cell_type": "code",
      "source": [
        "h= torch.tan(emb.view(-1,6) @ W1 + b1)"
      ],
      "metadata": {
        "id": "iaUy57qjj1Of"
      },
      "execution_count": 164,
      "outputs": []
    },
    {
      "cell_type": "code",
      "source": [
        "h"
      ],
      "metadata": {
        "colab": {
          "base_uri": "https://localhost:8080/"
        },
        "id": "olZE7XLdlNDK",
        "outputId": "1038a5f8-37b5-4a73-c6ba-be9185460ea2"
      },
      "execution_count": 165,
      "outputs": [
        {
          "output_type": "execute_result",
          "data": {
            "text/plain": [
              "tensor([[ -0.0665,  -1.3373,   0.7257,  ...,  -0.0448,  -7.7892,  -7.8338],\n",
              "        [ -1.9753,   2.0500,  -1.1315,  ...,  -0.5698,   0.5867,   5.2612],\n",
              "        [  0.6016,   0.7166,  -0.6400,  ...,   1.4561,  -1.9683,  -0.8288],\n",
              "        ...,\n",
              "        [ -0.1505,  -1.5884,  -0.6301,  ...,  -0.2086,   3.9526,  -0.5199],\n",
              "        [ -0.9674,   0.3879,  -1.8017,  ...,  -0.7731,  -3.0949,   3.8567],\n",
              "        [  3.3939,  -4.9078,  -0.7281,  ...,   2.0472, -16.3581,  -0.6247]])"
            ]
          },
          "metadata": {},
          "execution_count": 165
        }
      ]
    },
    {
      "cell_type": "code",
      "source": [
        "W2 = torch.randn((100,27))\n",
        "\n",
        "b2 = torch.randn(27)"
      ],
      "metadata": {
        "id": "-bs3Be6IlVlA"
      },
      "execution_count": 166,
      "outputs": []
    },
    {
      "cell_type": "code",
      "source": [
        "logits = h @ W2 +b2"
      ],
      "metadata": {
        "id": "YnqArQgwlOEI"
      },
      "execution_count": 167,
      "outputs": []
    },
    {
      "cell_type": "code",
      "source": [
        "logits.shape"
      ],
      "metadata": {
        "colab": {
          "base_uri": "https://localhost:8080/"
        },
        "id": "qVy8BCrXlpmp",
        "outputId": "fec6509c-5de4-4271-ba2d-9866e2fb86f9"
      },
      "execution_count": 168,
      "outputs": [
        {
          "output_type": "execute_result",
          "data": {
            "text/plain": [
              "torch.Size([32, 27])"
            ]
          },
          "metadata": {},
          "execution_count": 168
        }
      ]
    },
    {
      "cell_type": "code",
      "source": [
        "counts = logits.exp()"
      ],
      "metadata": {
        "id": "2A87VcLvlqsP"
      },
      "execution_count": 169,
      "outputs": []
    },
    {
      "cell_type": "code",
      "source": [
        "# normalised\n",
        "prob = counts / counts.sum(1,keepdims=True)"
      ],
      "metadata": {
        "id": "RY5TmfK8lwv0"
      },
      "execution_count": 170,
      "outputs": []
    },
    {
      "cell_type": "code",
      "source": [
        "loss = -prob[torch.arange(32),Y].log().mean()"
      ],
      "metadata": {
        "id": "H29njsbzl6zC"
      },
      "execution_count": 171,
      "outputs": []
    },
    {
      "cell_type": "code",
      "source": [
        "F.cross_entropy(logits,Y)"
      ],
      "metadata": {
        "colab": {
          "base_uri": "https://localhost:8080/"
        },
        "id": "ZTiID0Zaozoe",
        "outputId": "78f61c01-eb14-4b00-fb67-b00a7aabd5f0"
      },
      "execution_count": 172,
      "outputs": [
        {
          "output_type": "execute_result",
          "data": {
            "text/plain": [
              "tensor(409.0743)"
            ]
          },
          "metadata": {},
          "execution_count": 172
        }
      ]
    },
    {
      "cell_type": "markdown",
      "source": [
        "### arrange neural net "
      ],
      "metadata": {
        "id": "mO37afRoo-OX"
      }
    },
    {
      "cell_type": "code",
      "source": [
        "# forward pass\n",
        "  emb = C[Xtr[ix]] # (32, 3, 2)\n",
        "  h = torch.tanh(emb.view(-1, 30) @ W1 + b1) # (32, 100)\n",
        "  logits = h @ W2 + b2 # (32, 27)\n",
        "  loss = F.cross_entropy(logits, Ytr[ix])\n",
        "  #print(loss.item())\n",
        "  \n",
        "  # backward pass\n",
        "  for p in parameters:\n",
        "    p.grad = None\n",
        "  loss.backward()\n",
        "  "
      ],
      "metadata": {
        "colab": {
          "base_uri": "https://localhost:8080/",
          "height": 132
        },
        "id": "9ALQexomq5XS",
        "outputId": "48f53352-e7f4-440a-c37e-08ea93b84470"
      },
      "execution_count": 173,
      "outputs": [
        {
          "output_type": "error",
          "ename": "IndentationError",
          "evalue": "ignored",
          "traceback": [
            "\u001b[0;36m  File \u001b[0;32m\"<ipython-input-173-0e4674039c80>\"\u001b[0;36m, line \u001b[0;32m2\u001b[0m\n\u001b[0;31m    emb = C[Xtr[ix]] # (32, 3, 2)\u001b[0m\n\u001b[0m    ^\u001b[0m\n\u001b[0;31mIndentationError\u001b[0m\u001b[0;31m:\u001b[0m unexpected indent\n"
          ]
        }
      ]
    },
    {
      "cell_type": "markdown",
      "source": [],
      "metadata": {
        "id": "wStHJ4JYA4oM"
      }
    }
  ]
}