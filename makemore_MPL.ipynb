{
  "nbformat": 4,
  "nbformat_minor": 0,
  "metadata": {
    "colab": {
      "provenance": [],
      "authorship_tag": "ABX9TyO+VcoxF7IKb8t/jOfcS/t2",
      "include_colab_link": true
    },
    "kernelspec": {
      "name": "python3",
      "display_name": "Python 3"
    },
    "language_info": {
      "name": "python"
    }
  },
  "cells": [
    {
      "cell_type": "markdown",
      "metadata": {
        "id": "view-in-github",
        "colab_type": "text"
      },
      "source": [
        "<a href=\"https://colab.research.google.com/github/ameyaoka/-makemore-/blob/main/makemore_MPL.ipynb\" target=\"_parent\"><img src=\"https://colab.research.google.com/assets/colab-badge.svg\" alt=\"Open In Colab\"/></a>"
      ]
    },
    {
      "cell_type": "markdown",
      "source": [
        "# A neural probabilistic language model\n",
        "\n"
      ],
      "metadata": {
        "id": "m6q_ERkYeDTo"
      }
    },
    {
      "cell_type": "code",
      "source": [
        "import torch \n",
        "import torch.nn.functional as F\n",
        "import matplotlib.pyplot\n",
        "%matplotlib inline"
      ],
      "metadata": {
        "id": "iCbgRqDyI2rI"
      },
      "execution_count": 1,
      "outputs": []
    },
    {
      "cell_type": "code",
      "source": [
        "! wget https://raw.githubusercontent.com/karpathy/makemore/master/names.txt"
      ],
      "metadata": {
        "colab": {
          "base_uri": "https://localhost:8080/"
        },
        "id": "xVzq1zRUKkUS",
        "outputId": "e456d5c7-e080-4808-b3df-d0cbd338cc94"
      },
      "execution_count": 2,
      "outputs": [
        {
          "output_type": "stream",
          "name": "stdout",
          "text": [
            "--2023-06-07 07:09:50--  https://raw.githubusercontent.com/karpathy/makemore/master/names.txt\n",
            "Resolving raw.githubusercontent.com (raw.githubusercontent.com)... 185.199.108.133, 185.199.109.133, 185.199.110.133, ...\n",
            "Connecting to raw.githubusercontent.com (raw.githubusercontent.com)|185.199.108.133|:443... connected.\n",
            "HTTP request sent, awaiting response... 200 OK\n",
            "Length: 228145 (223K) [text/plain]\n",
            "Saving to: ‘names.txt’\n",
            "\n",
            "\rnames.txt             0%[                    ]       0  --.-KB/s               \rnames.txt           100%[===================>] 222.80K  --.-KB/s    in 0.004s  \n",
            "\n",
            "2023-06-07 07:09:50 (55.2 MB/s) - ‘names.txt’ saved [228145/228145]\n",
            "\n"
          ]
        }
      ]
    },
    {
      "cell_type": "code",
      "source": [
        "words =  open('names.txt','r').read().splitlines()"
      ],
      "metadata": {
        "id": "e16aXIMzKYqa"
      },
      "execution_count": 3,
      "outputs": []
    },
    {
      "cell_type": "code",
      "source": [
        "words[:10]"
      ],
      "metadata": {
        "colab": {
          "base_uri": "https://localhost:8080/"
        },
        "id": "XJxlccMmKri1",
        "outputId": "aa590a57-e4a6-4c0e-834e-a3eb1ed93695"
      },
      "execution_count": 4,
      "outputs": [
        {
          "output_type": "execute_result",
          "data": {
            "text/plain": [
              "['emma',\n",
              " 'olivia',\n",
              " 'ava',\n",
              " 'isabella',\n",
              " 'sophia',\n",
              " 'charlotte',\n",
              " 'mia',\n",
              " 'amelia',\n",
              " 'harper',\n",
              " 'evelyn']"
            ]
          },
          "metadata": {},
          "execution_count": 4
        }
      ]
    },
    {
      "cell_type": "code",
      "source": [
        "len(words) # total vocabulary "
      ],
      "metadata": {
        "colab": {
          "base_uri": "https://localhost:8080/"
        },
        "id": "IsNY6m1DKvL8",
        "outputId": "17cbb9e5-0fb3-437f-f7f3-a4b248e5b31d"
      },
      "execution_count": 5,
      "outputs": [
        {
          "output_type": "execute_result",
          "data": {
            "text/plain": [
              "32033"
            ]
          },
          "metadata": {},
          "execution_count": 5
        }
      ]
    },
    {
      "cell_type": "markdown",
      "source": [
        "- The set() function is used to remove duplicate characters, ensuring each character appears only once.\n",
        "- list() is then used to convert the set back into a list.'        \n",
        "sorted() is applied to sort the characters in alphabetical order."
      ],
      "metadata": {
        "id": "bCptAY5758XM"
      }
    },
    {
      "cell_type": "code",
      "source": [
        "chars = sorted(list(set(''.join(words))))\n",
        "stoi = {s:i+1 for i,s in enumerate(chars)}\n",
        "stoi['.']=0\n",
        "itos = {i:s for s,i in stoi.items()}\n",
        "print(itos)"
      ],
      "metadata": {
        "colab": {
          "base_uri": "https://localhost:8080/"
        },
        "id": "0HK9DqC7K1ps",
        "outputId": "657d5e98-d1ea-4bc3-fe7e-ba967839b626"
      },
      "execution_count": 6,
      "outputs": [
        {
          "output_type": "stream",
          "name": "stdout",
          "text": [
            "{1: 'a', 2: 'b', 3: 'c', 4: 'd', 5: 'e', 6: 'f', 7: 'g', 8: 'h', 9: 'i', 10: 'j', 11: 'k', 12: 'l', 13: 'm', 14: 'n', 15: 'o', 16: 'p', 17: 'q', 18: 'r', 19: 's', 20: 't', 21: 'u', 22: 'v', 23: 'w', 24: 'x', 25: 'y', 26: 'z', 0: '.'}\n"
          ]
        }
      ]
    },
    {
      "cell_type": "markdown",
      "source": [
        "## Build the dataset "
      ],
      "metadata": {
        "id": "zRFQL3bvL7JG"
      }
    },
    {
      "cell_type": "code",
      "source": [
        "\n",
        "block_size = 4  # how many chars serve as input for prediction of next word \n",
        "X ,Y =[],[]         # Initialize empty lists for input-output pairs.\n",
        "\n",
        "for w in words[:5]: # iterate over words (first 5)\n",
        "\n",
        "  print(w)              # print word \n",
        "  context = [0]*block_size      # initialize list with name context .\n",
        "                                # This means that initially, the context list\n",
        "                                # is filled with block_size number of zeros\n",
        "                                # block_size =3 , context = [0,0,0]\n",
        "  for ch in w + '.':        #Iterate over each character in the current word,\n",
        "    ix= stoi[ch]            # convert the character to its corresponding index \n",
        "    X.append(context)        # Append the current context to the input list \"X\n",
        "    Y.append(ix)              # append current index to output list Y  \n",
        "    print(''.join(itos[i] for i in context), '--->', itos[ix])# Append the current context to the input list \"X\n",
        "    context = context[1:] + [ix]    # Update the context by removing the first element and adding the current index\n",
        "  \n",
        "X = torch.tensor(X)  # Convert the input list \"X\" to a PyTorch tensor\n",
        "Y = torch.tensor(Y)  # Convert the output list \"Y\" to a PyTorch tensor\n",
        "]"
      ],
      "metadata": {
        "colab": {
          "base_uri": "https://localhost:8080/"
        },
        "id": "zviIYiOxMGD7",
        "outputId": "9a168cc4-592f-4fe8-a8a5-9aae4ab4a1c1"
      },
      "execution_count": 9,
      "outputs": [
        {
          "output_type": "stream",
          "name": "stdout",
          "text": [
            "emma\n",
            "... ---> e\n",
            "..e ---> m\n",
            ".em ---> m\n",
            "emm ---> a\n",
            "mma ---> .\n",
            "olivia\n",
            "... ---> o\n",
            "..o ---> l\n",
            ".ol ---> i\n",
            "oli ---> v\n",
            "liv ---> i\n",
            "ivi ---> a\n",
            "via ---> .\n",
            "ava\n",
            "... ---> a\n",
            "..a ---> v\n",
            ".av ---> a\n",
            "ava ---> .\n",
            "isabella\n",
            "... ---> i\n",
            "..i ---> s\n",
            ".is ---> a\n",
            "isa ---> b\n",
            "sab ---> e\n",
            "abe ---> l\n",
            "bel ---> l\n",
            "ell ---> a\n",
            "lla ---> .\n",
            "sophia\n",
            "... ---> s\n",
            "..s ---> o\n",
            ".so ---> p\n",
            "sop ---> h\n",
            "oph ---> i\n",
            "phi ---> a\n",
            "hia ---> .\n"
          ]
        }
      ]
    },
    {
      "cell_type": "code",
      "source": [
        "X.shape , X.dtype , Y.shape , Y.dtype"
      ],
      "metadata": {
        "colab": {
          "base_uri": "https://localhost:8080/"
        },
        "id": "Oe3OHFQmRj3M",
        "outputId": "7576eed6-f304-4a5b-8ffd-e0862d1879d8"
      },
      "execution_count": 10,
      "outputs": [
        {
          "output_type": "execute_result",
          "data": {
            "text/plain": [
              "(torch.Size([32, 3]), torch.int64, torch.Size([32]), torch.int64)"
            ]
          },
          "metadata": {},
          "execution_count": 10
        }
      ]
    },
    {
      "cell_type": "code",
      "source": [
        "X # training examples"
      ],
      "metadata": {
        "colab": {
          "base_uri": "https://localhost:8080/"
        },
        "id": "TXUozNfWRvmb",
        "outputId": "0b6703be-5763-4795-f200-7897b974b181"
      },
      "execution_count": 18,
      "outputs": [
        {
          "output_type": "execute_result",
          "data": {
            "text/plain": [
              "tensor([[ 0,  0,  0],\n",
              "        [ 0,  0,  5],\n",
              "        [ 0,  5, 13],\n",
              "        [ 5, 13, 13],\n",
              "        [13, 13,  1],\n",
              "        [ 0,  0,  0],\n",
              "        [ 0,  0, 15],\n",
              "        [ 0, 15, 12],\n",
              "        [15, 12,  9],\n",
              "        [12,  9, 22],\n",
              "        [ 9, 22,  9],\n",
              "        [22,  9,  1],\n",
              "        [ 0,  0,  0],\n",
              "        [ 0,  0,  1],\n",
              "        [ 0,  1, 22],\n",
              "        [ 1, 22,  1],\n",
              "        [ 0,  0,  0],\n",
              "        [ 0,  0,  9],\n",
              "        [ 0,  9, 19],\n",
              "        [ 9, 19,  1],\n",
              "        [19,  1,  2],\n",
              "        [ 1,  2,  5],\n",
              "        [ 2,  5, 12],\n",
              "        [ 5, 12, 12],\n",
              "        [12, 12,  1],\n",
              "        [ 0,  0,  0],\n",
              "        [ 0,  0, 19],\n",
              "        [ 0, 19, 15],\n",
              "        [19, 15, 16],\n",
              "        [15, 16,  8],\n",
              "        [16,  8,  9],\n",
              "        [ 8,  9,  1]])"
            ]
          },
          "metadata": {},
          "execution_count": 18
        }
      ]
    },
    {
      "cell_type": "code",
      "source": [
        "Y # labels  "
      ],
      "metadata": {
        "colab": {
          "base_uri": "https://localhost:8080/"
        },
        "id": "hvm050NhR20Q",
        "outputId": "e40ae998-6a7c-4485-a75f-a46898883afd"
      },
      "execution_count": 19,
      "outputs": [
        {
          "output_type": "execute_result",
          "data": {
            "text/plain": [
              "tensor([ 5, 13, 13,  1,  0, 15, 12,  9, 22,  9,  1,  0,  1, 22,  1,  0,  9, 19,\n",
              "         1,  2,  5, 12, 12,  1,  0, 19, 15, 16,  8,  9,  1,  0])"
            ]
          },
          "metadata": {},
          "execution_count": 19
        }
      ]
    },
    {
      "cell_type": "code",
      "source": [
        "C = torch.randn((27,2))"
      ],
      "metadata": {
        "id": "xlTduvOmR7En"
      },
      "execution_count": 25,
      "outputs": []
    },
    {
      "cell_type": "code",
      "source": [
        "C"
      ],
      "metadata": {
        "colab": {
          "base_uri": "https://localhost:8080/"
        },
        "id": "OfWXzm7nRzrx",
        "outputId": "5aba68d9-a1ae-42bf-bc58-edc99cf37ff7"
      },
      "execution_count": 20,
      "outputs": [
        {
          "output_type": "execute_result",
          "data": {
            "text/plain": [
              "tensor([[ 1.1151, -0.0906],\n",
              "        [ 1.0786,  0.8933],\n",
              "        [-0.9472, -1.0525],\n",
              "        [-0.3524,  0.3774],\n",
              "        [-0.1694,  1.0037],\n",
              "        [-0.0382,  1.1845],\n",
              "        [ 0.8486, -1.4323],\n",
              "        [-1.0797,  0.7231],\n",
              "        [ 1.6182,  0.7552],\n",
              "        [ 0.7947,  0.1007],\n",
              "        [-0.2202,  0.1874],\n",
              "        [ 0.2135, -1.0952],\n",
              "        [-1.5877, -0.2891],\n",
              "        [ 0.9935,  1.3709],\n",
              "        [ 1.0152,  1.5605],\n",
              "        [-0.4630,  1.1816],\n",
              "        [ 1.2581,  0.2341],\n",
              "        [ 1.5843, -0.6852],\n",
              "        [ 1.5703,  0.6908],\n",
              "        [ 1.5425, -1.9292],\n",
              "        [-0.2101, -0.0492],\n",
              "        [-1.6011,  0.4968],\n",
              "        [ 0.8257, -0.0965],\n",
              "        [-0.4355,  0.5246],\n",
              "        [ 0.8280,  0.7570],\n",
              "        [-1.2060,  0.9860],\n",
              "        [-0.2545,  0.6189]])"
            ]
          },
          "metadata": {},
          "execution_count": 20
        }
      ]
    },
    {
      "cell_type": "code",
      "source": [
        "F.one_hot(torch.tensor(5),num_classes=27)"
      ],
      "metadata": {
        "colab": {
          "base_uri": "https://localhost:8080/"
        },
        "id": "bmrma_ZbSpvQ",
        "outputId": "9248f4e1-cdb7-4767-9278-21eaacc02eb7"
      },
      "execution_count": 22,
      "outputs": [
        {
          "output_type": "execute_result",
          "data": {
            "text/plain": [
              "tensor([0, 0, 0, 0, 0, 1, 0, 0, 0, 0, 0, 0, 0, 0, 0, 0, 0, 0, 0, 0, 0, 0, 0, 0,\n",
              "        0, 0, 0])"
            ]
          },
          "metadata": {},
          "execution_count": 22
        }
      ]
    },
    {
      "cell_type": "code",
      "source": [
        "# Take one hot vect and mulitply by C\n",
        "# one_hot encoding by default is int . so need to convert to float.\n",
        "F.one_hot(torch.tensor(5),num_classes=27).float() @ C\n"
      ],
      "metadata": {
        "colab": {
          "base_uri": "https://localhost:8080/"
        },
        "id": "dRRwuPhrS_oM",
        "outputId": "c683ed28-3421-4176-8b40-a15ca41fb068"
      },
      "execution_count": 30,
      "outputs": [
        {
          "output_type": "execute_result",
          "data": {
            "text/plain": [
              "tensor([-0.1141, -2.6814])"
            ]
          },
          "metadata": {},
          "execution_count": 30
        }
      ]
    },
    {
      "cell_type": "code",
      "source": [
        "C[5]"
      ],
      "metadata": {
        "colab": {
          "base_uri": "https://localhost:8080/"
        },
        "id": "bpLGsg0OTcnX",
        "outputId": "6badab30-50ce-496c-b496-637a1cf6f1a2"
      },
      "execution_count": 26,
      "outputs": [
        {
          "output_type": "execute_result",
          "data": {
            "text/plain": [
              "tensor([-0.1141, -2.6814])"
            ]
          },
          "metadata": {},
          "execution_count": 26
        }
      ]
    },
    {
      "cell_type": "markdown",
      "source": [
        "- both output of above lines are same  ."
      ],
      "metadata": {
        "id": "y1nZkeFST5or"
      }
    },
    {
      "cell_type": "markdown",
      "source": [
        "- Pytorch indexing -- learn"
      ],
      "metadata": {
        "id": "zWxepH1NWYRe"
      }
    },
    {
      "cell_type": "code",
      "source": [
        "emb = C[X]\n",
        "emb.shape"
      ],
      "metadata": {
        "id": "1Rp7ORhRaHAp",
        "colab": {
          "base_uri": "https://localhost:8080/"
        },
        "outputId": "b6fa9612-9103-46d6-e9c4-f068590e56ca"
      },
      "execution_count": 15,
      "outputs": [
        {
          "output_type": "execute_result",
          "data": {
            "text/plain": [
              "torch.Size([32, 3, 2])"
            ]
          },
          "metadata": {},
          "execution_count": 15
        }
      ]
    },
    {
      "cell_type": "code",
      "source": [
        "# weights\n",
        "W1 = torch.randn((6,100))\n",
        "# bias\n",
        "b1 = torch.randn(100)   "
      ],
      "metadata": {
        "id": "xPTJTU9qZ7Mv"
      },
      "execution_count": 31,
      "outputs": []
    },
    {
      "cell_type": "code",
      "source": [
        "torch.cat([emb[:,0,:],emb[:,1,:],emb[:,2,:]],1)"
      ],
      "metadata": {
        "colab": {
          "base_uri": "https://localhost:8080/"
        },
        "id": "kWigcn47csaA",
        "outputId": "425b9455-c56b-4949-ace2-d338f0f210ed"
      },
      "execution_count": 36,
      "outputs": [
        {
          "output_type": "execute_result",
          "data": {
            "text/plain": [
              "tensor([[ 1.1151, -0.0906,  1.1151, -0.0906,  1.1151, -0.0906],\n",
              "        [ 1.1151, -0.0906,  1.1151, -0.0906, -0.0382,  1.1845],\n",
              "        [ 1.1151, -0.0906, -0.0382,  1.1845,  0.9935,  1.3709],\n",
              "        [-0.0382,  1.1845,  0.9935,  1.3709,  0.9935,  1.3709],\n",
              "        [ 0.9935,  1.3709,  0.9935,  1.3709,  1.0786,  0.8933],\n",
              "        [ 1.1151, -0.0906,  1.1151, -0.0906,  1.1151, -0.0906],\n",
              "        [ 1.1151, -0.0906,  1.1151, -0.0906, -0.4630,  1.1816],\n",
              "        [ 1.1151, -0.0906, -0.4630,  1.1816, -1.5877, -0.2891],\n",
              "        [-0.4630,  1.1816, -1.5877, -0.2891,  0.7947,  0.1007],\n",
              "        [-1.5877, -0.2891,  0.7947,  0.1007,  0.8257, -0.0965],\n",
              "        [ 0.7947,  0.1007,  0.8257, -0.0965,  0.7947,  0.1007],\n",
              "        [ 0.8257, -0.0965,  0.7947,  0.1007,  1.0786,  0.8933],\n",
              "        [ 1.1151, -0.0906,  1.1151, -0.0906,  1.1151, -0.0906],\n",
              "        [ 1.1151, -0.0906,  1.1151, -0.0906,  1.0786,  0.8933],\n",
              "        [ 1.1151, -0.0906,  1.0786,  0.8933,  0.8257, -0.0965],\n",
              "        [ 1.0786,  0.8933,  0.8257, -0.0965,  1.0786,  0.8933],\n",
              "        [ 1.1151, -0.0906,  1.1151, -0.0906,  1.1151, -0.0906],\n",
              "        [ 1.1151, -0.0906,  1.1151, -0.0906,  0.7947,  0.1007],\n",
              "        [ 1.1151, -0.0906,  0.7947,  0.1007,  1.5425, -1.9292],\n",
              "        [ 0.7947,  0.1007,  1.5425, -1.9292,  1.0786,  0.8933],\n",
              "        [ 1.5425, -1.9292,  1.0786,  0.8933, -0.9472, -1.0525],\n",
              "        [ 1.0786,  0.8933, -0.9472, -1.0525, -0.0382,  1.1845],\n",
              "        [-0.9472, -1.0525, -0.0382,  1.1845, -1.5877, -0.2891],\n",
              "        [-0.0382,  1.1845, -1.5877, -0.2891, -1.5877, -0.2891],\n",
              "        [-1.5877, -0.2891, -1.5877, -0.2891,  1.0786,  0.8933],\n",
              "        [ 1.1151, -0.0906,  1.1151, -0.0906,  1.1151, -0.0906],\n",
              "        [ 1.1151, -0.0906,  1.1151, -0.0906,  1.5425, -1.9292],\n",
              "        [ 1.1151, -0.0906,  1.5425, -1.9292, -0.4630,  1.1816],\n",
              "        [ 1.5425, -1.9292, -0.4630,  1.1816,  1.2581,  0.2341],\n",
              "        [-0.4630,  1.1816,  1.2581,  0.2341,  1.6182,  0.7552],\n",
              "        [ 1.2581,  0.2341,  1.6182,  0.7552,  0.7947,  0.1007],\n",
              "        [ 1.6182,  0.7552,  0.7947,  0.1007,  1.0786,  0.8933]])"
            ]
          },
          "metadata": {},
          "execution_count": 36
        }
      ]
    },
    {
      "cell_type": "markdown",
      "source": [
        "- **generalization of above code**"
      ],
      "metadata": {
        "id": "UhK_TWbvgQ5l"
      }
    },
    {
      "cell_type": "code",
      "source": [
        "torch.cat(torch.unbind(emb,1),1)"
      ],
      "metadata": {
        "colab": {
          "base_uri": "https://localhost:8080/"
        },
        "id": "9ZwnvByHfzXH",
        "outputId": "ed3d027b-a73b-453e-9c72-21accf44c087"
      },
      "execution_count": 54,
      "outputs": [
        {
          "output_type": "execute_result",
          "data": {
            "text/plain": [
              "tensor([[ 1.1151, -0.0906,  1.1151, -0.0906,  1.1151, -0.0906],\n",
              "        [ 1.1151, -0.0906,  1.1151, -0.0906, -0.0382,  1.1845],\n",
              "        [ 1.1151, -0.0906, -0.0382,  1.1845,  0.9935,  1.3709],\n",
              "        [-0.0382,  1.1845,  0.9935,  1.3709,  0.9935,  1.3709],\n",
              "        [ 0.9935,  1.3709,  0.9935,  1.3709,  1.0786,  0.8933],\n",
              "        [ 1.1151, -0.0906,  1.1151, -0.0906,  1.1151, -0.0906],\n",
              "        [ 1.1151, -0.0906,  1.1151, -0.0906, -0.4630,  1.1816],\n",
              "        [ 1.1151, -0.0906, -0.4630,  1.1816, -1.5877, -0.2891],\n",
              "        [-0.4630,  1.1816, -1.5877, -0.2891,  0.7947,  0.1007],\n",
              "        [-1.5877, -0.2891,  0.7947,  0.1007,  0.8257, -0.0965],\n",
              "        [ 0.7947,  0.1007,  0.8257, -0.0965,  0.7947,  0.1007],\n",
              "        [ 0.8257, -0.0965,  0.7947,  0.1007,  1.0786,  0.8933],\n",
              "        [ 1.1151, -0.0906,  1.1151, -0.0906,  1.1151, -0.0906],\n",
              "        [ 1.1151, -0.0906,  1.1151, -0.0906,  1.0786,  0.8933],\n",
              "        [ 1.1151, -0.0906,  1.0786,  0.8933,  0.8257, -0.0965],\n",
              "        [ 1.0786,  0.8933,  0.8257, -0.0965,  1.0786,  0.8933],\n",
              "        [ 1.1151, -0.0906,  1.1151, -0.0906,  1.1151, -0.0906],\n",
              "        [ 1.1151, -0.0906,  1.1151, -0.0906,  0.7947,  0.1007],\n",
              "        [ 1.1151, -0.0906,  0.7947,  0.1007,  1.5425, -1.9292],\n",
              "        [ 0.7947,  0.1007,  1.5425, -1.9292,  1.0786,  0.8933],\n",
              "        [ 1.5425, -1.9292,  1.0786,  0.8933, -0.9472, -1.0525],\n",
              "        [ 1.0786,  0.8933, -0.9472, -1.0525, -0.0382,  1.1845],\n",
              "        [-0.9472, -1.0525, -0.0382,  1.1845, -1.5877, -0.2891],\n",
              "        [-0.0382,  1.1845, -1.5877, -0.2891, -1.5877, -0.2891],\n",
              "        [-1.5877, -0.2891, -1.5877, -0.2891,  1.0786,  0.8933],\n",
              "        [ 1.1151, -0.0906,  1.1151, -0.0906,  1.1151, -0.0906],\n",
              "        [ 1.1151, -0.0906,  1.1151, -0.0906,  1.5425, -1.9292],\n",
              "        [ 1.1151, -0.0906,  1.5425, -1.9292, -0.4630,  1.1816],\n",
              "        [ 1.5425, -1.9292, -0.4630,  1.1816,  1.2581,  0.2341],\n",
              "        [-0.4630,  1.1816,  1.2581,  0.2341,  1.6182,  0.7552],\n",
              "        [ 1.2581,  0.2341,  1.6182,  0.7552,  0.7947,  0.1007],\n",
              "        [ 1.6182,  0.7552,  0.7947,  0.1007,  1.0786,  0.8933]])"
            ]
          },
          "metadata": {},
          "execution_count": 54
        }
      ]
    },
    {
      "cell_type": "code",
      "source": [
        "a = torch.arange(18)"
      ],
      "metadata": {
        "id": "Lj-XRHYyhFFz"
      },
      "execution_count": 41,
      "outputs": []
    },
    {
      "cell_type": "code",
      "source": [
        "a.shape"
      ],
      "metadata": {
        "colab": {
          "base_uri": "https://localhost:8080/"
        },
        "id": "WMxyHgA6hK0H",
        "outputId": "08d4f2e5-d2d3-4745-c1c3-afdffce5bca3"
      },
      "execution_count": 42,
      "outputs": [
        {
          "output_type": "execute_result",
          "data": {
            "text/plain": [
              "torch.Size([18])"
            ]
          },
          "metadata": {},
          "execution_count": 42
        }
      ]
    },
    {
      "cell_type": "code",
      "source": [
        "a.view(3,3,2)"
      ],
      "metadata": {
        "colab": {
          "base_uri": "https://localhost:8080/"
        },
        "id": "9OVYBrKSgP__",
        "outputId": "8006da7e-fd6c-45e9-cf58-86ec22042883"
      },
      "execution_count": 47,
      "outputs": [
        {
          "output_type": "execute_result",
          "data": {
            "text/plain": [
              "tensor([[[ 0,  1],\n",
              "         [ 2,  3],\n",
              "         [ 4,  5]],\n",
              "\n",
              "        [[ 6,  7],\n",
              "         [ 8,  9],\n",
              "         [10, 11]],\n",
              "\n",
              "        [[12, 13],\n",
              "         [14, 15],\n",
              "         [16, 17]]])"
            ]
          },
          "metadata": {},
          "execution_count": 47
        }
      ]
    },
    {
      "cell_type": "code",
      "source": [
        "a.view(9,2)"
      ],
      "metadata": {
        "colab": {
          "base_uri": "https://localhost:8080/"
        },
        "id": "kvbduP3RhmAS",
        "outputId": "684019fb-d592-4c1e-a66b-010414f989d6"
      },
      "execution_count": 48,
      "outputs": [
        {
          "output_type": "execute_result",
          "data": {
            "text/plain": [
              "tensor([[ 0,  1],\n",
              "        [ 2,  3],\n",
              "        [ 4,  5],\n",
              "        [ 6,  7],\n",
              "        [ 8,  9],\n",
              "        [10, 11],\n",
              "        [12, 13],\n",
              "        [14, 15],\n",
              "        [16, 17]])"
            ]
          },
          "metadata": {},
          "execution_count": 48
        }
      ]
    },
    {
      "cell_type": "markdown",
      "source": [
        "- storage remains same but seen as different \n",
        "-Blog below goes in depth \n",
        "- http://blog.ezyang.com/2019/05/pytorch-internals/"
      ],
      "metadata": {
        "id": "CBl3lK7Chps6"
      }
    },
    {
      "cell_type": "code",
      "source": [
        "a.storage()"
      ],
      "metadata": {
        "colab": {
          "base_uri": "https://localhost:8080/"
        },
        "id": "ozFsA8DjgNmc",
        "outputId": "7e20296c-e5ba-4fc1-dcc3-784ea2102fbb"
      },
      "execution_count": 45,
      "outputs": [
        {
          "output_type": "stream",
          "name": "stderr",
          "text": [
            "<ipython-input-45-d39b3459ecdd>:1: UserWarning: TypedStorage is deprecated. It will be removed in the future and UntypedStorage will be the only storage class. This should only matter to you if you are using storages directly.  To access UntypedStorage directly, use tensor.untyped_storage() instead of tensor.storage()\n",
            "  a.storage()\n"
          ]
        },
        {
          "output_type": "execute_result",
          "data": {
            "text/plain": [
              " 0\n",
              " 1\n",
              " 2\n",
              " 3\n",
              " 4\n",
              " 5\n",
              " 6\n",
              " 7\n",
              " 8\n",
              " 9\n",
              " 10\n",
              " 11\n",
              " 12\n",
              " 13\n",
              " 14\n",
              " 15\n",
              " 16\n",
              " 17\n",
              "[torch.storage.TypedStorage(dtype=torch.int64, device=cpu) of size 18]"
            ]
          },
          "metadata": {},
          "execution_count": 45
        }
      ]
    },
    {
      "cell_type": "markdown",
      "source": [
        "- more effecient way . "
      ],
      "metadata": {
        "id": "u-aldns4ihtZ"
      }
    },
    {
      "cell_type": "code",
      "source": [
        "emb.view([32,6]) == torch.cat(torch.unbind(emb,1),1)"
      ],
      "metadata": {
        "colab": {
          "base_uri": "https://localhost:8080/"
        },
        "id": "_j7A7rY8hQvx",
        "outputId": "28831475-306d-4e41-e756-7e3ee2bcb57d"
      },
      "execution_count": 53,
      "outputs": [
        {
          "output_type": "execute_result",
          "data": {
            "text/plain": [
              "tensor([[True, True, True, True, True, True],\n",
              "        [True, True, True, True, True, True],\n",
              "        [True, True, True, True, True, True],\n",
              "        [True, True, True, True, True, True],\n",
              "        [True, True, True, True, True, True],\n",
              "        [True, True, True, True, True, True],\n",
              "        [True, True, True, True, True, True],\n",
              "        [True, True, True, True, True, True],\n",
              "        [True, True, True, True, True, True],\n",
              "        [True, True, True, True, True, True],\n",
              "        [True, True, True, True, True, True],\n",
              "        [True, True, True, True, True, True],\n",
              "        [True, True, True, True, True, True],\n",
              "        [True, True, True, True, True, True],\n",
              "        [True, True, True, True, True, True],\n",
              "        [True, True, True, True, True, True],\n",
              "        [True, True, True, True, True, True],\n",
              "        [True, True, True, True, True, True],\n",
              "        [True, True, True, True, True, True],\n",
              "        [True, True, True, True, True, True],\n",
              "        [True, True, True, True, True, True],\n",
              "        [True, True, True, True, True, True],\n",
              "        [True, True, True, True, True, True],\n",
              "        [True, True, True, True, True, True],\n",
              "        [True, True, True, True, True, True],\n",
              "        [True, True, True, True, True, True],\n",
              "        [True, True, True, True, True, True],\n",
              "        [True, True, True, True, True, True],\n",
              "        [True, True, True, True, True, True],\n",
              "        [True, True, True, True, True, True],\n",
              "        [True, True, True, True, True, True],\n",
              "        [True, True, True, True, True, True]])"
            ]
          },
          "metadata": {},
          "execution_count": 53
        }
      ]
    },
    {
      "cell_type": "code",
      "source": [],
      "metadata": {
        "id": "iaUy57qjj1Of"
      },
      "execution_count": null,
      "outputs": []
    }
  ]
}