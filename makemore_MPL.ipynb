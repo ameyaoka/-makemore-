{
  "nbformat": 4,
  "nbformat_minor": 0,
  "metadata": {
    "colab": {
      "provenance": [],
      "authorship_tag": "ABX9TyO4U6V+esMCem9F8srwPuPG",
      "include_colab_link": true
    },
    "kernelspec": {
      "name": "python3",
      "display_name": "Python 3"
    },
    "language_info": {
      "name": "python"
    }
  },
  "cells": [
    {
      "cell_type": "markdown",
      "metadata": {
        "id": "view-in-github",
        "colab_type": "text"
      },
      "source": [
        "<a href=\"https://colab.research.google.com/github/ameyaoka/-makemore-/blob/main/makemore_MPL.ipynb\" target=\"_parent\"><img src=\"https://colab.research.google.com/assets/colab-badge.svg\" alt=\"Open In Colab\"/></a>"
      ]
    },
    {
      "cell_type": "markdown",
      "source": [
        "# A neural probabilistic language model\n",
        "\n"
      ],
      "metadata": {
        "id": "m6q_ERkYeDTo"
      }
    },
    {
      "cell_type": "markdown",
      "source": [
        "### mlp - multilayer perceptron"
      ],
      "metadata": {
        "id": "KbWCCtNkHD3U"
      }
    },
    {
      "cell_type": "code",
      "source": [
        "import torch\n",
        "import torch.nn.functional as F\n",
        "import matplotlib.pyplot\n",
        "%matplotlib inline"
      ],
      "metadata": {
        "id": "iCbgRqDyI2rI"
      },
      "execution_count": 50,
      "outputs": []
    },
    {
      "cell_type": "markdown",
      "source": [
        "### Download data"
      ],
      "metadata": {
        "id": "jJe-CrFWqEr0"
      }
    },
    {
      "cell_type": "code",
      "source": [
        "! wget https://raw.githubusercontent.com/karpathy/makemore/master/names.txt"
      ],
      "metadata": {
        "colab": {
          "base_uri": "https://localhost:8080/"
        },
        "id": "xVzq1zRUKkUS",
        "outputId": "130180ee-47c8-49ee-daea-79a2a7e08538"
      },
      "execution_count": 51,
      "outputs": [
        {
          "output_type": "stream",
          "name": "stdout",
          "text": [
            "--2023-06-20 06:34:10--  https://raw.githubusercontent.com/karpathy/makemore/master/names.txt\n",
            "Resolving raw.githubusercontent.com (raw.githubusercontent.com)... 185.199.108.133, 185.199.109.133, 185.199.110.133, ...\n",
            "Connecting to raw.githubusercontent.com (raw.githubusercontent.com)|185.199.108.133|:443... connected.\n",
            "HTTP request sent, awaiting response... 200 OK\n",
            "Length: 228145 (223K) [text/plain]\n",
            "Saving to: ‘names.txt.1’\n",
            "\n",
            "\rnames.txt.1           0%[                    ]       0  --.-KB/s               \rnames.txt.1         100%[===================>] 222.80K  --.-KB/s    in 0.02s   \n",
            "\n",
            "2023-06-20 06:34:10 (13.0 MB/s) - ‘names.txt.1’ saved [228145/228145]\n",
            "\n"
          ]
        }
      ]
    },
    {
      "cell_type": "code",
      "source": [
        "words =  open('names.txt','r').read().splitlines()"
      ],
      "metadata": {
        "id": "e16aXIMzKYqa"
      },
      "execution_count": 52,
      "outputs": []
    },
    {
      "cell_type": "code",
      "source": [
        "words[:10]"
      ],
      "metadata": {
        "colab": {
          "base_uri": "https://localhost:8080/"
        },
        "id": "XJxlccMmKri1",
        "outputId": "11ba5248-6852-4022-f2fd-45d3932c9143"
      },
      "execution_count": 53,
      "outputs": [
        {
          "output_type": "execute_result",
          "data": {
            "text/plain": [
              "['emma',\n",
              " 'olivia',\n",
              " 'ava',\n",
              " 'isabella',\n",
              " 'sophia',\n",
              " 'charlotte',\n",
              " 'mia',\n",
              " 'amelia',\n",
              " 'harper',\n",
              " 'evelyn']"
            ]
          },
          "metadata": {},
          "execution_count": 53
        }
      ]
    },
    {
      "cell_type": "code",
      "source": [
        "len(words) # total vocabulary"
      ],
      "metadata": {
        "colab": {
          "base_uri": "https://localhost:8080/"
        },
        "id": "IsNY6m1DKvL8",
        "outputId": "5a814e19-13ce-44f7-82cb-84015fca7547"
      },
      "execution_count": 54,
      "outputs": [
        {
          "output_type": "execute_result",
          "data": {
            "text/plain": [
              "32033"
            ]
          },
          "metadata": {},
          "execution_count": 54
        }
      ]
    },
    {
      "cell_type": "markdown",
      "source": [
        "1.  The set() function is used to remove duplicate characters, ensuring each character appears only once.\n",
        "  - list() is then used to convert the set back into a list.'\n",
        "  - sorted() is applied to sort the characters in alphabetical order.\n",
        "2.  stoi : we create a maping from chars in char list to integers.\n",
        "  - enumerate iterates over elements in char  and return (index , element) pair .\n",
        "  - i represents position of element in chars and s represents element itself.\n",
        "  - we create a dictionary of key ,val pair where char is key and mapped to index i+1 ( 0 is reserved for special char start and end )\n",
        "\n",
        "3. itos is dictionary similar to stoi but reversed number to pair .\n",
        "  - stoi.items() returns a view object that represents the key-value pairs from the stoi dictionary.\n"
      ],
      "metadata": {
        "id": "bCptAY5758XM"
      }
    },
    {
      "cell_type": "code",
      "source": [
        "chars = sorted(list(set(''.join(words))))\n",
        "stoi = {s:i+1 for i,s in enumerate(chars)}\n",
        "stoi['.']=0\n",
        "itos = {i:s for s,i in stoi.items()}\n",
        "print(itos)"
      ],
      "metadata": {
        "colab": {
          "base_uri": "https://localhost:8080/"
        },
        "id": "0HK9DqC7K1ps",
        "outputId": "b52ab578-5f42-41dd-cba8-1305fe3c4c1c"
      },
      "execution_count": 55,
      "outputs": [
        {
          "output_type": "stream",
          "name": "stdout",
          "text": [
            "{1: 'a', 2: 'b', 3: 'c', 4: 'd', 5: 'e', 6: 'f', 7: 'g', 8: 'h', 9: 'i', 10: 'j', 11: 'k', 12: 'l', 13: 'm', 14: 'n', 15: 'o', 16: 'p', 17: 'q', 18: 'r', 19: 's', 20: 't', 21: 'u', 22: 'v', 23: 'w', 24: 'x', 25: 'y', 26: 'z', 0: '.'}\n"
          ]
        }
      ]
    },
    {
      "cell_type": "markdown",
      "source": [
        "## Build the dataset"
      ],
      "metadata": {
        "id": "zRFQL3bvL7JG"
      }
    },
    {
      "cell_type": "markdown",
      "source": [
        "1. block_size is how many chars to serve as input for prediction .\n",
        "2. initialize empty list of input and output .\n",
        "3. loop for iterating over words\n",
        "4. print (w) prints whole word.\n",
        "5. create a new list with name context . initialize thi list with block_size no of zeros (3)\n",
        "6. use for loop to iterate over each character in word (w) and '.'  as end of word token.\n",
        "7.  using stoi defined earlier convert word to its corresponding index. store index in var ix.\n",
        "8. append the current context into X ( we use context bec we want input as 3 char .first context will always be 000 .\n",
        "9. append index ix into Y .( labels )\n",
        "10. print chars from index i in context which is 0 for first iteratin. then print ---> and print char with index ix which is label.\n",
        "11. Now we have to update context next input should be [ ..e] ie [0,0,ix] .\n",
        "12.convert list X into pytorch tensor.\n",
        "13. convert list of Y into pytorch tensor.\n"
      ],
      "metadata": {
        "id": "qMNnX_qvt14j"
      }
    },
    {
      "cell_type": "code",
      "source": [
        "\n",
        "block_size = 3  # how many chars serve as input for prediction of next word\n",
        "X ,Y =[],[]         # Initialize empty lists for input-output pairs.\n",
        "\n",
        "for w in words[:5]: # iterate over words (first 5)\n",
        "\n",
        "  print(w)              # print word\n",
        "  context = [0]*block_size      # initialize list with name context .\n",
        "                                # This means that initially, the context list\n",
        "                                # is filled with block_size number of zeros\n",
        "                                # block_size =3 , context = [0,0,0]\n",
        "  for ch in w + '.':        #Iterate over each character in the current word,\n",
        "    ix= stoi[ch]            # convert the character to its corresponding index\n",
        "    X.append(context)        # Append the current context to the input list \"X\n",
        "    Y.append(ix)              # append current index to output list Y\n",
        "    print(''.join(itos[i] for i in context), '--->', itos[ix])# Append the current context to the input list \"X\n",
        "    context = context[1:] + [ix]    # Update the context by removing the first element and adding the current index\n",
        "\n",
        "X = torch.tensor(X)  # Convert the input list \"X\" to a PyTorch tensor\n",
        "Y = torch.tensor(Y)  # Convert the output list \"Y\" to a PyTorch tensor"
      ],
      "metadata": {
        "colab": {
          "base_uri": "https://localhost:8080/"
        },
        "id": "zviIYiOxMGD7",
        "outputId": "9c4c4a5e-6a9f-4188-a3e1-64c105e3a3fd"
      },
      "execution_count": 56,
      "outputs": [
        {
          "output_type": "stream",
          "name": "stdout",
          "text": [
            "emma\n",
            "... ---> e\n",
            "..e ---> m\n",
            ".em ---> m\n",
            "emm ---> a\n",
            "mma ---> .\n",
            "olivia\n",
            "... ---> o\n",
            "..o ---> l\n",
            ".ol ---> i\n",
            "oli ---> v\n",
            "liv ---> i\n",
            "ivi ---> a\n",
            "via ---> .\n",
            "ava\n",
            "... ---> a\n",
            "..a ---> v\n",
            ".av ---> a\n",
            "ava ---> .\n",
            "isabella\n",
            "... ---> i\n",
            "..i ---> s\n",
            ".is ---> a\n",
            "isa ---> b\n",
            "sab ---> e\n",
            "abe ---> l\n",
            "bel ---> l\n",
            "ell ---> a\n",
            "lla ---> .\n",
            "sophia\n",
            "... ---> s\n",
            "..s ---> o\n",
            ".so ---> p\n",
            "sop ---> h\n",
            "oph ---> i\n",
            "phi ---> a\n",
            "hia ---> .\n"
          ]
        }
      ]
    },
    {
      "cell_type": "code",
      "source": [
        "X.shape , X.dtype , Y.shape , Y.dtype"
      ],
      "metadata": {
        "colab": {
          "base_uri": "https://localhost:8080/"
        },
        "id": "Oe3OHFQmRj3M",
        "outputId": "606a0b80-ce57-4e27-8882-65f6f20e6c8d"
      },
      "execution_count": 57,
      "outputs": [
        {
          "output_type": "execute_result",
          "data": {
            "text/plain": [
              "(torch.Size([32, 3]), torch.int64, torch.Size([32]), torch.int64)"
            ]
          },
          "metadata": {},
          "execution_count": 57
        }
      ]
    },
    {
      "cell_type": "code",
      "source": [
        "X # training examples"
      ],
      "metadata": {
        "colab": {
          "base_uri": "https://localhost:8080/"
        },
        "id": "TXUozNfWRvmb",
        "outputId": "36e8a361-02a3-48a7-f72f-dcdcb000a1c4"
      },
      "execution_count": 58,
      "outputs": [
        {
          "output_type": "execute_result",
          "data": {
            "text/plain": [
              "tensor([[ 0,  0,  0],\n",
              "        [ 0,  0,  5],\n",
              "        [ 0,  5, 13],\n",
              "        [ 5, 13, 13],\n",
              "        [13, 13,  1],\n",
              "        [ 0,  0,  0],\n",
              "        [ 0,  0, 15],\n",
              "        [ 0, 15, 12],\n",
              "        [15, 12,  9],\n",
              "        [12,  9, 22],\n",
              "        [ 9, 22,  9],\n",
              "        [22,  9,  1],\n",
              "        [ 0,  0,  0],\n",
              "        [ 0,  0,  1],\n",
              "        [ 0,  1, 22],\n",
              "        [ 1, 22,  1],\n",
              "        [ 0,  0,  0],\n",
              "        [ 0,  0,  9],\n",
              "        [ 0,  9, 19],\n",
              "        [ 9, 19,  1],\n",
              "        [19,  1,  2],\n",
              "        [ 1,  2,  5],\n",
              "        [ 2,  5, 12],\n",
              "        [ 5, 12, 12],\n",
              "        [12, 12,  1],\n",
              "        [ 0,  0,  0],\n",
              "        [ 0,  0, 19],\n",
              "        [ 0, 19, 15],\n",
              "        [19, 15, 16],\n",
              "        [15, 16,  8],\n",
              "        [16,  8,  9],\n",
              "        [ 8,  9,  1]])"
            ]
          },
          "metadata": {},
          "execution_count": 58
        }
      ]
    },
    {
      "cell_type": "code",
      "source": [
        "Y # labels"
      ],
      "metadata": {
        "colab": {
          "base_uri": "https://localhost:8080/"
        },
        "id": "hvm050NhR20Q",
        "outputId": "87a44a50-56bf-476a-fb83-bb504964ed43"
      },
      "execution_count": 59,
      "outputs": [
        {
          "output_type": "execute_result",
          "data": {
            "text/plain": [
              "tensor([ 5, 13, 13,  1,  0, 15, 12,  9, 22,  9,  1,  0,  1, 22,  1,  0,  9, 19,\n",
              "         1,  2,  5, 12, 12,  1,  0, 19, 15, 16,  8,  9,  1,  0])"
            ]
          },
          "metadata": {},
          "execution_count": 59
        }
      ]
    },
    {
      "cell_type": "markdown",
      "source": [
        "- creates a tensor with dimensions (27, 2) and fills it with random numbers sampled from a standard normal distribution (mean 0, standard deviation 1)."
      ],
      "metadata": {
        "id": "aBNV_xTqxVRq"
      }
    },
    {
      "cell_type": "code",
      "source": [
        "C = torch.randn((27,2))"
      ],
      "metadata": {
        "id": "xlTduvOmR7En"
      },
      "execution_count": 60,
      "outputs": []
    },
    {
      "cell_type": "code",
      "source": [
        "C"
      ],
      "metadata": {
        "colab": {
          "base_uri": "https://localhost:8080/"
        },
        "id": "OfWXzm7nRzrx",
        "outputId": "735d587a-88d1-4f13-cc7d-03f07edd456f"
      },
      "execution_count": 61,
      "outputs": [
        {
          "output_type": "execute_result",
          "data": {
            "text/plain": [
              "tensor([[ 0.2271, -0.2526],\n",
              "        [-1.1527,  0.2431],\n",
              "        [ 0.9183, -1.2229],\n",
              "        [ 1.2986,  1.4891],\n",
              "        [-0.4131, -0.9154],\n",
              "        [ 0.6295, -0.3166],\n",
              "        [-0.8579,  0.6571],\n",
              "        [-0.6229, -0.2423],\n",
              "        [ 1.6893,  1.3305],\n",
              "        [-1.1558,  0.7241],\n",
              "        [ 1.6289, -0.9787],\n",
              "        [-0.7048, -1.5517],\n",
              "        [-1.0420, -1.3753],\n",
              "        [-2.1787,  0.2408],\n",
              "        [-0.3141, -0.3727],\n",
              "        [ 0.7925, -1.7941],\n",
              "        [ 0.3572,  0.6294],\n",
              "        [-1.5124, -0.8216],\n",
              "        [-0.9228, -0.6910],\n",
              "        [ 0.0820, -0.5848],\n",
              "        [ 0.5732, -0.0344],\n",
              "        [ 0.1625, -1.9283],\n",
              "        [ 2.0339, -0.9479],\n",
              "        [-0.2381,  0.3572],\n",
              "        [-0.6940, -1.5599],\n",
              "        [ 0.6365,  0.4327],\n",
              "        [-0.9962, -0.8200]])"
            ]
          },
          "metadata": {},
          "execution_count": 61
        }
      ]
    },
    {
      "cell_type": "code",
      "source": [
        "F.one_hot(torch.tensor(5),num_classes=27)"
      ],
      "metadata": {
        "colab": {
          "base_uri": "https://localhost:8080/"
        },
        "id": "bmrma_ZbSpvQ",
        "outputId": "597bcad3-bd8c-4257-bab9-208026b28c51"
      },
      "execution_count": 62,
      "outputs": [
        {
          "output_type": "execute_result",
          "data": {
            "text/plain": [
              "tensor([0, 0, 0, 0, 0, 1, 0, 0, 0, 0, 0, 0, 0, 0, 0, 0, 0, 0, 0, 0, 0, 0, 0, 0,\n",
              "        0, 0, 0])"
            ]
          },
          "metadata": {},
          "execution_count": 62
        }
      ]
    },
    {
      "cell_type": "code",
      "source": [
        "# Take one hot vect and mulitply by C\n",
        "# one_hot encoding by default is int . so need to convert to float.\n",
        "F.one_hot(torch.tensor(5),num_classes=27).float() @ C\n"
      ],
      "metadata": {
        "colab": {
          "base_uri": "https://localhost:8080/"
        },
        "id": "dRRwuPhrS_oM",
        "outputId": "62f66192-3f21-4607-93c6-803363e8805f"
      },
      "execution_count": 63,
      "outputs": [
        {
          "output_type": "execute_result",
          "data": {
            "text/plain": [
              "tensor([ 0.6295, -0.3166])"
            ]
          },
          "metadata": {},
          "execution_count": 63
        }
      ]
    },
    {
      "cell_type": "code",
      "source": [
        "C[5]"
      ],
      "metadata": {
        "colab": {
          "base_uri": "https://localhost:8080/"
        },
        "id": "bpLGsg0OTcnX",
        "outputId": "f30590a9-9b69-4650-c5cb-39520b9d6bae"
      },
      "execution_count": 64,
      "outputs": [
        {
          "output_type": "execute_result",
          "data": {
            "text/plain": [
              "tensor([ 0.6295, -0.3166])"
            ]
          },
          "metadata": {},
          "execution_count": 64
        }
      ]
    },
    {
      "cell_type": "markdown",
      "source": [
        "- both output of above lines are same  ."
      ],
      "metadata": {
        "id": "y1nZkeFST5or"
      }
    },
    {
      "cell_type": "markdown",
      "source": [
        "- Pytorch indexing -- learn"
      ],
      "metadata": {
        "id": "zWxepH1NWYRe"
      }
    },
    {
      "cell_type": "code",
      "source": [
        "emb = C[X]\n",
        "emb.shape"
      ],
      "metadata": {
        "id": "1Rp7ORhRaHAp",
        "colab": {
          "base_uri": "https://localhost:8080/"
        },
        "outputId": "cf12b4c8-4364-414f-ddc0-0d7d10533ddd"
      },
      "execution_count": 65,
      "outputs": [
        {
          "output_type": "execute_result",
          "data": {
            "text/plain": [
              "torch.Size([32, 3, 2])"
            ]
          },
          "metadata": {},
          "execution_count": 65
        }
      ]
    },
    {
      "cell_type": "code",
      "source": [
        "emb"
      ],
      "metadata": {
        "colab": {
          "base_uri": "https://localhost:8080/"
        },
        "id": "8netPyTEl4zK",
        "outputId": "78eae862-1c4a-4631-9897-0c225ba6a1bd"
      },
      "execution_count": 66,
      "outputs": [
        {
          "output_type": "execute_result",
          "data": {
            "text/plain": [
              "tensor([[[ 0.2271, -0.2526],\n",
              "         [ 0.2271, -0.2526],\n",
              "         [ 0.2271, -0.2526]],\n",
              "\n",
              "        [[ 0.2271, -0.2526],\n",
              "         [ 0.2271, -0.2526],\n",
              "         [ 0.6295, -0.3166]],\n",
              "\n",
              "        [[ 0.2271, -0.2526],\n",
              "         [ 0.6295, -0.3166],\n",
              "         [-2.1787,  0.2408]],\n",
              "\n",
              "        [[ 0.6295, -0.3166],\n",
              "         [-2.1787,  0.2408],\n",
              "         [-2.1787,  0.2408]],\n",
              "\n",
              "        [[-2.1787,  0.2408],\n",
              "         [-2.1787,  0.2408],\n",
              "         [-1.1527,  0.2431]],\n",
              "\n",
              "        [[ 0.2271, -0.2526],\n",
              "         [ 0.2271, -0.2526],\n",
              "         [ 0.2271, -0.2526]],\n",
              "\n",
              "        [[ 0.2271, -0.2526],\n",
              "         [ 0.2271, -0.2526],\n",
              "         [ 0.7925, -1.7941]],\n",
              "\n",
              "        [[ 0.2271, -0.2526],\n",
              "         [ 0.7925, -1.7941],\n",
              "         [-1.0420, -1.3753]],\n",
              "\n",
              "        [[ 0.7925, -1.7941],\n",
              "         [-1.0420, -1.3753],\n",
              "         [-1.1558,  0.7241]],\n",
              "\n",
              "        [[-1.0420, -1.3753],\n",
              "         [-1.1558,  0.7241],\n",
              "         [ 2.0339, -0.9479]],\n",
              "\n",
              "        [[-1.1558,  0.7241],\n",
              "         [ 2.0339, -0.9479],\n",
              "         [-1.1558,  0.7241]],\n",
              "\n",
              "        [[ 2.0339, -0.9479],\n",
              "         [-1.1558,  0.7241],\n",
              "         [-1.1527,  0.2431]],\n",
              "\n",
              "        [[ 0.2271, -0.2526],\n",
              "         [ 0.2271, -0.2526],\n",
              "         [ 0.2271, -0.2526]],\n",
              "\n",
              "        [[ 0.2271, -0.2526],\n",
              "         [ 0.2271, -0.2526],\n",
              "         [-1.1527,  0.2431]],\n",
              "\n",
              "        [[ 0.2271, -0.2526],\n",
              "         [-1.1527,  0.2431],\n",
              "         [ 2.0339, -0.9479]],\n",
              "\n",
              "        [[-1.1527,  0.2431],\n",
              "         [ 2.0339, -0.9479],\n",
              "         [-1.1527,  0.2431]],\n",
              "\n",
              "        [[ 0.2271, -0.2526],\n",
              "         [ 0.2271, -0.2526],\n",
              "         [ 0.2271, -0.2526]],\n",
              "\n",
              "        [[ 0.2271, -0.2526],\n",
              "         [ 0.2271, -0.2526],\n",
              "         [-1.1558,  0.7241]],\n",
              "\n",
              "        [[ 0.2271, -0.2526],\n",
              "         [-1.1558,  0.7241],\n",
              "         [ 0.0820, -0.5848]],\n",
              "\n",
              "        [[-1.1558,  0.7241],\n",
              "         [ 0.0820, -0.5848],\n",
              "         [-1.1527,  0.2431]],\n",
              "\n",
              "        [[ 0.0820, -0.5848],\n",
              "         [-1.1527,  0.2431],\n",
              "         [ 0.9183, -1.2229]],\n",
              "\n",
              "        [[-1.1527,  0.2431],\n",
              "         [ 0.9183, -1.2229],\n",
              "         [ 0.6295, -0.3166]],\n",
              "\n",
              "        [[ 0.9183, -1.2229],\n",
              "         [ 0.6295, -0.3166],\n",
              "         [-1.0420, -1.3753]],\n",
              "\n",
              "        [[ 0.6295, -0.3166],\n",
              "         [-1.0420, -1.3753],\n",
              "         [-1.0420, -1.3753]],\n",
              "\n",
              "        [[-1.0420, -1.3753],\n",
              "         [-1.0420, -1.3753],\n",
              "         [-1.1527,  0.2431]],\n",
              "\n",
              "        [[ 0.2271, -0.2526],\n",
              "         [ 0.2271, -0.2526],\n",
              "         [ 0.2271, -0.2526]],\n",
              "\n",
              "        [[ 0.2271, -0.2526],\n",
              "         [ 0.2271, -0.2526],\n",
              "         [ 0.0820, -0.5848]],\n",
              "\n",
              "        [[ 0.2271, -0.2526],\n",
              "         [ 0.0820, -0.5848],\n",
              "         [ 0.7925, -1.7941]],\n",
              "\n",
              "        [[ 0.0820, -0.5848],\n",
              "         [ 0.7925, -1.7941],\n",
              "         [ 0.3572,  0.6294]],\n",
              "\n",
              "        [[ 0.7925, -1.7941],\n",
              "         [ 0.3572,  0.6294],\n",
              "         [ 1.6893,  1.3305]],\n",
              "\n",
              "        [[ 0.3572,  0.6294],\n",
              "         [ 1.6893,  1.3305],\n",
              "         [-1.1558,  0.7241]],\n",
              "\n",
              "        [[ 1.6893,  1.3305],\n",
              "         [-1.1558,  0.7241],\n",
              "         [-1.1527,  0.2431]]])"
            ]
          },
          "metadata": {},
          "execution_count": 66
        }
      ]
    },
    {
      "cell_type": "code",
      "source": [
        "# weights\n",
        "W1 = torch.randn((6,100))\n",
        "# bias\n",
        "b1 = torch.randn(100)"
      ],
      "metadata": {
        "id": "xPTJTU9qZ7Mv"
      },
      "execution_count": 67,
      "outputs": []
    },
    {
      "cell_type": "markdown",
      "source": [
        "- Normally emb @ w1 + b1\n",
        "- but cant multiply (32,3,2) and (6,100)\n",
        "- emb[:,0,:]\n",
        "\n",
        "- but below code is not generalized\n",
        "so cant pass dim which we want.\n"
      ],
      "metadata": {
        "id": "0zrKsiJnw_wa"
      }
    },
    {
      "cell_type": "code",
      "source": [
        "torch.cat([emb[:,0,:],emb[:,1,:],emb[:,2,:]],1)"
      ],
      "metadata": {
        "colab": {
          "base_uri": "https://localhost:8080/"
        },
        "id": "kWigcn47csaA",
        "outputId": "a108feb0-52c0-491f-8486-6d860d50c09e"
      },
      "execution_count": 68,
      "outputs": [
        {
          "output_type": "execute_result",
          "data": {
            "text/plain": [
              "tensor([[ 0.2271, -0.2526,  0.2271, -0.2526,  0.2271, -0.2526],\n",
              "        [ 0.2271, -0.2526,  0.2271, -0.2526,  0.6295, -0.3166],\n",
              "        [ 0.2271, -0.2526,  0.6295, -0.3166, -2.1787,  0.2408],\n",
              "        [ 0.6295, -0.3166, -2.1787,  0.2408, -2.1787,  0.2408],\n",
              "        [-2.1787,  0.2408, -2.1787,  0.2408, -1.1527,  0.2431],\n",
              "        [ 0.2271, -0.2526,  0.2271, -0.2526,  0.2271, -0.2526],\n",
              "        [ 0.2271, -0.2526,  0.2271, -0.2526,  0.7925, -1.7941],\n",
              "        [ 0.2271, -0.2526,  0.7925, -1.7941, -1.0420, -1.3753],\n",
              "        [ 0.7925, -1.7941, -1.0420, -1.3753, -1.1558,  0.7241],\n",
              "        [-1.0420, -1.3753, -1.1558,  0.7241,  2.0339, -0.9479],\n",
              "        [-1.1558,  0.7241,  2.0339, -0.9479, -1.1558,  0.7241],\n",
              "        [ 2.0339, -0.9479, -1.1558,  0.7241, -1.1527,  0.2431],\n",
              "        [ 0.2271, -0.2526,  0.2271, -0.2526,  0.2271, -0.2526],\n",
              "        [ 0.2271, -0.2526,  0.2271, -0.2526, -1.1527,  0.2431],\n",
              "        [ 0.2271, -0.2526, -1.1527,  0.2431,  2.0339, -0.9479],\n",
              "        [-1.1527,  0.2431,  2.0339, -0.9479, -1.1527,  0.2431],\n",
              "        [ 0.2271, -0.2526,  0.2271, -0.2526,  0.2271, -0.2526],\n",
              "        [ 0.2271, -0.2526,  0.2271, -0.2526, -1.1558,  0.7241],\n",
              "        [ 0.2271, -0.2526, -1.1558,  0.7241,  0.0820, -0.5848],\n",
              "        [-1.1558,  0.7241,  0.0820, -0.5848, -1.1527,  0.2431],\n",
              "        [ 0.0820, -0.5848, -1.1527,  0.2431,  0.9183, -1.2229],\n",
              "        [-1.1527,  0.2431,  0.9183, -1.2229,  0.6295, -0.3166],\n",
              "        [ 0.9183, -1.2229,  0.6295, -0.3166, -1.0420, -1.3753],\n",
              "        [ 0.6295, -0.3166, -1.0420, -1.3753, -1.0420, -1.3753],\n",
              "        [-1.0420, -1.3753, -1.0420, -1.3753, -1.1527,  0.2431],\n",
              "        [ 0.2271, -0.2526,  0.2271, -0.2526,  0.2271, -0.2526],\n",
              "        [ 0.2271, -0.2526,  0.2271, -0.2526,  0.0820, -0.5848],\n",
              "        [ 0.2271, -0.2526,  0.0820, -0.5848,  0.7925, -1.7941],\n",
              "        [ 0.0820, -0.5848,  0.7925, -1.7941,  0.3572,  0.6294],\n",
              "        [ 0.7925, -1.7941,  0.3572,  0.6294,  1.6893,  1.3305],\n",
              "        [ 0.3572,  0.6294,  1.6893,  1.3305, -1.1558,  0.7241],\n",
              "        [ 1.6893,  1.3305, -1.1558,  0.7241, -1.1527,  0.2431]])"
            ]
          },
          "metadata": {},
          "execution_count": 68
        }
      ]
    },
    {
      "cell_type": "markdown",
      "source": [
        "- **generalization of above code**"
      ],
      "metadata": {
        "id": "UhK_TWbvgQ5l"
      }
    },
    {
      "cell_type": "code",
      "source": [
        "torch.cat(torch.unbind(emb,1),1)"
      ],
      "metadata": {
        "colab": {
          "base_uri": "https://localhost:8080/"
        },
        "id": "9ZwnvByHfzXH",
        "outputId": "52657004-7bc5-467d-d812-51a5ab43e2d5"
      },
      "execution_count": 69,
      "outputs": [
        {
          "output_type": "execute_result",
          "data": {
            "text/plain": [
              "tensor([[ 0.2271, -0.2526,  0.2271, -0.2526,  0.2271, -0.2526],\n",
              "        [ 0.2271, -0.2526,  0.2271, -0.2526,  0.6295, -0.3166],\n",
              "        [ 0.2271, -0.2526,  0.6295, -0.3166, -2.1787,  0.2408],\n",
              "        [ 0.6295, -0.3166, -2.1787,  0.2408, -2.1787,  0.2408],\n",
              "        [-2.1787,  0.2408, -2.1787,  0.2408, -1.1527,  0.2431],\n",
              "        [ 0.2271, -0.2526,  0.2271, -0.2526,  0.2271, -0.2526],\n",
              "        [ 0.2271, -0.2526,  0.2271, -0.2526,  0.7925, -1.7941],\n",
              "        [ 0.2271, -0.2526,  0.7925, -1.7941, -1.0420, -1.3753],\n",
              "        [ 0.7925, -1.7941, -1.0420, -1.3753, -1.1558,  0.7241],\n",
              "        [-1.0420, -1.3753, -1.1558,  0.7241,  2.0339, -0.9479],\n",
              "        [-1.1558,  0.7241,  2.0339, -0.9479, -1.1558,  0.7241],\n",
              "        [ 2.0339, -0.9479, -1.1558,  0.7241, -1.1527,  0.2431],\n",
              "        [ 0.2271, -0.2526,  0.2271, -0.2526,  0.2271, -0.2526],\n",
              "        [ 0.2271, -0.2526,  0.2271, -0.2526, -1.1527,  0.2431],\n",
              "        [ 0.2271, -0.2526, -1.1527,  0.2431,  2.0339, -0.9479],\n",
              "        [-1.1527,  0.2431,  2.0339, -0.9479, -1.1527,  0.2431],\n",
              "        [ 0.2271, -0.2526,  0.2271, -0.2526,  0.2271, -0.2526],\n",
              "        [ 0.2271, -0.2526,  0.2271, -0.2526, -1.1558,  0.7241],\n",
              "        [ 0.2271, -0.2526, -1.1558,  0.7241,  0.0820, -0.5848],\n",
              "        [-1.1558,  0.7241,  0.0820, -0.5848, -1.1527,  0.2431],\n",
              "        [ 0.0820, -0.5848, -1.1527,  0.2431,  0.9183, -1.2229],\n",
              "        [-1.1527,  0.2431,  0.9183, -1.2229,  0.6295, -0.3166],\n",
              "        [ 0.9183, -1.2229,  0.6295, -0.3166, -1.0420, -1.3753],\n",
              "        [ 0.6295, -0.3166, -1.0420, -1.3753, -1.0420, -1.3753],\n",
              "        [-1.0420, -1.3753, -1.0420, -1.3753, -1.1527,  0.2431],\n",
              "        [ 0.2271, -0.2526,  0.2271, -0.2526,  0.2271, -0.2526],\n",
              "        [ 0.2271, -0.2526,  0.2271, -0.2526,  0.0820, -0.5848],\n",
              "        [ 0.2271, -0.2526,  0.0820, -0.5848,  0.7925, -1.7941],\n",
              "        [ 0.0820, -0.5848,  0.7925, -1.7941,  0.3572,  0.6294],\n",
              "        [ 0.7925, -1.7941,  0.3572,  0.6294,  1.6893,  1.3305],\n",
              "        [ 0.3572,  0.6294,  1.6893,  1.3305, -1.1558,  0.7241],\n",
              "        [ 1.6893,  1.3305, -1.1558,  0.7241, -1.1527,  0.2431]])"
            ]
          },
          "metadata": {},
          "execution_count": 69
        }
      ]
    },
    {
      "cell_type": "code",
      "source": [
        "a = torch.arange(18)"
      ],
      "metadata": {
        "id": "Lj-XRHYyhFFz"
      },
      "execution_count": 70,
      "outputs": []
    },
    {
      "cell_type": "code",
      "source": [
        "a.shape"
      ],
      "metadata": {
        "colab": {
          "base_uri": "https://localhost:8080/"
        },
        "id": "WMxyHgA6hK0H",
        "outputId": "5d4aa523-9159-4d06-d733-2dd300c1339d"
      },
      "execution_count": 71,
      "outputs": [
        {
          "output_type": "execute_result",
          "data": {
            "text/plain": [
              "torch.Size([18])"
            ]
          },
          "metadata": {},
          "execution_count": 71
        }
      ]
    },
    {
      "cell_type": "code",
      "source": [
        "a.view(3,3,2)"
      ],
      "metadata": {
        "colab": {
          "base_uri": "https://localhost:8080/"
        },
        "id": "9OVYBrKSgP__",
        "outputId": "8ccf78f2-ef9f-49f3-fb30-35434c6e105d"
      },
      "execution_count": 72,
      "outputs": [
        {
          "output_type": "execute_result",
          "data": {
            "text/plain": [
              "tensor([[[ 0,  1],\n",
              "         [ 2,  3],\n",
              "         [ 4,  5]],\n",
              "\n",
              "        [[ 6,  7],\n",
              "         [ 8,  9],\n",
              "         [10, 11]],\n",
              "\n",
              "        [[12, 13],\n",
              "         [14, 15],\n",
              "         [16, 17]]])"
            ]
          },
          "metadata": {},
          "execution_count": 72
        }
      ]
    },
    {
      "cell_type": "code",
      "source": [
        "a.view(9,2)"
      ],
      "metadata": {
        "colab": {
          "base_uri": "https://localhost:8080/"
        },
        "id": "kvbduP3RhmAS",
        "outputId": "9869ddc8-ba6b-4a34-eded-768fa23a1f29"
      },
      "execution_count": 73,
      "outputs": [
        {
          "output_type": "execute_result",
          "data": {
            "text/plain": [
              "tensor([[ 0,  1],\n",
              "        [ 2,  3],\n",
              "        [ 4,  5],\n",
              "        [ 6,  7],\n",
              "        [ 8,  9],\n",
              "        [10, 11],\n",
              "        [12, 13],\n",
              "        [14, 15],\n",
              "        [16, 17]])"
            ]
          },
          "metadata": {},
          "execution_count": 73
        }
      ]
    },
    {
      "cell_type": "markdown",
      "source": [
        "- storage remains same but seen as different\n",
        "-Blog below goes in depth\n",
        "- http://blog.ezyang.com/2019/05/pytorch-internals/"
      ],
      "metadata": {
        "id": "CBl3lK7Chps6"
      }
    },
    {
      "cell_type": "markdown",
      "source": [
        "**Imp**\n",
        "- **In storage A tensor is always representated as one dim vector.**\n",
        "- **when we call view some internal attributes of view of tensor changes .**\n",
        "-**NO new memory is created or copied The storage is identical internal view is changed ( storge offset ,strid ,shapes).**\n",
        "- **Torch.cat creates now memory etc so not effecient as .view**"
      ],
      "metadata": {
        "id": "WzDBBJEGJUvD"
      }
    },
    {
      "cell_type": "code",
      "source": [
        "a.storage()"
      ],
      "metadata": {
        "colab": {
          "base_uri": "https://localhost:8080/"
        },
        "id": "ozFsA8DjgNmc",
        "outputId": "9a1d6dc1-9682-4d57-bbb2-2e664da397af"
      },
      "execution_count": 74,
      "outputs": [
        {
          "output_type": "execute_result",
          "data": {
            "text/plain": [
              " 0\n",
              " 1\n",
              " 2\n",
              " 3\n",
              " 4\n",
              " 5\n",
              " 6\n",
              " 7\n",
              " 8\n",
              " 9\n",
              " 10\n",
              " 11\n",
              " 12\n",
              " 13\n",
              " 14\n",
              " 15\n",
              " 16\n",
              " 17\n",
              "[torch.storage.TypedStorage(dtype=torch.int64, device=cpu) of size 18]"
            ]
          },
          "metadata": {},
          "execution_count": 74
        }
      ]
    },
    {
      "cell_type": "markdown",
      "source": [
        "- more effecient way ."
      ],
      "metadata": {
        "id": "u-aldns4ihtZ"
      }
    },
    {
      "cell_type": "code",
      "source": [
        "emb.shape"
      ],
      "metadata": {
        "colab": {
          "base_uri": "https://localhost:8080/"
        },
        "id": "kuA-q7HRG5WJ",
        "outputId": "1541a888-86d6-48ae-8ade-3c9aeeb10157"
      },
      "execution_count": 75,
      "outputs": [
        {
          "output_type": "execute_result",
          "data": {
            "text/plain": [
              "torch.Size([32, 3, 2])"
            ]
          },
          "metadata": {},
          "execution_count": 75
        }
      ]
    },
    {
      "cell_type": "code",
      "source": [
        "emb.view(32,6)"
      ],
      "metadata": {
        "colab": {
          "base_uri": "https://localhost:8080/"
        },
        "id": "92laibWoE_9h",
        "outputId": "a73a1db2-a456-48a6-99fa-6cbb35b80d4f"
      },
      "execution_count": 76,
      "outputs": [
        {
          "output_type": "execute_result",
          "data": {
            "text/plain": [
              "tensor([[ 0.2271, -0.2526,  0.2271, -0.2526,  0.2271, -0.2526],\n",
              "        [ 0.2271, -0.2526,  0.2271, -0.2526,  0.6295, -0.3166],\n",
              "        [ 0.2271, -0.2526,  0.6295, -0.3166, -2.1787,  0.2408],\n",
              "        [ 0.6295, -0.3166, -2.1787,  0.2408, -2.1787,  0.2408],\n",
              "        [-2.1787,  0.2408, -2.1787,  0.2408, -1.1527,  0.2431],\n",
              "        [ 0.2271, -0.2526,  0.2271, -0.2526,  0.2271, -0.2526],\n",
              "        [ 0.2271, -0.2526,  0.2271, -0.2526,  0.7925, -1.7941],\n",
              "        [ 0.2271, -0.2526,  0.7925, -1.7941, -1.0420, -1.3753],\n",
              "        [ 0.7925, -1.7941, -1.0420, -1.3753, -1.1558,  0.7241],\n",
              "        [-1.0420, -1.3753, -1.1558,  0.7241,  2.0339, -0.9479],\n",
              "        [-1.1558,  0.7241,  2.0339, -0.9479, -1.1558,  0.7241],\n",
              "        [ 2.0339, -0.9479, -1.1558,  0.7241, -1.1527,  0.2431],\n",
              "        [ 0.2271, -0.2526,  0.2271, -0.2526,  0.2271, -0.2526],\n",
              "        [ 0.2271, -0.2526,  0.2271, -0.2526, -1.1527,  0.2431],\n",
              "        [ 0.2271, -0.2526, -1.1527,  0.2431,  2.0339, -0.9479],\n",
              "        [-1.1527,  0.2431,  2.0339, -0.9479, -1.1527,  0.2431],\n",
              "        [ 0.2271, -0.2526,  0.2271, -0.2526,  0.2271, -0.2526],\n",
              "        [ 0.2271, -0.2526,  0.2271, -0.2526, -1.1558,  0.7241],\n",
              "        [ 0.2271, -0.2526, -1.1558,  0.7241,  0.0820, -0.5848],\n",
              "        [-1.1558,  0.7241,  0.0820, -0.5848, -1.1527,  0.2431],\n",
              "        [ 0.0820, -0.5848, -1.1527,  0.2431,  0.9183, -1.2229],\n",
              "        [-1.1527,  0.2431,  0.9183, -1.2229,  0.6295, -0.3166],\n",
              "        [ 0.9183, -1.2229,  0.6295, -0.3166, -1.0420, -1.3753],\n",
              "        [ 0.6295, -0.3166, -1.0420, -1.3753, -1.0420, -1.3753],\n",
              "        [-1.0420, -1.3753, -1.0420, -1.3753, -1.1527,  0.2431],\n",
              "        [ 0.2271, -0.2526,  0.2271, -0.2526,  0.2271, -0.2526],\n",
              "        [ 0.2271, -0.2526,  0.2271, -0.2526,  0.0820, -0.5848],\n",
              "        [ 0.2271, -0.2526,  0.0820, -0.5848,  0.7925, -1.7941],\n",
              "        [ 0.0820, -0.5848,  0.7925, -1.7941,  0.3572,  0.6294],\n",
              "        [ 0.7925, -1.7941,  0.3572,  0.6294,  1.6893,  1.3305],\n",
              "        [ 0.3572,  0.6294,  1.6893,  1.3305, -1.1558,  0.7241],\n",
              "        [ 1.6893,  1.3305, -1.1558,  0.7241, -1.1527,  0.2431]])"
            ]
          },
          "metadata": {},
          "execution_count": 76
        }
      ]
    },
    {
      "cell_type": "code",
      "source": [
        "emb.view(32,6) == torch.cat(torch.unbind(emb,1),1)"
      ],
      "metadata": {
        "colab": {
          "base_uri": "https://localhost:8080/"
        },
        "id": "_j7A7rY8hQvx",
        "outputId": "9de0f352-2246-4a25-de19-769f5d72d22f"
      },
      "execution_count": 77,
      "outputs": [
        {
          "output_type": "execute_result",
          "data": {
            "text/plain": [
              "tensor([[True, True, True, True, True, True],\n",
              "        [True, True, True, True, True, True],\n",
              "        [True, True, True, True, True, True],\n",
              "        [True, True, True, True, True, True],\n",
              "        [True, True, True, True, True, True],\n",
              "        [True, True, True, True, True, True],\n",
              "        [True, True, True, True, True, True],\n",
              "        [True, True, True, True, True, True],\n",
              "        [True, True, True, True, True, True],\n",
              "        [True, True, True, True, True, True],\n",
              "        [True, True, True, True, True, True],\n",
              "        [True, True, True, True, True, True],\n",
              "        [True, True, True, True, True, True],\n",
              "        [True, True, True, True, True, True],\n",
              "        [True, True, True, True, True, True],\n",
              "        [True, True, True, True, True, True],\n",
              "        [True, True, True, True, True, True],\n",
              "        [True, True, True, True, True, True],\n",
              "        [True, True, True, True, True, True],\n",
              "        [True, True, True, True, True, True],\n",
              "        [True, True, True, True, True, True],\n",
              "        [True, True, True, True, True, True],\n",
              "        [True, True, True, True, True, True],\n",
              "        [True, True, True, True, True, True],\n",
              "        [True, True, True, True, True, True],\n",
              "        [True, True, True, True, True, True],\n",
              "        [True, True, True, True, True, True],\n",
              "        [True, True, True, True, True, True],\n",
              "        [True, True, True, True, True, True],\n",
              "        [True, True, True, True, True, True],\n",
              "        [True, True, True, True, True, True],\n",
              "        [True, True, True, True, True, True]])"
            ]
          },
          "metadata": {},
          "execution_count": 77
        }
      ]
    },
    {
      "cell_type": "markdown",
      "source": [
        "- **Applying tanh function**"
      ],
      "metadata": {
        "id": "mpLGA8Va1elQ"
      }
    },
    {
      "cell_type": "code",
      "source": [
        "h= torch.tan(emb.view(-1,6) @ W1 + b1)"
      ],
      "metadata": {
        "id": "iaUy57qjj1Of"
      },
      "execution_count": 78,
      "outputs": []
    },
    {
      "cell_type": "code",
      "source": [
        "h"
      ],
      "metadata": {
        "colab": {
          "base_uri": "https://localhost:8080/"
        },
        "id": "olZE7XLdlNDK",
        "outputId": "06a4166b-179b-4e4f-dbd8-47df9cacf9e1"
      },
      "execution_count": 79,
      "outputs": [
        {
          "output_type": "execute_result",
          "data": {
            "text/plain": [
              "tensor([[ 1.1112,  0.2251, -4.9200,  ...,  0.2447, -1.7422, -0.1476],\n",
              "        [ 0.4610,  0.3467, -8.6866,  ...,  0.2456, -1.5506,  0.6131],\n",
              "        [ 0.6447, -0.0454, -0.0698,  ...,  0.3139, -2.2196, -3.6878],\n",
              "        ...,\n",
              "        [-1.2876,  1.9012, -0.1293,  ...,  0.4188,  3.0316,  1.0035],\n",
              "        [ 0.3100, -6.6332,  0.1267,  ...,  1.1571, -0.1379,  1.2167],\n",
              "        [-0.4990,  1.3169, -1.9888,  ..., -0.0236, -0.0544, -2.0584]])"
            ]
          },
          "metadata": {},
          "execution_count": 79
        }
      ]
    },
    {
      "cell_type": "markdown",
      "source": [
        "- inputs are 100\n",
        "- outputs are 27 ( possible category)\n",
        "- bias are 27"
      ],
      "metadata": {
        "id": "2ys9x1GQEoZn"
      }
    },
    {
      "cell_type": "code",
      "source": [
        "W2 = torch.randn((100,27))\n",
        "\n",
        "b2 = torch.randn(27)"
      ],
      "metadata": {
        "id": "-bs3Be6IlVlA"
      },
      "execution_count": 80,
      "outputs": []
    },
    {
      "cell_type": "markdown",
      "source": [
        "- logits = output of the neural net."
      ],
      "metadata": {
        "id": "3sa9yQ6-EzF_"
      }
    },
    {
      "cell_type": "code",
      "source": [
        "logits = h @ W2 +b2"
      ],
      "metadata": {
        "id": "YnqArQgwlOEI"
      },
      "execution_count": 81,
      "outputs": []
    },
    {
      "cell_type": "code",
      "source": [
        "logits.shape"
      ],
      "metadata": {
        "colab": {
          "base_uri": "https://localhost:8080/"
        },
        "id": "qVy8BCrXlpmp",
        "outputId": "56ff8e0a-2ce7-4709-9da0-ec235bc6e9d0"
      },
      "execution_count": 82,
      "outputs": [
        {
          "output_type": "execute_result",
          "data": {
            "text/plain": [
              "torch.Size([32, 27])"
            ]
          },
          "metadata": {},
          "execution_count": 82
        }
      ]
    },
    {
      "cell_type": "code",
      "source": [
        "counts = logits.exp()"
      ],
      "metadata": {
        "id": "2A87VcLvlqsP"
      },
      "execution_count": 83,
      "outputs": []
    },
    {
      "cell_type": "code",
      "source": [
        "# normalised\n",
        "prob = counts / counts.sum(1,keepdims=True)"
      ],
      "metadata": {
        "id": "RY5TmfK8lwv0"
      },
      "execution_count": 84,
      "outputs": []
    },
    {
      "cell_type": "markdown",
      "source": [
        "**Negative log loss**"
      ],
      "metadata": {
        "id": "urctM0u_3D9x"
      }
    },
    {
      "cell_type": "code",
      "source": [
        "loss = -prob[torch.arange(32),Y].log().mean()"
      ],
      "metadata": {
        "id": "H29njsbzl6zC"
      },
      "execution_count": 85,
      "outputs": []
    },
    {
      "cell_type": "code",
      "source": [
        "F.cross_entropy(logits,Y)"
      ],
      "metadata": {
        "colab": {
          "base_uri": "https://localhost:8080/"
        },
        "id": "ZTiID0Zaozoe",
        "outputId": "8aceed73-5e98-410b-fae0-1f7ad65f7fa7"
      },
      "execution_count": 86,
      "outputs": [
        {
          "output_type": "execute_result",
          "data": {
            "text/plain": [
              "tensor(532.8934)"
            ]
          },
          "metadata": {},
          "execution_count": 86
        }
      ]
    },
    {
      "cell_type": "markdown",
      "source": [
        "- we use F.cross entrophy because we we use formula we need to create new tensor in memory and backward pass is more effectien .\n",
        "- f.cross is numerically well behaved .\n",
        "- It internally normalize logits."
      ],
      "metadata": {
        "id": "OBxF-9773iUj"
      }
    },
    {
      "cell_type": "markdown",
      "source": [
        "### Full neural network  neural net"
      ],
      "metadata": {
        "id": "mO37afRoo-OX"
      }
    },
    {
      "cell_type": "markdown",
      "source": [
        "- Dataset\n",
        "- X - input is (32,3)(3 words )\n",
        "- Y -  labels (32)(expected word)\n",
        "\n"
      ],
      "metadata": {
        "id": "XNUWLGR7FJKZ"
      }
    },
    {
      "cell_type": "code",
      "source": [
        "X.shape , Y.shape"
      ],
      "metadata": {
        "colab": {
          "base_uri": "https://localhost:8080/"
        },
        "id": "LQszzUJxFEqK",
        "outputId": "26eeefde-4116-4ae7-a6c9-67efd081307b"
      },
      "execution_count": 87,
      "outputs": [
        {
          "output_type": "execute_result",
          "data": {
            "text/plain": [
              "(torch.Size([32, 3]), torch.Size([32]))"
            ]
          },
          "metadata": {},
          "execution_count": 87
        }
      ]
    },
    {
      "cell_type": "markdown",
      "source": [
        "1. g - This will ensure that the random numbers generated by the torch.randn functions are reproducible.\n",
        "2. This line creates a tensor C of shape (27, 10) and fills it with random numbers from a normal distribution with mean 0 and variance 1.\n",
        "\n",
        "3. w1,w2,b1,b2, weights and biases.\n",
        "\n",
        "4. parameters : This line creates a list parameters containing the tensors C, W1, b1, W2, and b2. This list will be used to train the neural network."
      ],
      "metadata": {
        "id": "Q8bAy4pPGGDW"
      }
    },
    {
      "cell_type": "code",
      "source": [
        "\n",
        "\n",
        "g = torch.Generator().manual_seed(2147483647) # for reproducibility\n",
        "C = torch.randn((27, 2), generator=g)\n",
        "W1 = torch.randn((6, 100), generator=g)\n",
        "b1 = torch.randn(100, generator=g)\n",
        "W2 = torch.randn((100, 27), generator=g)\n",
        "b2 = torch.randn(27, generator=g)\n",
        "parameters = [C, W1, b1, W2, b2]\n",
        "\n"
      ],
      "metadata": {
        "id": "HDqMG4_9FkZ6"
      },
      "execution_count": 118,
      "outputs": []
    },
    {
      "cell_type": "code",
      "source": [
        "for p in parameters:\n",
        "  p.requires_grad = True\n"
      ],
      "metadata": {
        "id": "VgSE6WWRZzCe"
      },
      "execution_count": 119,
      "outputs": []
    },
    {
      "cell_type": "markdown",
      "source": [
        "-  the sum function to calculate the total number of parameters in the list parameters\n",
        "\n",
        "- nelement() function is used to count the number of elements in a tensor."
      ],
      "metadata": {
        "id": "dfEwOMOl7Sww"
      }
    },
    {
      "cell_type": "code",
      "source": [
        "sum(p.nelement() for p in parameters) # number of parameters in total\n"
      ],
      "metadata": {
        "colab": {
          "base_uri": "https://localhost:8080/"
        },
        "id": "MbBxVMTs69po",
        "outputId": "794fb6bd-84be-4311-c156-91c274fa6606"
      },
      "execution_count": 90,
      "outputs": [
        {
          "output_type": "execute_result",
          "data": {
            "text/plain": [
              "3481"
            ]
          },
          "metadata": {},
          "execution_count": 90
        }
      ]
    },
    {
      "cell_type": "markdown",
      "source": [
        "- loof itertates over 1000 times.\n",
        "- emb is input data X passed  through embedding layer C .\n",
        "-\n",
        "\n",
        "- h is the hidden laeyer . we apply hyperbolic tangent activtion to matrix multiplication of input emb with w1 and bias\n",
        "\n",
        "-![Untitled Diagram.drawio.png](data:image/png;base64,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)\n"
      ],
      "metadata": {
        "id": "1Hm-Vfbq4CqG"
      }
    },
    {
      "cell_type": "code",
      "source": [
        "# fordward pass\n",
        "for _ in range(1000):\n",
        "  emb = C[X]\n",
        "  h = torch.tanh(emb.view(-1,6) @ W1 + b1 )\n",
        "  logits = h @ W2 +b2\n",
        "  loss = F.cross_entropy(logits ,Y)\n",
        "# backward pass\n",
        "  for  p in parameters:\n",
        "    p.grad = None\n",
        "  loss.backward()\n",
        "\n",
        "# update\n",
        "  for p in parameters:\n",
        "    p.data += -0.1 * p.grad\n",
        "\n",
        "print(loss.item())"
      ],
      "metadata": {
        "colab": {
          "base_uri": "https://localhost:8080/"
        },
        "id": "EICujWpl-DgV",
        "outputId": "002b2ad2-9ff8-499f-99e1-c4bdffa54fce"
      },
      "execution_count": 91,
      "outputs": [
        {
          "output_type": "stream",
          "name": "stdout",
          "text": [
            "0.2561509907245636\n"
          ]
        }
      ]
    },
    {
      "cell_type": "markdown",
      "source": [
        "- we are using lots of neurons but less examples so we are overfitting.\n",
        "\n"
      ],
      "metadata": {
        "id": "tmh6ez3T59ns"
      }
    },
    {
      "cell_type": "markdown",
      "source": [
        "- now lets take all examples."
      ],
      "metadata": {
        "id": "RzsnXohs6p0S"
      }
    },
    {
      "cell_type": "code",
      "source": [
        "# build the dataset\n",
        "block_size = 3 # context length: how many characters do we take to predict the next one?\n",
        "\n",
        "def build_dataset(words):\n",
        "  X, Y = [], []\n",
        "  for w in words:\n",
        "\n",
        "    #print(w)\n",
        "    context = [0] * block_size\n",
        "    for ch in w + '.':\n",
        "      ix = stoi[ch]\n",
        "      X.append(context)\n",
        "      Y.append(ix)\n",
        "      #print(''.join(itos[i] for i in context), '--->', itos[ix])\n",
        "      context = context[1:] + [ix] # crop and append\n",
        "\n",
        "  X = torch.tensor(X)\n",
        "  Y = torch.tensor(Y)"
      ],
      "metadata": {
        "id": "ODwEGwmB_kNX"
      },
      "execution_count": 92,
      "outputs": []
    },
    {
      "cell_type": "code",
      "source": [
        "for p in parameters:\n",
        "  p.require_grad = True"
      ],
      "metadata": {
        "id": "XsiEX0MO8aDm"
      },
      "execution_count": 93,
      "outputs": []
    },
    {
      "cell_type": "code",
      "source": [
        "for _ in range(10):\n",
        "\n",
        "\n",
        "  emb = C[X] # (32, 3, 2)\n",
        "  h = torch.tanh(emb.view(-1,6) @ W1 + b1) # (32, 100)\n",
        "  logits = h @ W2 + b2 # (32, 27)\n",
        "  loss = F.cross_entropy(logits, Y)\n",
        "  print(loss.item())\n",
        "  # backward pass\n",
        "  for p in parameters:\n",
        "    p.grad = None\n",
        "  loss.backward()\n",
        "  # update\n",
        "  for p in parameters:\n",
        "    p.data += -0.1 * p.grad\n",
        "\n"
      ],
      "metadata": {
        "colab": {
          "base_uri": "https://localhost:8080/"
        },
        "id": "UaU5zmtq6pSa",
        "outputId": "c9ee7f34-e9a0-4005-be9b-0bad4ecc3140"
      },
      "execution_count": 94,
      "outputs": [
        {
          "output_type": "stream",
          "name": "stdout",
          "text": [
            "0.2561323344707489\n",
            "0.25613996386528015\n",
            "0.2561213970184326\n",
            "0.2561289668083191\n",
            "0.2561105191707611\n",
            "0.2561180293560028\n",
            "0.2560997009277344\n",
            "0.2561071515083313\n",
            "0.25608891248703003\n",
            "0.25609633326530457\n"
          ]
        }
      ]
    },
    {
      "cell_type": "code",
      "source": [],
      "metadata": {
        "id": "bf-b5OaKsvI8"
      },
      "execution_count": null,
      "outputs": []
    },
    {
      "cell_type": "markdown",
      "source": [
        "### training split , dev/validation split , test split\n",
        "### 80% ,  10% , 10%\n",
        "\n",
        "- training split is used for training your neuralnet .\n",
        "- dev / val split is for hyperparameter try different hyperparameter and check which works best .\n",
        "- eval performance of your model .\n",
        "(use test split less no of times to avoid overfitting testsplit.\n"
      ],
      "metadata": {
        "id": "bdn9yU9meQIz"
      }
    },
    {
      "cell_type": "markdown",
      "source": [
        "- code for dataet generation is similar to above code .\n",
        "- we want to split the dataset into 3 splits .(training , test , split.)\n",
        "- we import random which provides us function to generate random numbers  and shuffling sequences.\n",
        "- random.seed sets is used for reproducibility by generating same random numbers each time .\n",
        "- n1 = int( 0.8 * len(words)) - we calculate index upto which training dataset extends 80% of length of data. same with n2 .\n",
        "-  Using build dataset we build dataset and pass word[:n1] for selecting words from index 0 to n1 .\n",
        "-  Using build dataset we build dataset and pass word[:n1] for selecting words from index 0 to n1 . xtr represents input-training , ytr represents label for training examples from xtr.\n"
      ],
      "metadata": {
        "id": "LCP3-pmETzxf"
      }
    },
    {
      "cell_type": "code",
      "source": [
        "# build the dataset\n",
        "block_size = 3 # context length: how many characters do we take to predict the next one?\n",
        "\n",
        "def build_dataset(words):\n",
        "  X, Y = [], []\n",
        "  for w in words:\n",
        "\n",
        "    #print(w)\n",
        "    context = [0] * block_size\n",
        "    for ch in w + '.':\n",
        "      ix = stoi[ch]\n",
        "      X.append(context)\n",
        "      Y.append(ix)\n",
        "      #print(''.join(itos[i] for i in context), '--->', itos[ix])\n",
        "      context = context[1:] + [ix] # crop and append\n",
        "\n",
        "  X = torch.tensor(X)\n",
        "  Y = torch.tensor(Y)\n",
        "  print(X.shape, Y.shape)\n",
        "  return X, Y\n",
        "\n",
        "import random\n",
        "random.seed(42)\n",
        "random.shuffle(words)\n",
        "n1 = int(0.8*len(words))\n",
        "n2 = int(0.9*len(words))\n",
        "\n",
        "Xtr, Ytr = build_dataset(words[:n1])\n",
        "Xdev, Ydev = build_dataset(words[n1:n2])\n",
        "Xte, Yte = build_dataset(words[n2:])\n"
      ],
      "metadata": {
        "id": "SKvevl4zebn5",
        "colab": {
          "base_uri": "https://localhost:8080/"
        },
        "outputId": "d5916213-1a5a-4b03-9519-fb66717fad7b"
      },
      "execution_count": 95,
      "outputs": [
        {
          "output_type": "stream",
          "name": "stdout",
          "text": [
            "torch.Size([182625, 3]) torch.Size([182625])\n",
            "torch.Size([22655, 3]) torch.Size([22655])\n",
            "torch.Size([22866, 3]) torch.Size([22866])\n"
          ]
        }
      ]
    },
    {
      "cell_type": "markdown",
      "source": [
        "- Creates a one-dimensional tensor of size steps whose values are evenly spaced from start to end, inclusive.\n",
        "- This is a list of learning rate .\n",
        "- we change learning rate over iteration.\n"
      ],
      "metadata": {
        "id": "IvDKBdFSwjMT"
      }
    },
    {
      "cell_type": "code",
      "source": [
        "lre = torch.linspace(-3,0,1000)\n",
        "lrs = 10**lre\n",
        "lrs"
      ],
      "metadata": {
        "colab": {
          "base_uri": "https://localhost:8080/"
        },
        "id": "p5GsyS4HvHtT",
        "outputId": "1d1a9d7d-08a3-46be-82f5-0b1f88ef6194"
      },
      "execution_count": 108,
      "outputs": [
        {
          "output_type": "execute_result",
          "data": {
            "text/plain": [
              "tensor([0.0010, 0.0010, 0.0010, 0.0010, 0.0010, 0.0010, 0.0010, 0.0010, 0.0011,\n",
              "        0.0011, 0.0011, 0.0011, 0.0011, 0.0011, 0.0011, 0.0011, 0.0011, 0.0011,\n",
              "        0.0011, 0.0011, 0.0011, 0.0012, 0.0012, 0.0012, 0.0012, 0.0012, 0.0012,\n",
              "        0.0012, 0.0012, 0.0012, 0.0012, 0.0012, 0.0012, 0.0013, 0.0013, 0.0013,\n",
              "        0.0013, 0.0013, 0.0013, 0.0013, 0.0013, 0.0013, 0.0013, 0.0013, 0.0014,\n",
              "        0.0014, 0.0014, 0.0014, 0.0014, 0.0014, 0.0014, 0.0014, 0.0014, 0.0014,\n",
              "        0.0015, 0.0015, 0.0015, 0.0015, 0.0015, 0.0015, 0.0015, 0.0015, 0.0015,\n",
              "        0.0015, 0.0016, 0.0016, 0.0016, 0.0016, 0.0016, 0.0016, 0.0016, 0.0016,\n",
              "        0.0016, 0.0017, 0.0017, 0.0017, 0.0017, 0.0017, 0.0017, 0.0017, 0.0017,\n",
              "        0.0018, 0.0018, 0.0018, 0.0018, 0.0018, 0.0018, 0.0018, 0.0018, 0.0019,\n",
              "        0.0019, 0.0019, 0.0019, 0.0019, 0.0019, 0.0019, 0.0019, 0.0020, 0.0020,\n",
              "        0.0020, 0.0020, 0.0020, 0.0020, 0.0020, 0.0021, 0.0021, 0.0021, 0.0021,\n",
              "        0.0021, 0.0021, 0.0021, 0.0022, 0.0022, 0.0022, 0.0022, 0.0022, 0.0022,\n",
              "        0.0022, 0.0023, 0.0023, 0.0023, 0.0023, 0.0023, 0.0023, 0.0024, 0.0024,\n",
              "        0.0024, 0.0024, 0.0024, 0.0024, 0.0025, 0.0025, 0.0025, 0.0025, 0.0025,\n",
              "        0.0025, 0.0026, 0.0026, 0.0026, 0.0026, 0.0026, 0.0027, 0.0027, 0.0027,\n",
              "        0.0027, 0.0027, 0.0027, 0.0028, 0.0028, 0.0028, 0.0028, 0.0028, 0.0029,\n",
              "        0.0029, 0.0029, 0.0029, 0.0029, 0.0030, 0.0030, 0.0030, 0.0030, 0.0030,\n",
              "        0.0031, 0.0031, 0.0031, 0.0031, 0.0032, 0.0032, 0.0032, 0.0032, 0.0032,\n",
              "        0.0033, 0.0033, 0.0033, 0.0033, 0.0034, 0.0034, 0.0034, 0.0034, 0.0034,\n",
              "        0.0035, 0.0035, 0.0035, 0.0035, 0.0036, 0.0036, 0.0036, 0.0036, 0.0037,\n",
              "        0.0037, 0.0037, 0.0037, 0.0038, 0.0038, 0.0038, 0.0039, 0.0039, 0.0039,\n",
              "        0.0039, 0.0040, 0.0040, 0.0040, 0.0040, 0.0041, 0.0041, 0.0041, 0.0042,\n",
              "        0.0042, 0.0042, 0.0042, 0.0043, 0.0043, 0.0043, 0.0044, 0.0044, 0.0044,\n",
              "        0.0045, 0.0045, 0.0045, 0.0045, 0.0046, 0.0046, 0.0046, 0.0047, 0.0047,\n",
              "        0.0047, 0.0048, 0.0048, 0.0048, 0.0049, 0.0049, 0.0049, 0.0050, 0.0050,\n",
              "        0.0050, 0.0051, 0.0051, 0.0051, 0.0052, 0.0052, 0.0053, 0.0053, 0.0053,\n",
              "        0.0054, 0.0054, 0.0054, 0.0055, 0.0055, 0.0056, 0.0056, 0.0056, 0.0057,\n",
              "        0.0057, 0.0058, 0.0058, 0.0058, 0.0059, 0.0059, 0.0060, 0.0060, 0.0060,\n",
              "        0.0061, 0.0061, 0.0062, 0.0062, 0.0062, 0.0063, 0.0063, 0.0064, 0.0064,\n",
              "        0.0065, 0.0065, 0.0066, 0.0066, 0.0067, 0.0067, 0.0067, 0.0068, 0.0068,\n",
              "        0.0069, 0.0069, 0.0070, 0.0070, 0.0071, 0.0071, 0.0072, 0.0072, 0.0073,\n",
              "        0.0073, 0.0074, 0.0074, 0.0075, 0.0075, 0.0076, 0.0076, 0.0077, 0.0077,\n",
              "        0.0078, 0.0079, 0.0079, 0.0080, 0.0080, 0.0081, 0.0081, 0.0082, 0.0082,\n",
              "        0.0083, 0.0084, 0.0084, 0.0085, 0.0085, 0.0086, 0.0086, 0.0087, 0.0088,\n",
              "        0.0088, 0.0089, 0.0090, 0.0090, 0.0091, 0.0091, 0.0092, 0.0093, 0.0093,\n",
              "        0.0094, 0.0095, 0.0095, 0.0096, 0.0097, 0.0097, 0.0098, 0.0099, 0.0099,\n",
              "        0.0100, 0.0101, 0.0101, 0.0102, 0.0103, 0.0104, 0.0104, 0.0105, 0.0106,\n",
              "        0.0106, 0.0107, 0.0108, 0.0109, 0.0109, 0.0110, 0.0111, 0.0112, 0.0112,\n",
              "        0.0113, 0.0114, 0.0115, 0.0116, 0.0116, 0.0117, 0.0118, 0.0119, 0.0120,\n",
              "        0.0121, 0.0121, 0.0122, 0.0123, 0.0124, 0.0125, 0.0126, 0.0127, 0.0127,\n",
              "        0.0128, 0.0129, 0.0130, 0.0131, 0.0132, 0.0133, 0.0134, 0.0135, 0.0136,\n",
              "        0.0137, 0.0137, 0.0138, 0.0139, 0.0140, 0.0141, 0.0142, 0.0143, 0.0144,\n",
              "        0.0145, 0.0146, 0.0147, 0.0148, 0.0149, 0.0150, 0.0151, 0.0152, 0.0154,\n",
              "        0.0155, 0.0156, 0.0157, 0.0158, 0.0159, 0.0160, 0.0161, 0.0162, 0.0163,\n",
              "        0.0165, 0.0166, 0.0167, 0.0168, 0.0169, 0.0170, 0.0171, 0.0173, 0.0174,\n",
              "        0.0175, 0.0176, 0.0178, 0.0179, 0.0180, 0.0181, 0.0182, 0.0184, 0.0185,\n",
              "        0.0186, 0.0188, 0.0189, 0.0190, 0.0192, 0.0193, 0.0194, 0.0196, 0.0197,\n",
              "        0.0198, 0.0200, 0.0201, 0.0202, 0.0204, 0.0205, 0.0207, 0.0208, 0.0210,\n",
              "        0.0211, 0.0212, 0.0214, 0.0215, 0.0217, 0.0218, 0.0220, 0.0221, 0.0223,\n",
              "        0.0225, 0.0226, 0.0228, 0.0229, 0.0231, 0.0232, 0.0234, 0.0236, 0.0237,\n",
              "        0.0239, 0.0241, 0.0242, 0.0244, 0.0246, 0.0247, 0.0249, 0.0251, 0.0253,\n",
              "        0.0254, 0.0256, 0.0258, 0.0260, 0.0261, 0.0263, 0.0265, 0.0267, 0.0269,\n",
              "        0.0271, 0.0273, 0.0274, 0.0276, 0.0278, 0.0280, 0.0282, 0.0284, 0.0286,\n",
              "        0.0288, 0.0290, 0.0292, 0.0294, 0.0296, 0.0298, 0.0300, 0.0302, 0.0304,\n",
              "        0.0307, 0.0309, 0.0311, 0.0313, 0.0315, 0.0317, 0.0320, 0.0322, 0.0324,\n",
              "        0.0326, 0.0328, 0.0331, 0.0333, 0.0335, 0.0338, 0.0340, 0.0342, 0.0345,\n",
              "        0.0347, 0.0350, 0.0352, 0.0354, 0.0357, 0.0359, 0.0362, 0.0364, 0.0367,\n",
              "        0.0369, 0.0372, 0.0375, 0.0377, 0.0380, 0.0382, 0.0385, 0.0388, 0.0390,\n",
              "        0.0393, 0.0396, 0.0399, 0.0401, 0.0404, 0.0407, 0.0410, 0.0413, 0.0416,\n",
              "        0.0418, 0.0421, 0.0424, 0.0427, 0.0430, 0.0433, 0.0436, 0.0439, 0.0442,\n",
              "        0.0445, 0.0448, 0.0451, 0.0455, 0.0458, 0.0461, 0.0464, 0.0467, 0.0471,\n",
              "        0.0474, 0.0477, 0.0480, 0.0484, 0.0487, 0.0491, 0.0494, 0.0497, 0.0501,\n",
              "        0.0504, 0.0508, 0.0511, 0.0515, 0.0518, 0.0522, 0.0526, 0.0529, 0.0533,\n",
              "        0.0537, 0.0540, 0.0544, 0.0548, 0.0552, 0.0556, 0.0559, 0.0563, 0.0567,\n",
              "        0.0571, 0.0575, 0.0579, 0.0583, 0.0587, 0.0591, 0.0595, 0.0599, 0.0604,\n",
              "        0.0608, 0.0612, 0.0616, 0.0621, 0.0625, 0.0629, 0.0634, 0.0638, 0.0642,\n",
              "        0.0647, 0.0651, 0.0656, 0.0660, 0.0665, 0.0670, 0.0674, 0.0679, 0.0684,\n",
              "        0.0688, 0.0693, 0.0698, 0.0703, 0.0708, 0.0713, 0.0718, 0.0723, 0.0728,\n",
              "        0.0733, 0.0738, 0.0743, 0.0748, 0.0753, 0.0758, 0.0764, 0.0769, 0.0774,\n",
              "        0.0780, 0.0785, 0.0790, 0.0796, 0.0802, 0.0807, 0.0813, 0.0818, 0.0824,\n",
              "        0.0830, 0.0835, 0.0841, 0.0847, 0.0853, 0.0859, 0.0865, 0.0871, 0.0877,\n",
              "        0.0883, 0.0889, 0.0895, 0.0901, 0.0908, 0.0914, 0.0920, 0.0927, 0.0933,\n",
              "        0.0940, 0.0946, 0.0953, 0.0959, 0.0966, 0.0973, 0.0979, 0.0986, 0.0993,\n",
              "        0.1000, 0.1007, 0.1014, 0.1021, 0.1028, 0.1035, 0.1042, 0.1050, 0.1057,\n",
              "        0.1064, 0.1072, 0.1079, 0.1087, 0.1094, 0.1102, 0.1109, 0.1117, 0.1125,\n",
              "        0.1133, 0.1140, 0.1148, 0.1156, 0.1164, 0.1172, 0.1181, 0.1189, 0.1197,\n",
              "        0.1205, 0.1214, 0.1222, 0.1231, 0.1239, 0.1248, 0.1256, 0.1265, 0.1274,\n",
              "        0.1283, 0.1292, 0.1301, 0.1310, 0.1319, 0.1328, 0.1337, 0.1346, 0.1356,\n",
              "        0.1365, 0.1374, 0.1384, 0.1394, 0.1403, 0.1413, 0.1423, 0.1433, 0.1443,\n",
              "        0.1453, 0.1463, 0.1473, 0.1483, 0.1493, 0.1504, 0.1514, 0.1525, 0.1535,\n",
              "        0.1546, 0.1557, 0.1567, 0.1578, 0.1589, 0.1600, 0.1611, 0.1623, 0.1634,\n",
              "        0.1645, 0.1657, 0.1668, 0.1680, 0.1691, 0.1703, 0.1715, 0.1727, 0.1739,\n",
              "        0.1751, 0.1763, 0.1775, 0.1788, 0.1800, 0.1812, 0.1825, 0.1838, 0.1850,\n",
              "        0.1863, 0.1876, 0.1889, 0.1902, 0.1916, 0.1929, 0.1942, 0.1956, 0.1969,\n",
              "        0.1983, 0.1997, 0.2010, 0.2024, 0.2038, 0.2053, 0.2067, 0.2081, 0.2096,\n",
              "        0.2110, 0.2125, 0.2140, 0.2154, 0.2169, 0.2184, 0.2200, 0.2215, 0.2230,\n",
              "        0.2246, 0.2261, 0.2277, 0.2293, 0.2309, 0.2325, 0.2341, 0.2357, 0.2373,\n",
              "        0.2390, 0.2406, 0.2423, 0.2440, 0.2457, 0.2474, 0.2491, 0.2508, 0.2526,\n",
              "        0.2543, 0.2561, 0.2579, 0.2597, 0.2615, 0.2633, 0.2651, 0.2669, 0.2688,\n",
              "        0.2707, 0.2725, 0.2744, 0.2763, 0.2783, 0.2802, 0.2821, 0.2841, 0.2861,\n",
              "        0.2880, 0.2900, 0.2921, 0.2941, 0.2961, 0.2982, 0.3002, 0.3023, 0.3044,\n",
              "        0.3065, 0.3087, 0.3108, 0.3130, 0.3151, 0.3173, 0.3195, 0.3217, 0.3240,\n",
              "        0.3262, 0.3285, 0.3308, 0.3331, 0.3354, 0.3377, 0.3400, 0.3424, 0.3448,\n",
              "        0.3472, 0.3496, 0.3520, 0.3544, 0.3569, 0.3594, 0.3619, 0.3644, 0.3669,\n",
              "        0.3695, 0.3720, 0.3746, 0.3772, 0.3798, 0.3825, 0.3851, 0.3878, 0.3905,\n",
              "        0.3932, 0.3959, 0.3987, 0.4014, 0.4042, 0.4070, 0.4098, 0.4127, 0.4155,\n",
              "        0.4184, 0.4213, 0.4243, 0.4272, 0.4302, 0.4331, 0.4362, 0.4392, 0.4422,\n",
              "        0.4453, 0.4484, 0.4515, 0.4546, 0.4578, 0.4610, 0.4642, 0.4674, 0.4706,\n",
              "        0.4739, 0.4772, 0.4805, 0.4838, 0.4872, 0.4906, 0.4940, 0.4974, 0.5008,\n",
              "        0.5043, 0.5078, 0.5113, 0.5149, 0.5185, 0.5221, 0.5257, 0.5293, 0.5330,\n",
              "        0.5367, 0.5404, 0.5442, 0.5479, 0.5517, 0.5556, 0.5594, 0.5633, 0.5672,\n",
              "        0.5712, 0.5751, 0.5791, 0.5831, 0.5872, 0.5913, 0.5954, 0.5995, 0.6036,\n",
              "        0.6078, 0.6120, 0.6163, 0.6206, 0.6249, 0.6292, 0.6336, 0.6380, 0.6424,\n",
              "        0.6469, 0.6513, 0.6559, 0.6604, 0.6650, 0.6696, 0.6743, 0.6789, 0.6837,\n",
              "        0.6884, 0.6932, 0.6980, 0.7028, 0.7077, 0.7126, 0.7176, 0.7225, 0.7275,\n",
              "        0.7326, 0.7377, 0.7428, 0.7480, 0.7531, 0.7584, 0.7636, 0.7689, 0.7743,\n",
              "        0.7796, 0.7850, 0.7905, 0.7960, 0.8015, 0.8071, 0.8127, 0.8183, 0.8240,\n",
              "        0.8297, 0.8355, 0.8412, 0.8471, 0.8530, 0.8589, 0.8648, 0.8708, 0.8769,\n",
              "        0.8830, 0.8891, 0.8953, 0.9015, 0.9077, 0.9140, 0.9204, 0.9268, 0.9332,\n",
              "        0.9397, 0.9462, 0.9528, 0.9594, 0.9660, 0.9727, 0.9795, 0.9863, 0.9931,\n",
              "        1.0000])"
            ]
          },
          "metadata": {},
          "execution_count": 108
        }
      ]
    },
    {
      "cell_type": "code",
      "source": [
        "lri = []\n",
        "lossi = []\n",
        "\n",
        "for i in range(1000):\n",
        "\n",
        "# mini batch .\n",
        "  ix = torch.randint(0,X.shape[0], (32,))\n",
        "# fordward pass\n",
        "  emb = C[Xtr[ix]]\n",
        "  h = torch.tanh(emb.view(-1,6) @ W1 + b1 )\n",
        "  logits = h @ W2 +b2\n",
        "  loss = F.cross_entropy(logits ,Ytr[ix])\n",
        "  print(loss.item())\n",
        "# backward pass\n",
        "  for  p in parameters:\n",
        "    p.grad = None\n",
        "  loss.backward()\n",
        "\n",
        "# update\n",
        "  lr = lrs[i]\n",
        "  for p in parameters:\n",
        "    p.data += -lr * p.grad\n",
        "\n",
        "  lri.append(lre[i])\n",
        "  lossi.append(loss.item())\n",
        "\n",
        "print(loss.item())"
      ],
      "metadata": {
        "colab": {
          "base_uri": "https://localhost:8080/"
        },
        "id": "ybaOwOGZs7un",
        "outputId": "6eaba302-043e-4955-e0af-ebf4aac0ceb0"
      },
      "execution_count": 125,
      "outputs": [
        {
          "output_type": "stream",
          "name": "stdout",
          "text": [
            "17.043758392333984\n",
            "16.658336639404297\n",
            "13.963586807250977\n",
            "17.578872680664062\n",
            "15.714320182800293\n",
            "16.245519638061523\n",
            "16.267417907714844\n",
            "16.51902198791504\n",
            "15.51821517944336\n",
            "16.46946907043457\n",
            "16.72240447998047\n",
            "17.57688331604004\n",
            "14.039510726928711\n",
            "16.342201232910156\n",
            "14.588495254516602\n",
            "17.1998233795166\n",
            "15.073675155639648\n",
            "14.188553810119629\n",
            "13.780924797058105\n",
            "16.0496883392334\n",
            "13.51556396484375\n",
            "16.661508560180664\n",
            "14.083731651306152\n",
            "15.8032808303833\n",
            "16.714611053466797\n",
            "13.33919906616211\n",
            "16.46307373046875\n",
            "14.45911979675293\n",
            "16.493192672729492\n",
            "15.617399215698242\n",
            "17.488100051879883\n",
            "16.7186279296875\n",
            "14.059288024902344\n",
            "13.818853378295898\n",
            "16.132366180419922\n",
            "16.75174903869629\n",
            "13.98834228515625\n",
            "16.20062828063965\n",
            "16.983373641967773\n",
            "14.207257270812988\n",
            "15.560197830200195\n",
            "13.075199127197266\n",
            "14.699819564819336\n",
            "14.814355850219727\n",
            "16.953683853149414\n",
            "12.903745651245117\n",
            "14.145373344421387\n",
            "15.068559646606445\n",
            "14.64299201965332\n",
            "13.44490909576416\n",
            "14.255614280700684\n",
            "14.870838165283203\n",
            "13.676072120666504\n",
            "15.359203338623047\n",
            "15.01770305633545\n",
            "14.32138729095459\n",
            "15.626141548156738\n",
            "14.010127067565918\n",
            "11.742242813110352\n",
            "12.751930236816406\n",
            "11.909610748291016\n",
            "14.086969375610352\n",
            "10.684542655944824\n",
            "11.260805130004883\n",
            "16.039756774902344\n",
            "13.1527681350708\n",
            "15.247116088867188\n",
            "15.389378547668457\n",
            "13.682597160339355\n",
            "14.871484756469727\n",
            "13.135759353637695\n",
            "14.793913841247559\n",
            "14.768086433410645\n",
            "13.596550941467285\n",
            "13.530776977539062\n",
            "15.60134220123291\n",
            "13.528745651245117\n",
            "14.588723182678223\n",
            "13.131532669067383\n",
            "11.703028678894043\n",
            "13.18598461151123\n",
            "13.160177230834961\n",
            "13.790501594543457\n",
            "13.605063438415527\n",
            "14.305355072021484\n",
            "14.607954978942871\n",
            "13.517008781433105\n",
            "16.96868896484375\n",
            "14.288732528686523\n",
            "12.845682144165039\n",
            "12.071555137634277\n",
            "16.50075340270996\n",
            "12.038239479064941\n",
            "12.946451187133789\n",
            "12.19034481048584\n",
            "11.978890419006348\n",
            "11.05284595489502\n",
            "11.798086166381836\n",
            "12.73199462890625\n",
            "12.634668350219727\n",
            "16.32240867614746\n",
            "12.775969505310059\n",
            "10.77835464477539\n",
            "11.405961036682129\n",
            "11.95461654663086\n",
            "10.965332984924316\n",
            "11.363072395324707\n",
            "10.788118362426758\n",
            "12.046114921569824\n",
            "10.69151782989502\n",
            "12.113473892211914\n",
            "13.026899337768555\n",
            "12.517112731933594\n",
            "12.142831802368164\n",
            "12.212906837463379\n",
            "11.249641418457031\n",
            "11.781725883483887\n",
            "12.514286994934082\n",
            "12.666284561157227\n",
            "10.841672897338867\n",
            "9.754217147827148\n",
            "11.536032676696777\n",
            "8.673136711120605\n",
            "12.322610855102539\n",
            "12.304923057556152\n",
            "10.519660949707031\n",
            "9.170859336853027\n",
            "11.322863578796387\n",
            "9.720335006713867\n",
            "11.769336700439453\n",
            "8.77406120300293\n",
            "12.123197555541992\n",
            "9.86266803741455\n",
            "9.884298324584961\n",
            "10.582557678222656\n",
            "11.07407283782959\n",
            "13.412755012512207\n",
            "10.33464241027832\n",
            "10.753911018371582\n",
            "11.902289390563965\n",
            "11.744329452514648\n",
            "12.08841323852539\n",
            "11.197565078735352\n",
            "9.155967712402344\n",
            "10.103827476501465\n",
            "9.51457405090332\n",
            "10.22960090637207\n",
            "12.19312572479248\n",
            "9.704944610595703\n",
            "10.296297073364258\n",
            "11.88221549987793\n",
            "6.310175895690918\n",
            "11.373248100280762\n",
            "10.07512092590332\n",
            "10.683710098266602\n",
            "10.22204875946045\n",
            "11.554291725158691\n",
            "9.647744178771973\n",
            "10.696313858032227\n",
            "11.716416358947754\n",
            "10.03344440460205\n",
            "11.012264251708984\n",
            "12.017370223999023\n",
            "7.080927848815918\n",
            "9.619402885437012\n",
            "9.940881729125977\n",
            "10.083745956420898\n",
            "6.981693744659424\n",
            "10.260528564453125\n",
            "10.09872817993164\n",
            "8.489289283752441\n",
            "8.92304515838623\n",
            "8.970135688781738\n",
            "9.2771635055542\n",
            "8.79349422454834\n",
            "8.058445930480957\n",
            "6.721906661987305\n",
            "8.622791290283203\n",
            "7.644233226776123\n",
            "8.526185989379883\n",
            "8.883091926574707\n",
            "7.786937713623047\n",
            "7.469659328460693\n",
            "10.57592487335205\n",
            "8.400973320007324\n",
            "8.129905700683594\n",
            "6.653523921966553\n",
            "9.238862037658691\n",
            "7.016933917999268\n",
            "6.068002700805664\n",
            "10.099480628967285\n",
            "9.558892250061035\n",
            "6.651184558868408\n",
            "7.1242780685424805\n",
            "9.758373260498047\n",
            "9.584257125854492\n",
            "7.00868034362793\n",
            "8.12494945526123\n",
            "6.310083866119385\n",
            "6.438837051391602\n",
            "7.958806991577148\n",
            "8.28779125213623\n",
            "9.457817077636719\n",
            "8.907307624816895\n",
            "8.92776107788086\n",
            "8.2188720703125\n",
            "6.015026092529297\n",
            "9.176993370056152\n",
            "8.713619232177734\n",
            "6.820122718811035\n",
            "6.992091178894043\n",
            "8.054926872253418\n",
            "6.648965358734131\n",
            "7.308582782745361\n",
            "8.03231143951416\n",
            "6.06787633895874\n",
            "10.295899391174316\n",
            "7.7362470626831055\n",
            "8.72578239440918\n",
            "5.640092849731445\n",
            "6.329051494598389\n",
            "6.54540491104126\n",
            "5.662046432495117\n",
            "8.023298263549805\n",
            "6.568327903747559\n",
            "6.513143062591553\n",
            "7.257115364074707\n",
            "7.121889591217041\n",
            "6.209689617156982\n",
            "5.150879859924316\n",
            "5.59487771987915\n",
            "8.158157348632812\n",
            "6.102662563323975\n",
            "5.525509834289551\n",
            "4.664703845977783\n",
            "6.771574020385742\n",
            "4.700723171234131\n",
            "5.609828948974609\n",
            "4.14105224609375\n",
            "4.8134050369262695\n",
            "6.674218654632568\n",
            "6.219318389892578\n",
            "7.3256635665893555\n",
            "7.20540189743042\n",
            "6.536465167999268\n",
            "7.505831718444824\n",
            "5.913247108459473\n",
            "6.419787883758545\n",
            "5.470058441162109\n",
            "4.610324382781982\n",
            "3.3159067630767822\n",
            "4.857876777648926\n",
            "5.823805332183838\n",
            "4.132129669189453\n",
            "4.911017894744873\n",
            "5.593189239501953\n",
            "5.487264633178711\n",
            "3.7592313289642334\n",
            "5.225828647613525\n",
            "5.0228986740112305\n",
            "5.563225269317627\n",
            "4.367039203643799\n",
            "6.019229412078857\n",
            "5.961627006530762\n",
            "5.754119873046875\n",
            "4.861090183258057\n",
            "4.531527519226074\n",
            "6.685343265533447\n",
            "3.770437240600586\n",
            "4.9111127853393555\n",
            "5.932796001434326\n",
            "6.189085483551025\n",
            "5.23140287399292\n",
            "5.101065635681152\n",
            "5.675511360168457\n",
            "4.88801908493042\n",
            "3.017737865447998\n",
            "2.9751453399658203\n",
            "3.6888763904571533\n",
            "6.117068290710449\n",
            "3.700934410095215\n",
            "3.707576274871826\n",
            "4.502123832702637\n",
            "4.295593738555908\n",
            "5.246044158935547\n",
            "5.774801731109619\n",
            "3.697725296020508\n",
            "3.0200774669647217\n",
            "4.514797687530518\n",
            "5.854996681213379\n",
            "4.703168869018555\n",
            "5.1580400466918945\n",
            "2.949265241622925\n",
            "4.644928932189941\n",
            "3.782003164291382\n",
            "3.038146734237671\n",
            "2.689469575881958\n",
            "3.737565279006958\n",
            "4.09187650680542\n",
            "3.7604641914367676\n",
            "3.5088469982147217\n",
            "4.3308539390563965\n",
            "5.705739974975586\n",
            "3.492949962615967\n",
            "3.8846535682678223\n",
            "2.7985105514526367\n",
            "2.8486616611480713\n",
            "2.9678187370300293\n",
            "5.044924259185791\n",
            "2.1335108280181885\n",
            "3.3922922611236572\n",
            "2.3657774925231934\n",
            "4.3514084815979\n",
            "2.976203203201294\n",
            "4.997604846954346\n",
            "3.7331364154815674\n",
            "3.3595974445343018\n",
            "2.121893882751465\n",
            "2.2626068592071533\n",
            "3.3556461334228516\n",
            "3.8758718967437744\n",
            "3.3331751823425293\n",
            "2.942595958709717\n",
            "4.508630752563477\n",
            "4.005650997161865\n",
            "2.793856620788574\n",
            "3.383697509765625\n",
            "4.8900370597839355\n",
            "2.591475248336792\n",
            "1.8722622394561768\n",
            "2.6972358226776123\n",
            "2.510345697402954\n",
            "3.651026964187622\n",
            "2.6391184329986572\n",
            "4.010655879974365\n",
            "2.0885207653045654\n",
            "2.742225170135498\n",
            "2.8991148471832275\n",
            "2.478306293487549\n",
            "2.5263750553131104\n",
            "1.7992634773254395\n",
            "1.3304110765457153\n",
            "2.490294933319092\n",
            "0.7309372425079346\n",
            "2.6204721927642822\n",
            "2.1086924076080322\n",
            "3.6424732208251953\n",
            "3.749422311782837\n",
            "2.120177984237671\n",
            "2.8505966663360596\n",
            "2.242799758911133\n",
            "2.280862808227539\n",
            "2.488187074661255\n",
            "1.66139817237854\n",
            "2.1089699268341064\n",
            "2.9252207279205322\n",
            "3.612515926361084\n",
            "2.1388144493103027\n",
            "2.264388084411621\n",
            "3.1699326038360596\n",
            "1.7493994235992432\n",
            "2.861947774887085\n",
            "0.9584747552871704\n",
            "2.426866054534912\n",
            "1.5625369548797607\n",
            "2.2851195335388184\n",
            "1.1918269395828247\n",
            "1.5667622089385986\n",
            "2.1581871509552\n",
            "1.2829291820526123\n",
            "2.0539588928222656\n",
            "2.4104771614074707\n",
            "1.4153225421905518\n",
            "2.715660333633423\n",
            "1.7853214740753174\n",
            "1.7974214553833008\n",
            "1.375239610671997\n",
            "2.5994904041290283\n",
            "1.7013614177703857\n",
            "1.5459774732589722\n",
            "2.17059063911438\n",
            "1.8831318616867065\n",
            "3.076622247695923\n",
            "2.1880393028259277\n",
            "1.5783967971801758\n",
            "1.5419458150863647\n",
            "2.224677324295044\n",
            "2.62095046043396\n",
            "1.452968955039978\n",
            "2.593384027481079\n",
            "1.2624902725219727\n",
            "1.680911660194397\n",
            "1.2056946754455566\n",
            "0.677234947681427\n",
            "2.5007033348083496\n",
            "1.6187336444854736\n",
            "1.5567855834960938\n",
            "0.8965639472007751\n",
            "0.9613140225410461\n",
            "0.833436131477356\n",
            "0.9417850971221924\n",
            "1.4315639734268188\n",
            "0.8373328447341919\n",
            "1.4850538969039917\n",
            "1.0488826036453247\n",
            "1.3365684747695923\n",
            "0.427936315536499\n",
            "2.6362876892089844\n",
            "0.9664652347564697\n",
            "1.5296871662139893\n",
            "0.8987873792648315\n",
            "1.9238063097000122\n",
            "1.1818746328353882\n",
            "1.400120496749878\n",
            "1.612129807472229\n",
            "1.9250737428665161\n",
            "1.4319026470184326\n",
            "0.934499204158783\n",
            "1.0499683618545532\n",
            "0.9526427984237671\n",
            "0.9792231321334839\n",
            "0.8874198794364929\n",
            "1.493877649307251\n",
            "0.7878889441490173\n",
            "0.9732240438461304\n",
            "1.6108287572860718\n",
            "0.30364757776260376\n",
            "0.8673232793807983\n",
            "1.1234897375106812\n",
            "1.056032419204712\n",
            "0.859714686870575\n",
            "2.0600922107696533\n",
            "1.1834298372268677\n",
            "0.791254997253418\n",
            "2.1561520099639893\n",
            "0.9199384450912476\n",
            "0.5188630223274231\n",
            "0.9752120971679688\n",
            "1.2243149280548096\n",
            "2.152038097381592\n",
            "0.9692435264587402\n",
            "2.006986379623413\n",
            "0.4526239037513733\n",
            "0.9239169955253601\n",
            "0.8638237714767456\n",
            "1.4037091732025146\n",
            "0.8028107285499573\n",
            "0.2526029944419861\n",
            "0.4899941086769104\n",
            "0.7062708139419556\n",
            "1.4064013957977295\n",
            "1.4120534658432007\n",
            "0.9088360667228699\n",
            "0.6558338403701782\n",
            "0.564681351184845\n",
            "0.5731849074363708\n",
            "0.9995481371879578\n",
            "0.6331329941749573\n",
            "0.8842543959617615\n",
            "0.5808896422386169\n",
            "0.9191856384277344\n",
            "0.7942603230476379\n",
            "0.5591846704483032\n",
            "0.6761044859886169\n",
            "0.8049802780151367\n",
            "0.520733118057251\n",
            "0.8212714195251465\n",
            "0.3690601885318756\n",
            "1.3617063760757446\n",
            "0.694590151309967\n",
            "0.5380812883377075\n",
            "0.5091894268989563\n",
            "0.48853641748428345\n",
            "0.6546559929847717\n",
            "0.36225607991218567\n",
            "0.2997128963470459\n",
            "0.42450717091560364\n",
            "1.0478473901748657\n",
            "0.5953783392906189\n",
            "0.28934311866760254\n",
            "0.62824946641922\n",
            "0.49862417578697205\n",
            "0.5931094884872437\n",
            "0.7162748575210571\n",
            "0.31752124428749084\n",
            "0.4147610664367676\n",
            "0.5632867813110352\n",
            "0.5939441919326782\n",
            "0.5072986483573914\n",
            "0.43291908502578735\n",
            "0.6536925435066223\n",
            "0.376238614320755\n",
            "0.4267377555370331\n",
            "0.4485051929950714\n",
            "0.46854275465011597\n",
            "0.3314160704612732\n",
            "0.28840094804763794\n",
            "0.48922717571258545\n",
            "0.6570206880569458\n",
            "0.6202799677848816\n",
            "0.46649691462516785\n",
            "0.45269814133644104\n",
            "0.32767078280448914\n",
            "0.5227020978927612\n",
            "0.4075794219970703\n",
            "0.4303847849369049\n",
            "0.5830346941947937\n",
            "0.4644642472267151\n",
            "0.3857354521751404\n",
            "0.44616782665252686\n",
            "0.6837398409843445\n",
            "0.490809828042984\n",
            "0.5799180269241333\n",
            "0.3645078241825104\n",
            "0.2969532310962677\n",
            "0.2874760925769806\n",
            "0.2772958278656006\n",
            "0.23665378987789154\n",
            "0.2963313162326813\n",
            "0.43722885847091675\n",
            "0.5329988598823547\n",
            "0.4416750371456146\n",
            "0.4298779368400574\n",
            "0.34995952248573303\n",
            "0.34239691495895386\n",
            "0.3179072141647339\n",
            "0.3958672881126404\n",
            "0.35922926664352417\n",
            "0.2124578356742859\n",
            "0.37669411301612854\n",
            "0.1677863746881485\n",
            "0.31148943305015564\n",
            "0.38407522439956665\n",
            "0.5588763356208801\n",
            "0.3580344617366791\n",
            "0.36924299597740173\n",
            "0.2735597789287567\n",
            "0.27940428256988525\n",
            "0.537661075592041\n",
            "0.20123782753944397\n",
            "0.23038052022457123\n",
            "0.15297333896160126\n",
            "0.30405133962631226\n",
            "0.40030694007873535\n",
            "0.30256417393684387\n",
            "0.42568090558052063\n",
            "0.5814914107322693\n",
            "0.27689945697784424\n",
            "0.6018969416618347\n",
            "0.4752642810344696\n",
            "0.4713415801525116\n",
            "0.6510197520256042\n",
            "0.22714611887931824\n",
            "0.23239818215370178\n",
            "0.3779137432575226\n",
            "0.3365183472633362\n",
            "0.2398691028356552\n",
            "0.4646722078323364\n",
            "0.17578905820846558\n",
            "0.32529157400131226\n",
            "0.3517245054244995\n",
            "0.3304589092731476\n",
            "0.3547566533088684\n",
            "0.4548068940639496\n",
            "0.3093208968639374\n",
            "0.39265239238739014\n",
            "0.18478773534297943\n",
            "0.16833443939685822\n",
            "0.10701636224985123\n",
            "0.25472062826156616\n",
            "0.3634485900402069\n",
            "0.5612436532974243\n",
            "0.36768901348114014\n",
            "0.3785534203052521\n",
            "0.3424396812915802\n",
            "0.5155764222145081\n",
            "0.3148699402809143\n",
            "0.3133257031440735\n",
            "0.33935609459877014\n",
            "0.1918194591999054\n",
            "0.3455049395561218\n",
            "0.30290037393569946\n",
            "0.5254460573196411\n",
            "0.5532954335212708\n",
            "0.25514405965805054\n",
            "0.22883136570453644\n",
            "0.2380995899438858\n",
            "0.45100319385528564\n",
            "0.30767515301704407\n",
            "0.5024343132972717\n",
            "0.5314915180206299\n",
            "0.3468780219554901\n",
            "0.5160629153251648\n",
            "0.5353406667709351\n",
            "0.42485955357551575\n",
            "0.30796027183532715\n",
            "0.3507428467273712\n",
            "0.33860543370246887\n",
            "0.3440823256969452\n",
            "0.4404587149620056\n",
            "0.2965346872806549\n",
            "0.3357048034667969\n",
            "0.3298218548297882\n",
            "0.1417521983385086\n",
            "0.29532989859580994\n",
            "0.32950669527053833\n",
            "0.34481099247932434\n",
            "0.3736153542995453\n",
            "0.33619797229766846\n",
            "0.37907591462135315\n",
            "0.11981517821550369\n",
            "0.37389546632766724\n",
            "0.5351012349128723\n",
            "0.3368639647960663\n",
            "0.4209623336791992\n",
            "0.47237852215766907\n",
            "0.13105958700180054\n",
            "0.41371822357177734\n",
            "0.3630357086658478\n",
            "0.31380757689476013\n",
            "0.35293781757354736\n",
            "0.27852338552474976\n",
            "0.40751582384109497\n",
            "0.5098423361778259\n",
            "0.1850777417421341\n",
            "0.2828713059425354\n",
            "0.24697227776050568\n",
            "0.12924829125404358\n",
            "0.3114388585090637\n",
            "0.27978187799453735\n",
            "0.5606045126914978\n",
            "0.2622089684009552\n",
            "0.2547827661037445\n",
            "0.26319676637649536\n",
            "0.34443527460098267\n",
            "0.3275396525859833\n",
            "0.19061605632305145\n",
            "0.20418082177639008\n",
            "0.26387539505958557\n",
            "0.275832861661911\n",
            "0.2357185184955597\n",
            "0.40099379420280457\n",
            "0.42870235443115234\n",
            "0.588589608669281\n",
            "0.27493229508399963\n",
            "0.2633141875267029\n",
            "0.310678631067276\n",
            "0.22479009628295898\n",
            "0.24308928847312927\n",
            "0.4987136721611023\n",
            "0.1603323370218277\n",
            "0.3672577142715454\n",
            "0.31212395429611206\n",
            "0.30729883909225464\n",
            "0.23682184517383575\n",
            "0.41017991304397583\n",
            "0.20442691445350647\n",
            "0.40856513381004333\n",
            "0.418503075838089\n",
            "0.29636722803115845\n",
            "0.3955361843109131\n",
            "0.07916571199893951\n",
            "0.14676876366138458\n",
            "0.35667288303375244\n",
            "0.33725619316101074\n",
            "0.35131722688674927\n",
            "0.20118571817874908\n",
            "0.46124857664108276\n",
            "0.25877827405929565\n",
            "0.39625898003578186\n",
            "0.3728925883769989\n",
            "0.4943714439868927\n",
            "0.3756619095802307\n",
            "0.22057168185710907\n",
            "0.21124175190925598\n",
            "0.4754101634025574\n",
            "0.4640232026576996\n",
            "0.1813286989927292\n",
            "0.17115768790245056\n",
            "0.21560944616794586\n",
            "0.5647741556167603\n",
            "0.4482080936431885\n",
            "0.36491337418556213\n",
            "0.547484815120697\n",
            "0.35850420594215393\n",
            "0.30764535069465637\n",
            "0.22919026017189026\n",
            "0.32183942198753357\n",
            "0.32959097623825073\n",
            "0.3481220304965973\n",
            "0.33883053064346313\n",
            "0.3541630208492279\n",
            "0.3977086544036865\n",
            "0.1534581333398819\n",
            "0.46991804242134094\n",
            "0.29121503233909607\n",
            "0.4074120819568634\n",
            "0.3768787086009979\n",
            "0.41567283868789673\n",
            "0.32247301936149597\n",
            "0.26520851254463196\n",
            "0.484183669090271\n",
            "0.3488018214702606\n",
            "0.2450031042098999\n",
            "0.4091607332229614\n",
            "0.2218772917985916\n",
            "0.1928856074810028\n",
            "0.2697707414627075\n",
            "0.271487295627594\n",
            "0.25820550322532654\n",
            "0.42693382501602173\n",
            "0.32269078493118286\n",
            "0.23755398392677307\n",
            "0.3671989142894745\n",
            "0.21947777271270752\n",
            "0.19078321754932404\n",
            "0.07996346056461334\n",
            "0.3170173764228821\n",
            "0.4455585479736328\n",
            "0.47441813349723816\n",
            "0.32564762234687805\n",
            "0.312751442193985\n",
            "0.2994338274002075\n",
            "0.23289553821086884\n",
            "0.34471866488456726\n",
            "0.06265971809625626\n",
            "0.2642281651496887\n",
            "0.4521137773990631\n",
            "0.5393420457839966\n",
            "0.2056185007095337\n",
            "0.225270077586174\n",
            "0.43410226702690125\n",
            "0.5854642987251282\n",
            "0.3605269491672516\n",
            "0.1781926155090332\n",
            "0.4091975688934326\n",
            "0.36464160680770874\n",
            "0.4734121859073639\n",
            "0.37344953417778015\n",
            "0.709662139415741\n",
            "0.5541444420814514\n",
            "0.6049224734306335\n",
            "0.44745486974716187\n",
            "0.2290266454219818\n",
            "0.5062583088874817\n",
            "0.5451414585113525\n",
            "0.7083436250686646\n",
            "0.42750799655914307\n",
            "0.24941909313201904\n",
            "0.5950809717178345\n",
            "0.20158322155475616\n",
            "0.42461326718330383\n",
            "0.25469955801963806\n",
            "0.26072749495506287\n",
            "0.30103570222854614\n",
            "0.6031652688980103\n",
            "0.2163933366537094\n",
            "0.1839783638715744\n",
            "0.4090215861797333\n",
            "0.34361374378204346\n",
            "0.08947601914405823\n",
            "0.6019093990325928\n",
            "0.03579685837030411\n",
            "0.10381932556629181\n",
            "0.5602165460586548\n",
            "0.14741156995296478\n",
            "0.1615491807460785\n",
            "0.2617071866989136\n",
            "0.129209503531456\n",
            "0.16024057567119598\n",
            "0.2915987968444824\n",
            "0.27880626916885376\n",
            "0.05349479615688324\n",
            "0.2978474497795105\n",
            "0.2740252614021301\n",
            "0.20722879469394684\n",
            "0.3962841033935547\n",
            "0.15327540040016174\n",
            "0.34033459424972534\n",
            "0.1963728964328766\n",
            "0.40962961316108704\n",
            "0.4217372536659241\n",
            "0.4996981918811798\n",
            "0.4037564992904663\n",
            "0.36089280247688293\n",
            "0.5222314596176147\n",
            "0.2356114685535431\n",
            "0.18755589425563812\n",
            "0.28766000270843506\n",
            "0.4724734425544739\n",
            "0.40101251006126404\n",
            "0.13193649053573608\n",
            "0.1644762009382248\n",
            "0.1856769323348999\n",
            "0.11723342537879944\n",
            "0.08149620145559311\n",
            "0.17968332767486572\n",
            "0.28615835309028625\n",
            "0.127766415476799\n",
            "0.21478547155857086\n",
            "0.47745993733406067\n",
            "0.14300408959388733\n",
            "0.22109518945217133\n",
            "0.23561860620975494\n",
            "0.2723003923892975\n",
            "0.33475950360298157\n",
            "0.22749482095241547\n",
            "0.41856133937835693\n",
            "0.4539163112640381\n",
            "0.24815785884857178\n",
            "0.5160733461380005\n",
            "0.2942888140678406\n",
            "0.28843867778778076\n",
            "0.3988494873046875\n",
            "0.6283673048019409\n",
            "0.36067163944244385\n",
            "0.3239632546901703\n",
            "0.3060956299304962\n",
            "0.2532297372817993\n",
            "0.27945980429649353\n",
            "0.37905409932136536\n",
            "0.9402328133583069\n",
            "0.15932446718215942\n",
            "0.476593941450119\n",
            "0.5389917492866516\n",
            "0.7092185020446777\n",
            "0.6165776252746582\n",
            "0.5252110958099365\n",
            "0.4377988874912262\n",
            "0.5380113124847412\n",
            "0.3770335614681244\n",
            "0.028443725779652596\n",
            "0.4835388958454132\n",
            "0.48730725049972534\n",
            "0.6476771831512451\n",
            "0.4540392756462097\n",
            "0.028058666735887527\n",
            "0.2643767297267914\n",
            "0.22022074460983276\n",
            "0.3469304144382477\n",
            "0.11619143187999725\n",
            "0.13524380326271057\n",
            "0.22307449579238892\n",
            "0.3214889466762543\n",
            "0.2961503267288208\n",
            "0.4203546345233917\n",
            "0.778367817401886\n",
            "0.3164266049861908\n",
            "0.5501932501792908\n",
            "0.3620654344558716\n",
            "0.25558406114578247\n",
            "0.5301145911216736\n",
            "0.0691356360912323\n",
            "0.6016353368759155\n",
            "0.42576274275779724\n",
            "0.014204039238393307\n",
            "0.35767480731010437\n",
            "0.2161628156900406\n",
            "0.3777008652687073\n",
            "0.2716015875339508\n",
            "0.3604219853878021\n",
            "0.3731260895729065\n",
            "0.261665940284729\n",
            "0.38554003834724426\n",
            "0.2886330783367157\n",
            "0.4091354310512543\n",
            "0.28609809279441833\n",
            "0.308519184589386\n",
            "0.47151491045951843\n",
            "0.42586207389831543\n",
            "0.3053572475910187\n",
            "0.2706683874130249\n",
            "0.44877514243125916\n",
            "0.4472447335720062\n",
            "0.469795823097229\n",
            "0.6823817491531372\n",
            "0.33488449454307556\n",
            "0.27802643179893494\n",
            "0.42082759737968445\n",
            "0.23037578165531158\n",
            "0.7355028986930847\n",
            "0.996073842048645\n",
            "0.24149590730667114\n",
            "0.5021160244941711\n",
            "0.43998265266418457\n",
            "1.0684218406677246\n",
            "0.19125092029571533\n",
            "1.30501389503479\n",
            "1.6957762241363525\n",
            "0.3822254538536072\n",
            "0.21370024979114532\n",
            "0.6961653232574463\n",
            "0.41304412484169006\n",
            "0.9180834293365479\n",
            "0.5300213694572449\n",
            "0.5397677421569824\n",
            "0.3789028525352478\n",
            "0.6747152209281921\n",
            "0.34285449981689453\n",
            "0.22753284871578217\n",
            "0.5411542654037476\n",
            "0.12118744105100632\n",
            "0.7567907571792603\n",
            "0.6319667100906372\n",
            "0.48857933282852173\n",
            "0.5212373733520508\n",
            "0.686773419380188\n",
            "0.8137964010238647\n",
            "0.9245301485061646\n",
            "1.00544273853302\n",
            "0.16446441411972046\n",
            "0.6596724987030029\n",
            "0.6357276439666748\n",
            "0.4389879107475281\n",
            "0.42642778158187866\n",
            "1.888588786125183\n",
            "0.6591606140136719\n",
            "0.05271812528371811\n",
            "0.490278959274292\n",
            "0.46828171610832214\n",
            "0.13443484902381897\n",
            "0.5644082427024841\n",
            "0.477266401052475\n",
            "0.8274486064910889\n",
            "0.4628422260284424\n",
            "0.23040427267551422\n",
            "1.2091113328933716\n",
            "0.7861292362213135\n",
            "0.29539042711257935\n",
            "0.7007678151130676\n",
            "0.5261984467506409\n",
            "0.29476574063301086\n",
            "0.438079297542572\n",
            "0.6875935792922974\n",
            "0.1459183394908905\n",
            "0.7903077602386475\n",
            "0.3303523659706116\n",
            "0.7321413159370422\n",
            "1.131435751914978\n",
            "0.3843528628349304\n",
            "0.28896379470825195\n",
            "0.6500111222267151\n",
            "0.8646557927131653\n",
            "0.5894696116447449\n",
            "1.0582408905029297\n",
            "0.9194456338882446\n",
            "0.2802772521972656\n",
            "1.7615318298339844\n",
            "3.319819927215576\n",
            "1.186663269996643\n",
            "0.5599968433380127\n",
            "0.9594706892967224\n",
            "0.1264135241508484\n",
            "1.8632324934005737\n",
            "1.0188795328140259\n",
            "1.079769492149353\n",
            "1.0517760515213013\n",
            "1.0885767936706543\n",
            "1.7137188911437988\n",
            "1.150516390800476\n",
            "0.5315737724304199\n",
            "3.1618151664733887\n",
            "1.0240370035171509\n",
            "1.7570104598999023\n",
            "1.1555602550506592\n",
            "2.3149728775024414\n",
            "1.2891899347305298\n",
            "0.2536240518093109\n",
            "0.332454115152359\n",
            "0.6141893267631531\n",
            "0.28146180510520935\n",
            "0.5502585768699646\n",
            "0.11364204436540604\n",
            "0.4494132995605469\n",
            "1.073222279548645\n",
            "2.4401490688323975\n",
            "0.8973583579063416\n",
            "0.9426385760307312\n",
            "0.5721301436424255\n",
            "1.517719030380249\n",
            "0.5400514006614685\n",
            "0.8713400959968567\n",
            "1.1779687404632568\n",
            "0.43092256784439087\n",
            "0.27052420377731323\n",
            "0.37045803666114807\n",
            "0.6796708106994629\n",
            "0.27848342061042786\n",
            "0.5837671756744385\n",
            "0.3950408399105072\n",
            "0.8905182480812073\n",
            "0.4175319969654083\n",
            "0.37897181510925293\n",
            "0.3575175702571869\n",
            "1.1780009269714355\n",
            "0.2069968432188034\n",
            "0.42917531728744507\n",
            "0.701817512512207\n",
            "1.3245290517807007\n",
            "1.0950515270233154\n",
            "1.0950515270233154\n"
          ]
        }
      ]
    },
    {
      "cell_type": "code",
      "source": [
        "from matplotlib import pyplot as plt"
      ],
      "metadata": {
        "id": "KR5TTmUGx6zY"
      },
      "execution_count": 126,
      "outputs": []
    },
    {
      "cell_type": "code",
      "source": [
        "plt.plot(lri,lossi)"
      ],
      "metadata": {
        "colab": {
          "base_uri": "https://localhost:8080/",
          "height": 447
        },
        "id": "8cllGhWPx2-n",
        "outputId": "84e84ed3-a13c-46da-b79b-211fad8d4693"
      },
      "execution_count": 127,
      "outputs": [
        {
          "output_type": "execute_result",
          "data": {
            "text/plain": [
              "[<matplotlib.lines.Line2D at 0x7f1e7170a350>]"
            ]
          },
          "metadata": {},
          "execution_count": 127
        },
        {
          "output_type": "display_data",
          "data": {
            "text/plain": [
              "<Figure size 640x480 with 1 Axes>"
            ],
            "image/png": "[encoded data removed]"
          },
          "metadata": {}
        }
      ]
    },
    {
      "cell_type": "code",
      "source": [
        "torch.randint(0, X.shape[0],(32,))"
      ],
      "metadata": {
        "colab": {
          "base_uri": "https://localhost:8080/"
        },
        "id": "PSVYFYJ5tECw",
        "outputId": "b637754e-be3b-4e54-f1aa-2dee94859a26"
      },
      "execution_count": 98,
      "outputs": [
        {
          "output_type": "execute_result",
          "data": {
            "text/plain": [
              "tensor([30, 16,  0,  7, 27,  9, 27, 30, 27, 21,  5, 29, 21, 16,  2,  8, 22, 27,\n",
              "        30,  5,  6, 26, 23,  6, 21,  5,  4,  4,  0, 30,  9, 17])"
            ]
          },
          "metadata": {},
          "execution_count": 98
        }
      ]
    },
    {
      "cell_type": "code",
      "source": [],
      "metadata": {
        "id": "fCDDAnuUSp_R"
      },
      "execution_count": 95,
      "outputs": []
    }
  ]
}